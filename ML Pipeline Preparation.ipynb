{
 "cells": [
  {
   "cell_type": "markdown",
   "metadata": {},
   "source": [
    "# ML Pipeline Preparation\n",
    "Follow the instructions below to help you create your ML pipeline.\n",
    "### 1. Import libraries and load data from database.\n",
    "- Import Python libraries\n",
    "- Load dataset from database with [`read_sql_table`](https://pandas.pydata.org/pandas-docs/stable/generated/pandas.read_sql_table.html)\n",
    "- Define feature and target variables X and Y"
   ]
  },
  {
   "cell_type": "code",
   "execution_count": 1,
   "metadata": {},
   "outputs": [
    {
     "name": "stderr",
     "output_type": "stream",
     "text": [
      "[nltk_data] Downloading package punkt to\n",
      "[nltk_data]     C:\\Users\\2100\\AppData\\Roaming\\nltk_data...\n",
      "[nltk_data]   Package punkt is already up-to-date!\n",
      "[nltk_data] Downloading package wordnet to\n",
      "[nltk_data]     C:\\Users\\2100\\AppData\\Roaming\\nltk_data...\n",
      "[nltk_data]   Package wordnet is already up-to-date!\n",
      "[nltk_data] Downloading package omw-1.4 to\n",
      "[nltk_data]     C:\\Users\\2100\\AppData\\Roaming\\nltk_data...\n",
      "[nltk_data]   Package omw-1.4 is already up-to-date!\n"
     ]
    },
    {
     "data": {
      "text/plain": [
       "True"
      ]
     },
     "execution_count": 1,
     "metadata": {},
     "output_type": "execute_result"
    }
   ],
   "source": [
    "# import libraries\n",
    "import pandas as pd\n",
    "import numpy as np\n",
    "from sqlalchemy import create_engine\n",
    "from nltk.tokenize import word_tokenize\n",
    "from nltk.stem import WordNetLemmatizer\n",
    "from sklearn.pipeline import Pipeline\n",
    "from sklearn.feature_extraction.text import CountVectorizer, TfidfTransformer\n",
    "from sklearn.multioutput import MultiOutputClassifier\n",
    "from sklearn.tree import DecisionTreeClassifier\n",
    "from sklearn.neighbors import KNeighborsClassifier\n",
    "from sklearn.ensemble import RandomForestClassifier\n",
    "from sklearn.model_selection import train_test_split, GridSearchCV\n",
    "from sklearn.preprocessing import MultiLabelBinarizer\n",
    "from sklearn.metrics import classification_report\n",
    "import pickle\n",
    "\n",
    "import nltk\n",
    "nltk.download(['punkt', 'wordnet', 'omw-1.4'])"
   ]
  },
  {
   "cell_type": "code",
   "execution_count": 2,
   "metadata": {},
   "outputs": [],
   "source": [
    "# load data from database\n",
    "engine = create_engine('sqlite:///.\\data\\DisasterResponse.db')\n",
    "df = pd.read_sql('SELECT * FROM messages', engine)\n",
    "X = df.message.values\n",
    "Y = df.drop(['id', 'message', 'original', 'genre'], axis = 1).values"
   ]
  },
  {
   "cell_type": "markdown",
   "metadata": {},
   "source": [
    "### 2. Write a tokenization function to process your text data"
   ]
  },
  {
   "cell_type": "code",
   "execution_count": 3,
   "metadata": {},
   "outputs": [],
   "source": [
    "def tokenize(text):\n",
    "    \n",
    "    tokens = word_tokenize(text)\n",
    "    lemmatizer = WordNetLemmatizer()\n",
    "    \n",
    "    clean_tokens = []\n",
    "    for tok in tokens:\n",
    "        clean_tok = lemmatizer.lemmatize(tok).lower().strip()\n",
    "        clean_tokens.append(clean_tok)\n",
    "\n",
    "    return clean_tokens"
   ]
  },
  {
   "cell_type": "markdown",
   "metadata": {},
   "source": [
    "### 3. Build a machine learning pipeline\n",
    "This machine pipeline should take in the `message` column as input and output classification results on the other 36 categories in the dataset. You may find the [MultiOutputClassifier](http://scikit-learn.org/stable/modules/generated/sklearn.multioutput.MultiOutputClassifier.html) helpful for predicting multiple target variables."
   ]
  },
  {
   "cell_type": "code",
   "execution_count": 4,
   "metadata": {},
   "outputs": [],
   "source": [
    "pipeline = Pipeline([\n",
    "    ('vect', CountVectorizer(tokenizer=tokenize)),\n",
    "    ('tfidf', TfidfTransformer()),\n",
    "    ('clf', MultiOutputClassifier(DecisionTreeClassifier()))\n",
    "])"
   ]
  },
  {
   "cell_type": "markdown",
   "metadata": {},
   "source": [
    "### 4. Train pipeline\n",
    "- Split data into train and test sets\n",
    "- Train pipeline"
   ]
  },
  {
   "cell_type": "code",
   "execution_count": 5,
   "metadata": {},
   "outputs": [],
   "source": [
    "X_train, X_test, Y_train, Y_test = train_test_split(X, Y)"
   ]
  },
  {
   "cell_type": "code",
   "execution_count": 6,
   "metadata": {
    "tags": []
   },
   "outputs": [
    {
     "data": {
      "text/plain": [
       "Pipeline(steps=[('vect',\n",
       "                 CountVectorizer(tokenizer=<function tokenize at 0x00000253C1CAF280>)),\n",
       "                ('tfidf', TfidfTransformer()),\n",
       "                ('clf',\n",
       "                 MultiOutputClassifier(estimator=DecisionTreeClassifier()))])"
      ]
     },
     "execution_count": 6,
     "metadata": {},
     "output_type": "execute_result"
    }
   ],
   "source": [
    "pipeline.fit(X_train, Y_train)"
   ]
  },
  {
   "cell_type": "markdown",
   "metadata": {},
   "source": [
    "### 5. Test your model\n",
    "Report the f1 score, precision and recall for each output category of the dataset. You can do this by iterating through the columns and calling sklearn's `classification_report` on each."
   ]
  },
  {
   "cell_type": "code",
   "execution_count": 7,
   "metadata": {},
   "outputs": [],
   "source": [
    "Y_pred = pipeline.predict(X_test)"
   ]
  },
  {
   "cell_type": "code",
   "execution_count": 8,
   "metadata": {},
   "outputs": [],
   "source": [
    "range_columns = range(len(Y[0])-1)\n",
    "range_rows_test = range(len(Y_test)-1)\n",
    "range_rows_pred = range(len(Y_pred)-1)"
   ]
  },
  {
   "cell_type": "code",
   "execution_count": 9,
   "metadata": {
    "scrolled": true,
    "tags": []
   },
   "outputs": [],
   "source": [
    "report = dict.fromkeys(range_columns, [])\n",
    "for col in range_columns:\n",
    "    Y_test_col = [Y_test[i][col] for i in range_rows_test]\n",
    "    Y_pred_col = [Y_pred[i][col] for i in range_rows_pred]\n",
    "    try:\n",
    "        target_names = np.unique(Y_test_col).astype('str')\n",
    "        report[col] = classification_report(Y_test_col, Y_pred_col, target_names=target_names)\n",
    "    except:\n",
    "        target_names = np.unique(Y_pred_col).astype('str')\n",
    "        report[col] = classification_report(Y_test_col, Y_pred_col, target_names=target_names)"
   ]
  },
  {
   "cell_type": "code",
   "execution_count": 10,
   "metadata": {
    "scrolled": true,
    "tags": []
   },
   "outputs": [
    {
     "name": "stdout",
     "output_type": "stream",
     "text": [
      "              precision    recall  f1-score   support\n",
      "\n",
      "           0       0.47      0.44      0.45      1572\n",
      "           1       0.82      0.84      0.83      4924\n",
      "           2       0.30      0.12      0.18        48\n",
      "\n",
      "    accuracy                           0.74      6544\n",
      "   macro avg       0.53      0.47      0.49      6544\n",
      "weighted avg       0.73      0.74      0.74      6544\n",
      "\n",
      "              precision    recall  f1-score   support\n",
      "\n",
      "           0       0.92      0.91      0.91      5469\n",
      "           1       0.55      0.59      0.57      1075\n",
      "\n",
      "    accuracy                           0.85      6544\n",
      "   macro avg       0.73      0.75      0.74      6544\n",
      "weighted avg       0.86      0.85      0.85      6544\n",
      "\n",
      "              precision    recall  f1-score   support\n",
      "\n",
      "           0       1.00      1.00      1.00      6517\n",
      "           1       0.00      0.00      0.00        27\n",
      "\n",
      "    accuracy                           0.99      6544\n",
      "   macro avg       0.50      0.50      0.50      6544\n",
      "weighted avg       0.99      0.99      0.99      6544\n",
      "\n",
      "              precision    recall  f1-score   support\n",
      "\n",
      "           0       0.74      0.73      0.74      3858\n",
      "           1       0.62      0.63      0.62      2686\n",
      "\n",
      "    accuracy                           0.69      6544\n",
      "   macro avg       0.68      0.68      0.68      6544\n",
      "weighted avg       0.69      0.69      0.69      6544\n",
      "\n",
      "              precision    recall  f1-score   support\n",
      "\n",
      "           0       0.94      0.95      0.95      6018\n",
      "           1       0.37      0.34      0.35       526\n",
      "\n",
      "    accuracy                           0.90      6544\n",
      "   macro avg       0.66      0.64      0.65      6544\n",
      "weighted avg       0.90      0.90      0.90      6544\n",
      "\n",
      "              precision    recall  f1-score   support\n",
      "\n",
      "           0       0.97      0.97      0.97      6232\n",
      "           1       0.39      0.41      0.40       312\n",
      "\n",
      "    accuracy                           0.94      6544\n",
      "   macro avg       0.68      0.69      0.68      6544\n",
      "weighted avg       0.94      0.94      0.94      6544\n",
      "\n",
      "              precision    recall  f1-score   support\n",
      "\n",
      "           0       0.98      0.98      0.98      6357\n",
      "           1       0.21      0.19      0.20       187\n",
      "\n",
      "    accuracy                           0.96      6544\n",
      "   macro avg       0.59      0.58      0.59      6544\n",
      "weighted avg       0.95      0.96      0.96      6544\n",
      "\n",
      "              precision    recall  f1-score   support\n",
      "\n",
      "           0       0.98      0.98      0.98      6421\n",
      "           1       0.07      0.07      0.07       123\n",
      "\n",
      "    accuracy                           0.97      6544\n",
      "   macro avg       0.52      0.52      0.52      6544\n",
      "weighted avg       0.96      0.97      0.97      6544\n",
      "\n",
      "              precision    recall  f1-score   support\n",
      "\n",
      "           0       0.98      0.98      0.98      6319\n",
      "           1       0.42      0.39      0.40       225\n",
      "\n",
      "    accuracy                           0.96      6544\n",
      "   macro avg       0.70      0.68      0.69      6544\n",
      "weighted avg       0.96      0.96      0.96      6544\n",
      "\n",
      "              precision    recall  f1-score   support\n",
      "\n",
      "           0       1.00      1.00      1.00      6544\n",
      "\n",
      "    accuracy                           1.00      6544\n",
      "   macro avg       1.00      1.00      1.00      6544\n",
      "weighted avg       1.00      1.00      1.00      6544\n",
      "\n",
      "              precision    recall  f1-score   support\n",
      "\n",
      "           0       0.98      0.98      0.98      6143\n",
      "           1       0.65      0.64      0.65       401\n",
      "\n",
      "    accuracy                           0.96      6544\n",
      "   macro avg       0.81      0.81      0.81      6544\n",
      "weighted avg       0.96      0.96      0.96      6544\n",
      "\n",
      "              precision    recall  f1-score   support\n",
      "\n",
      "           0       0.97      0.96      0.96      5814\n",
      "           1       0.72      0.73      0.72       730\n",
      "\n",
      "    accuracy                           0.94      6544\n",
      "   macro avg       0.84      0.85      0.84      6544\n",
      "weighted avg       0.94      0.94      0.94      6544\n",
      "\n",
      "              precision    recall  f1-score   support\n",
      "\n",
      "           0       0.96      0.96      0.96      5993\n",
      "           1       0.57      0.59      0.58       551\n",
      "\n",
      "    accuracy                           0.93      6544\n",
      "   macro avg       0.77      0.77      0.77      6544\n",
      "weighted avg       0.93      0.93      0.93      6544\n",
      "\n",
      "              precision    recall  f1-score   support\n",
      "\n",
      "           0       0.99      0.99      0.99      6437\n",
      "           1       0.56      0.50      0.53       107\n",
      "\n",
      "    accuracy                           0.99      6544\n",
      "   macro avg       0.78      0.74      0.76      6544\n",
      "weighted avg       0.98      0.99      0.99      6544\n",
      "\n",
      "              precision    recall  f1-score   support\n",
      "\n",
      "           0       0.98      0.99      0.99      6397\n",
      "           1       0.38      0.34      0.36       147\n",
      "\n",
      "    accuracy                           0.97      6544\n",
      "   macro avg       0.68      0.66      0.67      6544\n",
      "weighted avg       0.97      0.97      0.97      6544\n",
      "\n",
      "              precision    recall  f1-score   support\n",
      "\n",
      "           0       0.99      0.99      0.99      6466\n",
      "           1       0.26      0.24      0.25        78\n",
      "\n",
      "    accuracy                           0.98      6544\n",
      "   macro avg       0.62      0.62      0.62      6544\n",
      "weighted avg       0.98      0.98      0.98      6544\n",
      "\n",
      "              precision    recall  f1-score   support\n",
      "\n",
      "           0       0.98      0.98      0.98      6327\n",
      "           1       0.35      0.34      0.34       217\n",
      "\n",
      "    accuracy                           0.96      6544\n",
      "   macro avg       0.66      0.66      0.66      6544\n",
      "weighted avg       0.96      0.96      0.96      6544\n",
      "\n",
      "              precision    recall  f1-score   support\n",
      "\n",
      "           0       0.98      0.98      0.98      6238\n",
      "           1       0.59      0.55      0.57       306\n",
      "\n",
      "    accuracy                           0.96      6544\n",
      "   macro avg       0.79      0.76      0.77      6544\n",
      "weighted avg       0.96      0.96      0.96      6544\n",
      "\n",
      "              precision    recall  f1-score   support\n",
      "\n",
      "           0       0.89      0.90      0.89      5689\n",
      "           1       0.28      0.27      0.27       855\n",
      "\n",
      "    accuracy                           0.81      6544\n",
      "   macro avg       0.58      0.58      0.58      6544\n",
      "weighted avg       0.81      0.81      0.81      6544\n",
      "\n",
      "              precision    recall  f1-score   support\n",
      "\n",
      "           0       0.94      0.96      0.95      6115\n",
      "           1       0.20      0.16      0.17       429\n",
      "\n",
      "    accuracy                           0.90      6544\n",
      "   macro avg       0.57      0.56      0.56      6544\n",
      "weighted avg       0.89      0.90      0.90      6544\n",
      "\n",
      "              precision    recall  f1-score   support\n",
      "\n",
      "           0       0.96      0.97      0.96      6227\n",
      "           1       0.27      0.25      0.26       317\n",
      "\n",
      "    accuracy                           0.93      6544\n",
      "   macro avg       0.62      0.61      0.61      6544\n",
      "weighted avg       0.93      0.93      0.93      6544\n",
      "\n",
      "              precision    recall  f1-score   support\n",
      "\n",
      "           0       0.97      0.97      0.97      6213\n",
      "           1       0.45      0.42      0.43       331\n",
      "\n",
      "    accuracy                           0.94      6544\n",
      "   macro avg       0.71      0.69      0.70      6544\n",
      "weighted avg       0.94      0.94      0.94      6544\n",
      "\n",
      "              precision    recall  f1-score   support\n",
      "\n",
      "           0       0.99      0.99      0.99      6425\n",
      "           1       0.38      0.38      0.38       119\n",
      "\n",
      "    accuracy                           0.98      6544\n",
      "   macro avg       0.68      0.68      0.68      6544\n",
      "weighted avg       0.98      0.98      0.98      6544\n",
      "\n",
      "              precision    recall  f1-score   support\n",
      "\n",
      "           0       0.99      1.00      0.99      6499\n",
      "           1       0.06      0.04      0.05        45\n",
      "\n",
      "    accuracy                           0.99      6544\n",
      "   macro avg       0.53      0.52      0.52      6544\n",
      "weighted avg       0.99      0.99      0.99      6544\n",
      "\n",
      "              precision    recall  f1-score   support\n",
      "\n",
      "           0       0.99      0.99      0.99      6478\n",
      "           1       0.15      0.17      0.16        66\n",
      "\n",
      "    accuracy                           0.98      6544\n",
      "   macro avg       0.57      0.58      0.57      6544\n",
      "weighted avg       0.98      0.98      0.98      6544\n",
      "\n",
      "              precision    recall  f1-score   support\n",
      "\n",
      "           0       1.00      1.00      1.00      6511\n",
      "           1       0.05      0.03      0.04        33\n",
      "\n",
      "    accuracy                           0.99      6544\n",
      "   macro avg       0.52      0.51      0.52      6544\n",
      "weighted avg       0.99      0.99      0.99      6544\n",
      "\n",
      "              precision    recall  f1-score   support\n",
      "\n",
      "           0       0.99      0.99      0.99      6458\n",
      "           1       0.20      0.13      0.16        86\n",
      "\n",
      "    accuracy                           0.98      6544\n",
      "   macro avg       0.60      0.56      0.57      6544\n",
      "weighted avg       0.98      0.98      0.98      6544\n",
      "\n",
      "              precision    recall  f1-score   support\n",
      "\n",
      "           0       0.96      0.97      0.96      6256\n",
      "           1       0.18      0.15      0.17       288\n",
      "\n",
      "    accuracy                           0.93      6544\n",
      "   macro avg       0.57      0.56      0.57      6544\n",
      "weighted avg       0.93      0.93      0.93      6544\n",
      "\n",
      "              precision    recall  f1-score   support\n",
      "\n",
      "           0       0.89      0.89      0.89      4753\n",
      "           1       0.72      0.71      0.71      1791\n",
      "\n",
      "    accuracy                           0.84      6544\n",
      "   macro avg       0.80      0.80      0.80      6544\n",
      "weighted avg       0.84      0.84      0.84      6544\n",
      "\n",
      "              precision    recall  f1-score   support\n",
      "\n",
      "           0       0.96      0.97      0.96      6002\n",
      "           1       0.61      0.54      0.58       542\n",
      "\n",
      "    accuracy                           0.93      6544\n",
      "   macro avg       0.79      0.76      0.77      6544\n",
      "weighted avg       0.93      0.93      0.93      6544\n",
      "\n",
      "              precision    recall  f1-score   support\n",
      "\n",
      "           0       0.96      0.97      0.96      5923\n",
      "           1       0.66      0.63      0.64       621\n",
      "\n",
      "    accuracy                           0.93      6544\n",
      "   macro avg       0.81      0.80      0.80      6544\n",
      "weighted avg       0.93      0.93      0.93      6544\n",
      "\n",
      "              precision    recall  f1-score   support\n",
      "\n",
      "           0       0.99      0.99      0.99      6471\n",
      "           1       0.29      0.30      0.30        73\n",
      "\n",
      "    accuracy                           0.98      6544\n",
      "   macro avg       0.64      0.65      0.64      6544\n",
      "weighted avg       0.98      0.98      0.98      6544\n",
      "\n",
      "              precision    recall  f1-score   support\n",
      "\n",
      "           0       0.98      0.98      0.98      5984\n",
      "           1       0.77      0.79      0.78       560\n",
      "\n",
      "    accuracy                           0.96      6544\n",
      "   macro avg       0.88      0.88      0.88      6544\n",
      "weighted avg       0.96      0.96      0.96      6544\n",
      "\n",
      "              precision    recall  f1-score   support\n",
      "\n",
      "           0       0.99      0.99      0.99      6419\n",
      "           1       0.41      0.48      0.44       125\n",
      "\n",
      "    accuracy                           0.98      6544\n",
      "   macro avg       0.70      0.73      0.72      6544\n",
      "weighted avg       0.98      0.98      0.98      6544\n",
      "\n",
      "              precision    recall  f1-score   support\n",
      "\n",
      "           0       0.96      0.96      0.96      6190\n",
      "           1       0.28      0.25      0.26       354\n",
      "\n",
      "    accuracy                           0.93      6544\n",
      "   macro avg       0.62      0.61      0.61      6544\n",
      "weighted avg       0.92      0.93      0.92      6544\n",
      "\n"
     ]
    }
   ],
   "source": [
    "for k in report.keys():\n",
    "    print(report[k])"
   ]
  },
  {
   "cell_type": "markdown",
   "metadata": {},
   "source": [
    "### 6. Improve your model\n",
    "Use grid search to find better parameters. "
   ]
  },
  {
   "cell_type": "code",
   "execution_count": 11,
   "metadata": {},
   "outputs": [
    {
     "data": {
      "text/plain": [
       "{'memory': None,\n",
       " 'steps': [('vect',\n",
       "   CountVectorizer(tokenizer=<function tokenize at 0x00000253C1CAF280>)),\n",
       "  ('tfidf', TfidfTransformer()),\n",
       "  ('clf', MultiOutputClassifier(estimator=DecisionTreeClassifier()))],\n",
       " 'verbose': False,\n",
       " 'vect': CountVectorizer(tokenizer=<function tokenize at 0x00000253C1CAF280>),\n",
       " 'tfidf': TfidfTransformer(),\n",
       " 'clf': MultiOutputClassifier(estimator=DecisionTreeClassifier()),\n",
       " 'vect__analyzer': 'word',\n",
       " 'vect__binary': False,\n",
       " 'vect__decode_error': 'strict',\n",
       " 'vect__dtype': numpy.int64,\n",
       " 'vect__encoding': 'utf-8',\n",
       " 'vect__input': 'content',\n",
       " 'vect__lowercase': True,\n",
       " 'vect__max_df': 1.0,\n",
       " 'vect__max_features': None,\n",
       " 'vect__min_df': 1,\n",
       " 'vect__ngram_range': (1, 1),\n",
       " 'vect__preprocessor': None,\n",
       " 'vect__stop_words': None,\n",
       " 'vect__strip_accents': None,\n",
       " 'vect__token_pattern': '(?u)\\\\b\\\\w\\\\w+\\\\b',\n",
       " 'vect__tokenizer': <function __main__.tokenize(text)>,\n",
       " 'vect__vocabulary': None,\n",
       " 'tfidf__norm': 'l2',\n",
       " 'tfidf__smooth_idf': True,\n",
       " 'tfidf__sublinear_tf': False,\n",
       " 'tfidf__use_idf': True,\n",
       " 'clf__estimator__ccp_alpha': 0.0,\n",
       " 'clf__estimator__class_weight': None,\n",
       " 'clf__estimator__criterion': 'gini',\n",
       " 'clf__estimator__max_depth': None,\n",
       " 'clf__estimator__max_features': None,\n",
       " 'clf__estimator__max_leaf_nodes': None,\n",
       " 'clf__estimator__min_impurity_decrease': 0.0,\n",
       " 'clf__estimator__min_samples_leaf': 1,\n",
       " 'clf__estimator__min_samples_split': 2,\n",
       " 'clf__estimator__min_weight_fraction_leaf': 0.0,\n",
       " 'clf__estimator__random_state': None,\n",
       " 'clf__estimator__splitter': 'best',\n",
       " 'clf__estimator': DecisionTreeClassifier(),\n",
       " 'clf__n_jobs': None}"
      ]
     },
     "execution_count": 11,
     "metadata": {},
     "output_type": "execute_result"
    }
   ],
   "source": [
    "pipeline.get_params()"
   ]
  },
  {
   "cell_type": "code",
   "execution_count": 12,
   "metadata": {},
   "outputs": [],
   "source": [
    "parameters = {\n",
    "        'vect__ngram_range': ((1, 1), (1, 2)),\n",
    "        'vect__max_df': (0.5, 0.75, 1.0),\n",
    "        'vect__max_features': (None, 5000, 10000),\n",
    "        'tfidf__use_idf': (True, False),\n",
    "        'clf__estimator__min_samples_split': [2, 3, 4],\n",
    "        'clf__estimator': [DecisionTreeClassifier(), RandomForestClassifier(), KNeighborsClassifier()]\n",
    "    }\n",
    "\n",
    "cv = GridSearchCV(pipeline, param_grid=parameters)"
   ]
  },
  {
   "cell_type": "code",
   "execution_count": null,
   "metadata": {},
   "outputs": [],
   "source": [
    "cv.fit(X_train, Y_train)"
   ]
  },
  {
   "cell_type": "code",
   "execution_count": null,
   "metadata": {},
   "outputs": [],
   "source": [
    "pickle.dump(cv, open('disaster_recovery_gridsearch.pkl', 'wb'))"
   ]
  },
  {
   "cell_type": "markdown",
   "metadata": {},
   "source": [
    "### 7. Test your model\n",
    "Show the accuracy, precision, and recall of the tuned model.  \n",
    "\n",
    "Since this project focuses on code quality, process, and  pipelines, there is no minimum performance metric needed to pass. However, make sure to fine tune your models for accuracy, precision and recall to make your project stand out - especially for your portfolio!"
   ]
  },
  {
   "cell_type": "code",
   "execution_count": null,
   "metadata": {},
   "outputs": [],
   "source": [
    "cv = pickle.load(open('disaster_recovery_gridsearch.pkl', 'rb'))"
   ]
  },
  {
   "cell_type": "code",
   "execution_count": null,
   "metadata": {},
   "outputs": [],
   "source": [
    "Y_pred_cv = cv.predict(X_test)"
   ]
  },
  {
   "cell_type": "code",
   "execution_count": null,
   "metadata": {},
   "outputs": [],
   "source": [
    "report_cv = dict.fromkeys(range_columns, [])\n",
    "for col in range_columns:\n",
    "    Y_test_col = [Y_test[i][col] for i in range_rows_test]\n",
    "    Y_pred_col = [Y_pred_cv[i][col] for i in range_rows_pred]\n",
    "    try:\n",
    "        target_names = np.unique(Y_test_col).astype('str')\n",
    "        report_cv[col] = classification_report(Y_test_col, Y_pred_col, target_names=target_names)\n",
    "    except:\n",
    "        target_names = np.unique(Y_pred_col).astype('str')\n",
    "        report_cv[col] = classification_report(Y_test_col, Y_pred_col, target_names=target_names)"
   ]
  },
  {
   "cell_type": "code",
   "execution_count": null,
   "metadata": {
    "scrolled": true,
    "tags": []
   },
   "outputs": [],
   "source": [
    "for k in report_cv.keys():\n",
    "    print(report_cv[k])"
   ]
  },
  {
   "cell_type": "markdown",
   "metadata": {},
   "source": [
    "### 8. Try improving your model further. Here are a few ideas:\n",
    "* try other machine learning algorithms\n",
    "* add other features besides the TF-IDF"
   ]
  },
  {
   "cell_type": "code",
   "execution_count": null,
   "metadata": {},
   "outputs": [],
   "source": []
  },
  {
   "cell_type": "markdown",
   "metadata": {},
   "source": [
    "### 9. Export your model as a pickle file"
   ]
  },
  {
   "cell_type": "code",
   "execution_count": null,
   "metadata": {},
   "outputs": [],
   "source": [
    "pickle.dump(pipeline, open('disaster_recovery_pipeline.pkl', 'wb'))"
   ]
  },
  {
   "cell_type": "markdown",
   "metadata": {},
   "source": [
    "### 10. Use this notebook to complete `train.py`\n",
    "Use the template file attached in the Resources folder to write a script that runs the steps above to create a database and export a model based on a new dataset specified by the user."
   ]
  },
  {
   "cell_type": "code",
   "execution_count": null,
   "metadata": {},
   "outputs": [],
   "source": [
    "prova"
   ]
  },
  {
   "cell_type": "code",
   "execution_count": null,
   "metadata": {},
   "outputs": [],
   "source": []
  }
 ],
 "metadata": {
  "kernelspec": {
   "display_name": "Python 3 (ipykernel)",
   "language": "python",
   "name": "python3"
  },
  "language_info": {
   "codemirror_mode": {
    "name": "ipython",
    "version": 3
   },
   "file_extension": ".py",
   "mimetype": "text/x-python",
   "name": "python",
   "nbconvert_exporter": "python",
   "pygments_lexer": "ipython3",
   "version": "3.9.13"
  }
 },
 "nbformat": 4,
 "nbformat_minor": 4
}
