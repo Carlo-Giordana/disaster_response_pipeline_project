{
 "cells": [
  {
   "cell_type": "markdown",
   "metadata": {},
   "source": [
    "# ML Pipeline Preparation\n",
    "Follow the instructions below to help you create your ML pipeline.\n",
    "### 1. Import libraries and load data from database.\n",
    "- Import Python libraries\n",
    "- Load dataset from database with [`read_sql_table`](https://pandas.pydata.org/pandas-docs/stable/generated/pandas.read_sql_table.html)\n",
    "- Define feature and target variables X and Y"
   ]
  },
  {
   "cell_type": "code",
   "execution_count": 1,
   "metadata": {},
   "outputs": [
    {
     "name": "stderr",
     "output_type": "stream",
     "text": [
      "[nltk_data] Downloading package punkt to\n",
      "[nltk_data]     C:\\Users\\2100\\AppData\\Roaming\\nltk_data...\n",
      "[nltk_data]   Package punkt is already up-to-date!\n",
      "[nltk_data] Downloading package wordnet to\n",
      "[nltk_data]     C:\\Users\\2100\\AppData\\Roaming\\nltk_data...\n",
      "[nltk_data]   Package wordnet is already up-to-date!\n",
      "[nltk_data] Downloading package omw-1.4 to\n",
      "[nltk_data]     C:\\Users\\2100\\AppData\\Roaming\\nltk_data...\n",
      "[nltk_data]   Package omw-1.4 is already up-to-date!\n"
     ]
    },
    {
     "data": {
      "text/plain": [
       "True"
      ]
     },
     "execution_count": 1,
     "metadata": {},
     "output_type": "execute_result"
    }
   ],
   "source": [
    "# import libraries\n",
    "import pandas as pd\n",
    "import numpy as np\n",
    "from sqlalchemy import create_engine\n",
    "from nltk.tokenize import word_tokenize\n",
    "from nltk.stem import WordNetLemmatizer\n",
    "from sklearn.pipeline import Pipeline\n",
    "from sklearn.feature_extraction.text import CountVectorizer, TfidfTransformer\n",
    "from sklearn.multioutput import MultiOutputClassifier\n",
    "from sklearn.tree import DecisionTreeClassifier\n",
    "from sklearn.neighbors import KNeighborsClassifier\n",
    "from sklearn.ensemble import RandomForestClassifier\n",
    "from sklearn.model_selection import train_test_split, GridSearchCV\n",
    "from sklearn.preprocessing import MultiLabelBinarizer\n",
    "from sklearn.metrics import classification_report\n",
    "import pickle\n",
    "\n",
    "import nltk\n",
    "nltk.download(['punkt', 'wordnet', 'omw-1.4'])"
   ]
  },
  {
   "cell_type": "code",
   "execution_count": 30,
   "metadata": {},
   "outputs": [],
   "source": [
    "# load data from database\n",
    "engine = create_engine('sqlite:///.\\data\\DisasterResponse.db')\n",
    "df = pd.read_sql('SELECT * FROM messages', engine)\n",
    "#df = df.sample(n=5000, random_state=1)\n",
    "X = df.message.values\n",
    "Y = df.drop(['id', 'message', 'original', 'genre'], axis = 1).values"
   ]
  },
  {
   "cell_type": "code",
   "execution_count": 31,
   "metadata": {},
   "outputs": [
    {
     "data": {
      "text/plain": [
       "26177"
      ]
     },
     "execution_count": 31,
     "metadata": {},
     "output_type": "execute_result"
    }
   ],
   "source": [
    "df.shape[0]"
   ]
  },
  {
   "cell_type": "markdown",
   "metadata": {},
   "source": [
    "### 2. Write a tokenization function to process your text data"
   ]
  },
  {
   "cell_type": "code",
   "execution_count": 11,
   "metadata": {},
   "outputs": [],
   "source": [
    "def tokenize(text):\n",
    "    \n",
    "    tokens = word_tokenize(text)\n",
    "    lemmatizer = WordNetLemmatizer()\n",
    "    \n",
    "    clean_tokens = []\n",
    "    for tok in tokens:\n",
    "        clean_tok = lemmatizer.lemmatize(tok).lower().strip()\n",
    "        clean_tokens.append(clean_tok)\n",
    "\n",
    "    return clean_tokens"
   ]
  },
  {
   "cell_type": "markdown",
   "metadata": {},
   "source": [
    "### 3. Build a machine learning pipeline\n",
    "This machine pipeline should take in the `message` column as input and output classification results on the other 36 categories in the dataset. You may find the [MultiOutputClassifier](http://scikit-learn.org/stable/modules/generated/sklearn.multioutput.MultiOutputClassifier.html) helpful for predicting multiple target variables."
   ]
  },
  {
   "cell_type": "code",
   "execution_count": 12,
   "metadata": {},
   "outputs": [],
   "source": [
    "pipeline = Pipeline([\n",
    "    ('vect', CountVectorizer(tokenizer=tokenize)),\n",
    "    ('tfidf', TfidfTransformer()),\n",
    "    ('clf', MultiOutputClassifier(DecisionTreeClassifier()))\n",
    "])"
   ]
  },
  {
   "cell_type": "markdown",
   "metadata": {},
   "source": [
    "### 4. Train pipeline\n",
    "- Split data into train and test sets\n",
    "- Train pipeline"
   ]
  },
  {
   "cell_type": "code",
   "execution_count": 32,
   "metadata": {},
   "outputs": [],
   "source": [
    "X_train, X_test, Y_train, Y_test = train_test_split(X, Y)"
   ]
  },
  {
   "cell_type": "code",
   "execution_count": 14,
   "metadata": {
    "tags": []
   },
   "outputs": [
    {
     "data": {
      "text/plain": [
       "Pipeline(steps=[('vect',\n",
       "                 CountVectorizer(tokenizer=<function tokenize at 0x00000287672E7040>)),\n",
       "                ('tfidf', TfidfTransformer()),\n",
       "                ('clf',\n",
       "                 MultiOutputClassifier(estimator=DecisionTreeClassifier()))])"
      ]
     },
     "execution_count": 14,
     "metadata": {},
     "output_type": "execute_result"
    }
   ],
   "source": [
    "pipeline.fit(X_train, Y_train)"
   ]
  },
  {
   "cell_type": "code",
   "execution_count": 15,
   "metadata": {},
   "outputs": [],
   "source": [
    "pickle.dump(pipeline, open('disaster_recovery_pipeline.pkl', 'wb'))"
   ]
  },
  {
   "cell_type": "markdown",
   "metadata": {},
   "source": [
    "### 5. Test your model\n",
    "Report the f1 score, precision and recall for each output category of the dataset. You can do this by iterating through the columns and calling sklearn's `classification_report` on each."
   ]
  },
  {
   "cell_type": "code",
   "execution_count": 16,
   "metadata": {},
   "outputs": [],
   "source": [
    "Y_pred = pipeline.predict(X_test)"
   ]
  },
  {
   "cell_type": "code",
   "execution_count": 17,
   "metadata": {},
   "outputs": [],
   "source": [
    "range_columns = range(len(Y[0])-1)\n",
    "range_rows_test = range(len(Y_test)-1)\n",
    "range_rows_pred = range(len(Y_pred)-1)"
   ]
  },
  {
   "cell_type": "code",
   "execution_count": 18,
   "metadata": {
    "scrolled": true,
    "tags": []
   },
   "outputs": [],
   "source": [
    "report = dict.fromkeys(range_columns, [])\n",
    "for col in range_columns:\n",
    "    Y_test_col = [Y_test[i][col] for i in range_rows_test]\n",
    "    Y_pred_col = [Y_pred[i][col] for i in range_rows_pred]\n",
    "    try:\n",
    "        target_names = np.unique(Y_test_col).astype('str')\n",
    "        report[col] = classification_report(Y_test_col, Y_pred_col, target_names=target_names)\n",
    "    except:\n",
    "        target_names = np.unique(Y_pred_col).astype('str')\n",
    "        report[col] = classification_report(Y_test_col, Y_pred_col, target_names=target_names)"
   ]
  },
  {
   "cell_type": "code",
   "execution_count": 19,
   "metadata": {
    "scrolled": true,
    "tags": []
   },
   "outputs": [
    {
     "name": "stdout",
     "output_type": "stream",
     "text": [
      "              precision    recall  f1-score   support\n",
      "\n",
      "           0       0.45      0.40      0.42       325\n",
      "           1       0.79      0.83      0.81       917\n",
      "           2       0.00      0.00      0.00         7\n",
      "\n",
      "    accuracy                           0.71      1249\n",
      "   macro avg       0.42      0.41      0.41      1249\n",
      "weighted avg       0.70      0.71      0.71      1249\n",
      "\n",
      "              precision    recall  f1-score   support\n",
      "\n",
      "           0       0.92      0.90      0.91      1054\n",
      "           1       0.51      0.57      0.54       195\n",
      "\n",
      "    accuracy                           0.85      1249\n",
      "   macro avg       0.72      0.73      0.72      1249\n",
      "weighted avg       0.86      0.85      0.85      1249\n",
      "\n",
      "              precision    recall  f1-score   support\n",
      "\n",
      "           0       1.00      0.99      1.00      1246\n",
      "           1       0.00      0.00      0.00         3\n",
      "\n",
      "    accuracy                           0.99      1249\n",
      "   macro avg       0.50      0.50      0.50      1249\n",
      "weighted avg       1.00      0.99      0.99      1249\n",
      "\n",
      "              precision    recall  f1-score   support\n",
      "\n",
      "           0       0.74      0.71      0.72       766\n",
      "           1       0.57      0.61      0.59       483\n",
      "\n",
      "    accuracy                           0.67      1249\n",
      "   macro avg       0.65      0.66      0.66      1249\n",
      "weighted avg       0.67      0.67      0.67      1249\n",
      "\n",
      "              precision    recall  f1-score   support\n",
      "\n",
      "           0       0.93      0.95      0.94      1146\n",
      "           1       0.30      0.24      0.27       103\n",
      "\n",
      "    accuracy                           0.89      1249\n",
      "   macro avg       0.62      0.60      0.60      1249\n",
      "weighted avg       0.88      0.89      0.89      1249\n",
      "\n",
      "              precision    recall  f1-score   support\n",
      "\n",
      "           0       0.97      0.96      0.97      1198\n",
      "           1       0.23      0.25      0.24        51\n",
      "\n",
      "    accuracy                           0.93      1249\n",
      "   macro avg       0.60      0.61      0.60      1249\n",
      "weighted avg       0.94      0.93      0.94      1249\n",
      "\n",
      "              precision    recall  f1-score   support\n",
      "\n",
      "           0       0.98      0.99      0.98      1220\n",
      "           1       0.06      0.03      0.04        29\n",
      "\n",
      "    accuracy                           0.97      1249\n",
      "   macro avg       0.52      0.51      0.51      1249\n",
      "weighted avg       0.96      0.97      0.96      1249\n",
      "\n",
      "              precision    recall  f1-score   support\n",
      "\n",
      "           0       0.99      0.98      0.98      1230\n",
      "           1       0.04      0.05      0.05        19\n",
      "\n",
      "    accuracy                           0.97      1249\n",
      "   macro avg       0.51      0.52      0.51      1249\n",
      "weighted avg       0.97      0.97      0.97      1249\n",
      "\n",
      "              precision    recall  f1-score   support\n",
      "\n",
      "           0       0.98      0.98      0.98      1220\n",
      "           1       0.23      0.31      0.26        29\n",
      "\n",
      "    accuracy                           0.96      1249\n",
      "   macro avg       0.61      0.64      0.62      1249\n",
      "weighted avg       0.97      0.96      0.96      1249\n",
      "\n",
      "              precision    recall  f1-score   support\n",
      "\n",
      "           0       1.00      1.00      1.00      1249\n",
      "\n",
      "    accuracy                           1.00      1249\n",
      "   macro avg       1.00      1.00      1.00      1249\n",
      "weighted avg       1.00      1.00      1.00      1249\n",
      "\n",
      "              precision    recall  f1-score   support\n",
      "\n",
      "           0       0.97      0.99      0.98      1174\n",
      "           1       0.69      0.51      0.58        75\n",
      "\n",
      "    accuracy                           0.96      1249\n",
      "   macro avg       0.83      0.75      0.78      1249\n",
      "weighted avg       0.95      0.96      0.95      1249\n",
      "\n",
      "              precision    recall  f1-score   support\n",
      "\n",
      "           0       0.97      0.96      0.97      1122\n",
      "           1       0.69      0.74      0.71       127\n",
      "\n",
      "    accuracy                           0.94      1249\n",
      "   macro avg       0.83      0.85      0.84      1249\n",
      "weighted avg       0.94      0.94      0.94      1249\n",
      "\n",
      "              precision    recall  f1-score   support\n",
      "\n",
      "           0       0.97      0.97      0.97      1153\n",
      "           1       0.62      0.67      0.64        96\n",
      "\n",
      "    accuracy                           0.94      1249\n",
      "   macro avg       0.80      0.82      0.81      1249\n",
      "weighted avg       0.95      0.94      0.94      1249\n",
      "\n",
      "              precision    recall  f1-score   support\n",
      "\n",
      "           0       0.99      0.99      0.99      1231\n",
      "           1       0.43      0.33      0.38        18\n",
      "\n",
      "    accuracy                           0.98      1249\n",
      "   macro avg       0.71      0.66      0.68      1249\n",
      "weighted avg       0.98      0.98      0.98      1249\n",
      "\n",
      "              precision    recall  f1-score   support\n",
      "\n",
      "           0       0.99      0.98      0.98      1224\n",
      "           1       0.26      0.32      0.29        25\n",
      "\n",
      "    accuracy                           0.97      1249\n",
      "   macro avg       0.62      0.65      0.63      1249\n",
      "weighted avg       0.97      0.97      0.97      1249\n",
      "\n",
      "              precision    recall  f1-score   support\n",
      "\n",
      "           0       0.99      0.99      0.99      1237\n",
      "           1       0.18      0.17      0.17        12\n",
      "\n",
      "    accuracy                           0.98      1249\n",
      "   macro avg       0.59      0.58      0.58      1249\n",
      "weighted avg       0.98      0.98      0.98      1249\n",
      "\n",
      "              precision    recall  f1-score   support\n",
      "\n",
      "           0       0.98      0.98      0.98      1217\n",
      "           1       0.34      0.38      0.36        32\n",
      "\n",
      "    accuracy                           0.97      1249\n",
      "   macro avg       0.66      0.68      0.67      1249\n",
      "weighted avg       0.97      0.97      0.97      1249\n",
      "\n",
      "              precision    recall  f1-score   support\n",
      "\n",
      "           0       0.97      0.98      0.98      1198\n",
      "           1       0.44      0.39      0.42        51\n",
      "\n",
      "    accuracy                           0.96      1249\n",
      "   macro avg       0.71      0.69      0.70      1249\n",
      "weighted avg       0.95      0.96      0.95      1249\n",
      "\n",
      "              precision    recall  f1-score   support\n",
      "\n",
      "           0       0.88      0.88      0.88      1072\n",
      "           1       0.29      0.31      0.30       177\n",
      "\n",
      "    accuracy                           0.80      1249\n",
      "   macro avg       0.59      0.59      0.59      1249\n",
      "weighted avg       0.80      0.80      0.80      1249\n",
      "\n",
      "              precision    recall  f1-score   support\n",
      "\n",
      "           0       0.94      0.96      0.95      1164\n",
      "           1       0.22      0.15      0.18        85\n",
      "\n",
      "    accuracy                           0.90      1249\n",
      "   macro avg       0.58      0.56      0.56      1249\n",
      "weighted avg       0.89      0.90      0.90      1249\n",
      "\n",
      "              precision    recall  f1-score   support\n",
      "\n",
      "           0       0.97      0.95      0.96      1199\n",
      "           1       0.14      0.18      0.16        50\n",
      "\n",
      "    accuracy                           0.92      1249\n",
      "   macro avg       0.55      0.57      0.56      1249\n",
      "weighted avg       0.93      0.92      0.93      1249\n",
      "\n",
      "              precision    recall  f1-score   support\n",
      "\n",
      "           0       0.98      0.99      0.98      1195\n",
      "           1       0.65      0.44      0.53        54\n",
      "\n",
      "    accuracy                           0.97      1249\n",
      "   macro avg       0.81      0.72      0.75      1249\n",
      "weighted avg       0.96      0.97      0.96      1249\n",
      "\n",
      "              precision    recall  f1-score   support\n",
      "\n",
      "           0       0.99      0.98      0.99      1230\n",
      "           1       0.28      0.42      0.33        19\n",
      "\n",
      "    accuracy                           0.97      1249\n",
      "   macro avg       0.63      0.70      0.66      1249\n",
      "weighted avg       0.98      0.97      0.98      1249\n",
      "\n",
      "              precision    recall  f1-score   support\n",
      "\n",
      "           0       0.99      1.00      1.00      1242\n",
      "           1       0.00      0.00      0.00         7\n",
      "\n",
      "    accuracy                           0.99      1249\n",
      "   macro avg       0.50      0.50      0.50      1249\n",
      "weighted avg       0.99      0.99      0.99      1249\n",
      "\n",
      "              precision    recall  f1-score   support\n",
      "\n",
      "           0       0.99      1.00      0.99      1233\n",
      "           1       0.14      0.06      0.09        16\n",
      "\n",
      "    accuracy                           0.98      1249\n",
      "   macro avg       0.57      0.53      0.54      1249\n",
      "weighted avg       0.98      0.98      0.98      1249\n",
      "\n",
      "              precision    recall  f1-score   support\n",
      "\n",
      "           0       1.00      1.00      1.00      1242\n",
      "           1       0.17      0.14      0.15         7\n",
      "\n",
      "    accuracy                           0.99      1249\n",
      "   macro avg       0.58      0.57      0.57      1249\n",
      "weighted avg       0.99      0.99      0.99      1249\n",
      "\n",
      "              precision    recall  f1-score   support\n",
      "\n",
      "           0       0.99      0.99      0.99      1235\n",
      "           1       0.17      0.14      0.15        14\n",
      "\n",
      "    accuracy                           0.98      1249\n",
      "   macro avg       0.58      0.57      0.57      1249\n",
      "weighted avg       0.98      0.98      0.98      1249\n",
      "\n",
      "              precision    recall  f1-score   support\n",
      "\n",
      "           0       0.96      0.98      0.97      1191\n",
      "           1       0.15      0.09      0.11        58\n",
      "\n",
      "    accuracy                           0.93      1249\n",
      "   macro avg       0.55      0.53      0.54      1249\n",
      "weighted avg       0.92      0.93      0.93      1249\n",
      "\n",
      "              precision    recall  f1-score   support\n",
      "\n",
      "           0       0.88      0.89      0.89       918\n",
      "           1       0.69      0.66      0.67       331\n",
      "\n",
      "    accuracy                           0.83      1249\n",
      "   macro avg       0.78      0.78      0.78      1249\n",
      "weighted avg       0.83      0.83      0.83      1249\n",
      "\n",
      "              precision    recall  f1-score   support\n",
      "\n",
      "           0       0.96      0.97      0.97      1166\n",
      "           1       0.51      0.49      0.50        83\n",
      "\n",
      "    accuracy                           0.94      1249\n",
      "   macro avg       0.74      0.73      0.73      1249\n",
      "weighted avg       0.93      0.94      0.93      1249\n",
      "\n",
      "              precision    recall  f1-score   support\n",
      "\n",
      "           0       0.96      0.97      0.96      1131\n",
      "           1       0.69      0.58      0.63       118\n",
      "\n",
      "    accuracy                           0.94      1249\n",
      "   macro avg       0.82      0.78      0.80      1249\n",
      "weighted avg       0.93      0.94      0.93      1249\n",
      "\n",
      "              precision    recall  f1-score   support\n",
      "\n",
      "           0       0.99      0.99      0.99      1239\n",
      "           1       0.10      0.10      0.10        10\n",
      "\n",
      "    accuracy                           0.99      1249\n",
      "   macro avg       0.55      0.55      0.55      1249\n",
      "weighted avg       0.99      0.99      0.99      1249\n",
      "\n",
      "              precision    recall  f1-score   support\n",
      "\n",
      "           0       0.97      0.98      0.98      1132\n",
      "           1       0.79      0.73      0.76       117\n",
      "\n",
      "    accuracy                           0.96      1249\n",
      "   macro avg       0.88      0.85      0.87      1249\n",
      "weighted avg       0.95      0.96      0.96      1249\n",
      "\n",
      "              precision    recall  f1-score   support\n",
      "\n",
      "           0       0.99      0.99      0.99      1225\n",
      "           1       0.45      0.38      0.41        24\n",
      "\n",
      "    accuracy                           0.98      1249\n",
      "   macro avg       0.72      0.68      0.70      1249\n",
      "weighted avg       0.98      0.98      0.98      1249\n",
      "\n",
      "              precision    recall  f1-score   support\n",
      "\n",
      "           0       0.96      0.96      0.96      1191\n",
      "           1       0.19      0.19      0.19        58\n",
      "\n",
      "    accuracy                           0.92      1249\n",
      "   macro avg       0.57      0.57      0.57      1249\n",
      "weighted avg       0.92      0.92      0.92      1249\n",
      "\n"
     ]
    }
   ],
   "source": [
    "for k in report.keys():\n",
    "    print(report[k])"
   ]
  },
  {
   "cell_type": "markdown",
   "metadata": {},
   "source": [
    "### 6. Improve your model\n",
    "Use grid search to find better parameters. "
   ]
  },
  {
   "cell_type": "code",
   "execution_count": 20,
   "metadata": {
    "scrolled": true,
    "tags": []
   },
   "outputs": [
    {
     "data": {
      "text/plain": [
       "{'memory': None,\n",
       " 'steps': [('vect',\n",
       "   CountVectorizer(tokenizer=<function tokenize at 0x00000287672E7040>)),\n",
       "  ('tfidf', TfidfTransformer()),\n",
       "  ('clf', MultiOutputClassifier(estimator=DecisionTreeClassifier()))],\n",
       " 'verbose': False,\n",
       " 'vect': CountVectorizer(tokenizer=<function tokenize at 0x00000287672E7040>),\n",
       " 'tfidf': TfidfTransformer(),\n",
       " 'clf': MultiOutputClassifier(estimator=DecisionTreeClassifier()),\n",
       " 'vect__analyzer': 'word',\n",
       " 'vect__binary': False,\n",
       " 'vect__decode_error': 'strict',\n",
       " 'vect__dtype': numpy.int64,\n",
       " 'vect__encoding': 'utf-8',\n",
       " 'vect__input': 'content',\n",
       " 'vect__lowercase': True,\n",
       " 'vect__max_df': 1.0,\n",
       " 'vect__max_features': None,\n",
       " 'vect__min_df': 1,\n",
       " 'vect__ngram_range': (1, 1),\n",
       " 'vect__preprocessor': None,\n",
       " 'vect__stop_words': None,\n",
       " 'vect__strip_accents': None,\n",
       " 'vect__token_pattern': '(?u)\\\\b\\\\w\\\\w+\\\\b',\n",
       " 'vect__tokenizer': <function __main__.tokenize(text)>,\n",
       " 'vect__vocabulary': None,\n",
       " 'tfidf__norm': 'l2',\n",
       " 'tfidf__smooth_idf': True,\n",
       " 'tfidf__sublinear_tf': False,\n",
       " 'tfidf__use_idf': True,\n",
       " 'clf__estimator__ccp_alpha': 0.0,\n",
       " 'clf__estimator__class_weight': None,\n",
       " 'clf__estimator__criterion': 'gini',\n",
       " 'clf__estimator__max_depth': None,\n",
       " 'clf__estimator__max_features': None,\n",
       " 'clf__estimator__max_leaf_nodes': None,\n",
       " 'clf__estimator__min_impurity_decrease': 0.0,\n",
       " 'clf__estimator__min_samples_leaf': 1,\n",
       " 'clf__estimator__min_samples_split': 2,\n",
       " 'clf__estimator__min_weight_fraction_leaf': 0.0,\n",
       " 'clf__estimator__random_state': None,\n",
       " 'clf__estimator__splitter': 'best',\n",
       " 'clf__estimator': DecisionTreeClassifier(),\n",
       " 'clf__n_jobs': None}"
      ]
     },
     "execution_count": 20,
     "metadata": {},
     "output_type": "execute_result"
    }
   ],
   "source": [
    "pipeline.get_params()"
   ]
  },
  {
   "cell_type": "code",
   "execution_count": 22,
   "metadata": {},
   "outputs": [],
   "source": [
    "parameters = {\n",
    "        'vect__ngram_range': ((1, 1), (1, 2)),\n",
    "        'vect__max_df': (0.5, 0.75, 1.0),\n",
    "        'vect__max_features': (None, 5000, 10000),\n",
    "        'tfidf__use_idf': (True, False),\n",
    "        'clf__estimator': [DecisionTreeClassifier(), KNeighborsClassifier()]\n",
    "    }\n",
    "\n",
    "cv = GridSearchCV(pipeline, param_grid=parameters, verbose=20)"
   ]
  },
  {
   "cell_type": "code",
   "execution_count": 23,
   "metadata": {
    "scrolled": true,
    "tags": []
   },
   "outputs": [
    {
     "name": "stdout",
     "output_type": "stream",
     "text": [
      "Fitting 5 folds for each of 72 candidates, totalling 360 fits\n",
      "[CV 1/5; 1/72] START clf__estimator=DecisionTreeClassifier(), tfidf__use_idf=True, vect__max_df=0.5, vect__max_features=None, vect__ngram_range=(1, 1)\n",
      "[CV 1/5; 1/72] END clf__estimator=DecisionTreeClassifier(), tfidf__use_idf=True, vect__max_df=0.5, vect__max_features=None, vect__ngram_range=(1, 1);, score=0.133 total time=  13.3s\n",
      "[CV 2/5; 1/72] START clf__estimator=DecisionTreeClassifier(), tfidf__use_idf=True, vect__max_df=0.5, vect__max_features=None, vect__ngram_range=(1, 1)\n",
      "[CV 2/5; 1/72] END clf__estimator=DecisionTreeClassifier(), tfidf__use_idf=True, vect__max_df=0.5, vect__max_features=None, vect__ngram_range=(1, 1);, score=0.129 total time=  13.0s\n",
      "[CV 3/5; 1/72] START clf__estimator=DecisionTreeClassifier(), tfidf__use_idf=True, vect__max_df=0.5, vect__max_features=None, vect__ngram_range=(1, 1)\n",
      "[CV 3/5; 1/72] END clf__estimator=DecisionTreeClassifier(), tfidf__use_idf=True, vect__max_df=0.5, vect__max_features=None, vect__ngram_range=(1, 1);, score=0.119 total time=  12.3s\n",
      "[CV 4/5; 1/72] START clf__estimator=DecisionTreeClassifier(), tfidf__use_idf=True, vect__max_df=0.5, vect__max_features=None, vect__ngram_range=(1, 1)\n",
      "[CV 4/5; 1/72] END clf__estimator=DecisionTreeClassifier(), tfidf__use_idf=True, vect__max_df=0.5, vect__max_features=None, vect__ngram_range=(1, 1);, score=0.129 total time=  14.1s\n",
      "[CV 5/5; 1/72] START clf__estimator=DecisionTreeClassifier(), tfidf__use_idf=True, vect__max_df=0.5, vect__max_features=None, vect__ngram_range=(1, 1)\n",
      "[CV 5/5; 1/72] END clf__estimator=DecisionTreeClassifier(), tfidf__use_idf=True, vect__max_df=0.5, vect__max_features=None, vect__ngram_range=(1, 1);, score=0.117 total time=  12.9s\n",
      "[CV 1/5; 2/72] START clf__estimator=DecisionTreeClassifier(), tfidf__use_idf=True, vect__max_df=0.5, vect__max_features=None, vect__ngram_range=(1, 2)\n",
      "[CV 1/5; 2/72] END clf__estimator=DecisionTreeClassifier(), tfidf__use_idf=True, vect__max_df=0.5, vect__max_features=None, vect__ngram_range=(1, 2);, score=0.121 total time=  37.3s\n",
      "[CV 2/5; 2/72] START clf__estimator=DecisionTreeClassifier(), tfidf__use_idf=True, vect__max_df=0.5, vect__max_features=None, vect__ngram_range=(1, 2)\n",
      "[CV 2/5; 2/72] END clf__estimator=DecisionTreeClassifier(), tfidf__use_idf=True, vect__max_df=0.5, vect__max_features=None, vect__ngram_range=(1, 2);, score=0.116 total time=  34.0s\n",
      "[CV 3/5; 2/72] START clf__estimator=DecisionTreeClassifier(), tfidf__use_idf=True, vect__max_df=0.5, vect__max_features=None, vect__ngram_range=(1, 2)\n",
      "[CV 3/5; 2/72] END clf__estimator=DecisionTreeClassifier(), tfidf__use_idf=True, vect__max_df=0.5, vect__max_features=None, vect__ngram_range=(1, 2);, score=0.128 total time=  32.9s\n",
      "[CV 4/5; 2/72] START clf__estimator=DecisionTreeClassifier(), tfidf__use_idf=True, vect__max_df=0.5, vect__max_features=None, vect__ngram_range=(1, 2)\n",
      "[CV 4/5; 2/72] END clf__estimator=DecisionTreeClassifier(), tfidf__use_idf=True, vect__max_df=0.5, vect__max_features=None, vect__ngram_range=(1, 2);, score=0.116 total time=  34.8s\n",
      "[CV 5/5; 2/72] START clf__estimator=DecisionTreeClassifier(), tfidf__use_idf=True, vect__max_df=0.5, vect__max_features=None, vect__ngram_range=(1, 2)\n",
      "[CV 5/5; 2/72] END clf__estimator=DecisionTreeClassifier(), tfidf__use_idf=True, vect__max_df=0.5, vect__max_features=None, vect__ngram_range=(1, 2);, score=0.111 total time=  32.4s\n",
      "[CV 1/5; 3/72] START clf__estimator=DecisionTreeClassifier(), tfidf__use_idf=True, vect__max_df=0.5, vect__max_features=5000, vect__ngram_range=(1, 1)\n",
      "[CV 1/5; 3/72] END clf__estimator=DecisionTreeClassifier(), tfidf__use_idf=True, vect__max_df=0.5, vect__max_features=5000, vect__ngram_range=(1, 1);, score=0.120 total time=  11.8s\n",
      "[CV 2/5; 3/72] START clf__estimator=DecisionTreeClassifier(), tfidf__use_idf=True, vect__max_df=0.5, vect__max_features=5000, vect__ngram_range=(1, 1)\n",
      "[CV 2/5; 3/72] END clf__estimator=DecisionTreeClassifier(), tfidf__use_idf=True, vect__max_df=0.5, vect__max_features=5000, vect__ngram_range=(1, 1);, score=0.109 total time=  11.4s\n",
      "[CV 3/5; 3/72] START clf__estimator=DecisionTreeClassifier(), tfidf__use_idf=True, vect__max_df=0.5, vect__max_features=5000, vect__ngram_range=(1, 1)\n",
      "[CV 3/5; 3/72] END clf__estimator=DecisionTreeClassifier(), tfidf__use_idf=True, vect__max_df=0.5, vect__max_features=5000, vect__ngram_range=(1, 1);, score=0.119 total time=  11.6s\n",
      "[CV 4/5; 3/72] START clf__estimator=DecisionTreeClassifier(), tfidf__use_idf=True, vect__max_df=0.5, vect__max_features=5000, vect__ngram_range=(1, 1)\n",
      "[CV 4/5; 3/72] END clf__estimator=DecisionTreeClassifier(), tfidf__use_idf=True, vect__max_df=0.5, vect__max_features=5000, vect__ngram_range=(1, 1);, score=0.113 total time=  12.6s\n",
      "[CV 5/5; 3/72] START clf__estimator=DecisionTreeClassifier(), tfidf__use_idf=True, vect__max_df=0.5, vect__max_features=5000, vect__ngram_range=(1, 1)\n",
      "[CV 5/5; 3/72] END clf__estimator=DecisionTreeClassifier(), tfidf__use_idf=True, vect__max_df=0.5, vect__max_features=5000, vect__ngram_range=(1, 1);, score=0.129 total time=  12.0s\n",
      "[CV 1/5; 4/72] START clf__estimator=DecisionTreeClassifier(), tfidf__use_idf=True, vect__max_df=0.5, vect__max_features=5000, vect__ngram_range=(1, 2)\n",
      "[CV 1/5; 4/72] END clf__estimator=DecisionTreeClassifier(), tfidf__use_idf=True, vect__max_df=0.5, vect__max_features=5000, vect__ngram_range=(1, 2);, score=0.129 total time=  14.6s\n",
      "[CV 2/5; 4/72] START clf__estimator=DecisionTreeClassifier(), tfidf__use_idf=True, vect__max_df=0.5, vect__max_features=5000, vect__ngram_range=(1, 2)\n",
      "[CV 2/5; 4/72] END clf__estimator=DecisionTreeClassifier(), tfidf__use_idf=True, vect__max_df=0.5, vect__max_features=5000, vect__ngram_range=(1, 2);, score=0.104 total time=  14.9s\n",
      "[CV 3/5; 4/72] START clf__estimator=DecisionTreeClassifier(), tfidf__use_idf=True, vect__max_df=0.5, vect__max_features=5000, vect__ngram_range=(1, 2)\n",
      "[CV 3/5; 4/72] END clf__estimator=DecisionTreeClassifier(), tfidf__use_idf=True, vect__max_df=0.5, vect__max_features=5000, vect__ngram_range=(1, 2);, score=0.099 total time=  14.8s\n",
      "[CV 4/5; 4/72] START clf__estimator=DecisionTreeClassifier(), tfidf__use_idf=True, vect__max_df=0.5, vect__max_features=5000, vect__ngram_range=(1, 2)\n",
      "[CV 4/5; 4/72] END clf__estimator=DecisionTreeClassifier(), tfidf__use_idf=True, vect__max_df=0.5, vect__max_features=5000, vect__ngram_range=(1, 2);, score=0.099 total time=  13.9s\n",
      "[CV 5/5; 4/72] START clf__estimator=DecisionTreeClassifier(), tfidf__use_idf=True, vect__max_df=0.5, vect__max_features=5000, vect__ngram_range=(1, 2)\n",
      "[CV 5/5; 4/72] END clf__estimator=DecisionTreeClassifier(), tfidf__use_idf=True, vect__max_df=0.5, vect__max_features=5000, vect__ngram_range=(1, 2);, score=0.124 total time=  12.2s\n",
      "[CV 1/5; 5/72] START clf__estimator=DecisionTreeClassifier(), tfidf__use_idf=True, vect__max_df=0.5, vect__max_features=10000, vect__ngram_range=(1, 1)\n",
      "[CV 1/5; 5/72] END clf__estimator=DecisionTreeClassifier(), tfidf__use_idf=True, vect__max_df=0.5, vect__max_features=10000, vect__ngram_range=(1, 1);, score=0.123 total time=  11.8s\n",
      "[CV 2/5; 5/72] START clf__estimator=DecisionTreeClassifier(), tfidf__use_idf=True, vect__max_df=0.5, vect__max_features=10000, vect__ngram_range=(1, 1)\n",
      "[CV 2/5; 5/72] END clf__estimator=DecisionTreeClassifier(), tfidf__use_idf=True, vect__max_df=0.5, vect__max_features=10000, vect__ngram_range=(1, 1);, score=0.120 total time=  12.1s\n",
      "[CV 3/5; 5/72] START clf__estimator=DecisionTreeClassifier(), tfidf__use_idf=True, vect__max_df=0.5, vect__max_features=10000, vect__ngram_range=(1, 1)\n",
      "[CV 3/5; 5/72] END clf__estimator=DecisionTreeClassifier(), tfidf__use_idf=True, vect__max_df=0.5, vect__max_features=10000, vect__ngram_range=(1, 1);, score=0.125 total time=  11.9s\n",
      "[CV 4/5; 5/72] START clf__estimator=DecisionTreeClassifier(), tfidf__use_idf=True, vect__max_df=0.5, vect__max_features=10000, vect__ngram_range=(1, 1)\n",
      "[CV 4/5; 5/72] END clf__estimator=DecisionTreeClassifier(), tfidf__use_idf=True, vect__max_df=0.5, vect__max_features=10000, vect__ngram_range=(1, 1);, score=0.105 total time=  12.0s\n",
      "[CV 5/5; 5/72] START clf__estimator=DecisionTreeClassifier(), tfidf__use_idf=True, vect__max_df=0.5, vect__max_features=10000, vect__ngram_range=(1, 1)\n",
      "[CV 5/5; 5/72] END clf__estimator=DecisionTreeClassifier(), tfidf__use_idf=True, vect__max_df=0.5, vect__max_features=10000, vect__ngram_range=(1, 1);, score=0.117 total time=  11.6s\n",
      "[CV 1/5; 6/72] START clf__estimator=DecisionTreeClassifier(), tfidf__use_idf=True, vect__max_df=0.5, vect__max_features=10000, vect__ngram_range=(1, 2)\n",
      "[CV 1/5; 6/72] END clf__estimator=DecisionTreeClassifier(), tfidf__use_idf=True, vect__max_df=0.5, vect__max_features=10000, vect__ngram_range=(1, 2);, score=0.136 total time=  16.0s\n",
      "[CV 2/5; 6/72] START clf__estimator=DecisionTreeClassifier(), tfidf__use_idf=True, vect__max_df=0.5, vect__max_features=10000, vect__ngram_range=(1, 2)\n",
      "[CV 2/5; 6/72] END clf__estimator=DecisionTreeClassifier(), tfidf__use_idf=True, vect__max_df=0.5, vect__max_features=10000, vect__ngram_range=(1, 2);, score=0.107 total time=  16.5s\n",
      "[CV 3/5; 6/72] START clf__estimator=DecisionTreeClassifier(), tfidf__use_idf=True, vect__max_df=0.5, vect__max_features=10000, vect__ngram_range=(1, 2)\n",
      "[CV 3/5; 6/72] END clf__estimator=DecisionTreeClassifier(), tfidf__use_idf=True, vect__max_df=0.5, vect__max_features=10000, vect__ngram_range=(1, 2);, score=0.120 total time=  15.6s\n",
      "[CV 4/5; 6/72] START clf__estimator=DecisionTreeClassifier(), tfidf__use_idf=True, vect__max_df=0.5, vect__max_features=10000, vect__ngram_range=(1, 2)\n",
      "[CV 4/5; 6/72] END clf__estimator=DecisionTreeClassifier(), tfidf__use_idf=True, vect__max_df=0.5, vect__max_features=10000, vect__ngram_range=(1, 2);, score=0.115 total time=  14.8s\n",
      "[CV 5/5; 6/72] START clf__estimator=DecisionTreeClassifier(), tfidf__use_idf=True, vect__max_df=0.5, vect__max_features=10000, vect__ngram_range=(1, 2)\n",
      "[CV 5/5; 6/72] END clf__estimator=DecisionTreeClassifier(), tfidf__use_idf=True, vect__max_df=0.5, vect__max_features=10000, vect__ngram_range=(1, 2);, score=0.123 total time=  14.6s\n",
      "[CV 1/5; 7/72] START clf__estimator=DecisionTreeClassifier(), tfidf__use_idf=True, vect__max_df=0.75, vect__max_features=None, vect__ngram_range=(1, 1)\n",
      "[CV 1/5; 7/72] END clf__estimator=DecisionTreeClassifier(), tfidf__use_idf=True, vect__max_df=0.75, vect__max_features=None, vect__ngram_range=(1, 1);, score=0.119 total time=  12.9s\n",
      "[CV 2/5; 7/72] START clf__estimator=DecisionTreeClassifier(), tfidf__use_idf=True, vect__max_df=0.75, vect__max_features=None, vect__ngram_range=(1, 1)\n",
      "[CV 2/5; 7/72] END clf__estimator=DecisionTreeClassifier(), tfidf__use_idf=True, vect__max_df=0.75, vect__max_features=None, vect__ngram_range=(1, 1);, score=0.144 total time=  13.0s\n",
      "[CV 3/5; 7/72] START clf__estimator=DecisionTreeClassifier(), tfidf__use_idf=True, vect__max_df=0.75, vect__max_features=None, vect__ngram_range=(1, 1)\n",
      "[CV 3/5; 7/72] END clf__estimator=DecisionTreeClassifier(), tfidf__use_idf=True, vect__max_df=0.75, vect__max_features=None, vect__ngram_range=(1, 1);, score=0.136 total time=  12.3s\n",
      "[CV 4/5; 7/72] START clf__estimator=DecisionTreeClassifier(), tfidf__use_idf=True, vect__max_df=0.75, vect__max_features=None, vect__ngram_range=(1, 1)\n",
      "[CV 4/5; 7/72] END clf__estimator=DecisionTreeClassifier(), tfidf__use_idf=True, vect__max_df=0.75, vect__max_features=None, vect__ngram_range=(1, 1);, score=0.136 total time=  12.7s\n",
      "[CV 5/5; 7/72] START clf__estimator=DecisionTreeClassifier(), tfidf__use_idf=True, vect__max_df=0.75, vect__max_features=None, vect__ngram_range=(1, 1)\n",
      "[CV 5/5; 7/72] END clf__estimator=DecisionTreeClassifier(), tfidf__use_idf=True, vect__max_df=0.75, vect__max_features=None, vect__ngram_range=(1, 1);, score=0.124 total time=  12.2s\n",
      "[CV 1/5; 8/72] START clf__estimator=DecisionTreeClassifier(), tfidf__use_idf=True, vect__max_df=0.75, vect__max_features=None, vect__ngram_range=(1, 2)\n",
      "[CV 1/5; 8/72] END clf__estimator=DecisionTreeClassifier(), tfidf__use_idf=True, vect__max_df=0.75, vect__max_features=None, vect__ngram_range=(1, 2);, score=0.105 total time=  30.8s\n",
      "[CV 2/5; 8/72] START clf__estimator=DecisionTreeClassifier(), tfidf__use_idf=True, vect__max_df=0.75, vect__max_features=None, vect__ngram_range=(1, 2)\n",
      "[CV 2/5; 8/72] END clf__estimator=DecisionTreeClassifier(), tfidf__use_idf=True, vect__max_df=0.75, vect__max_features=None, vect__ngram_range=(1, 2);, score=0.096 total time=  30.3s\n",
      "[CV 3/5; 8/72] START clf__estimator=DecisionTreeClassifier(), tfidf__use_idf=True, vect__max_df=0.75, vect__max_features=None, vect__ngram_range=(1, 2)\n",
      "[CV 3/5; 8/72] END clf__estimator=DecisionTreeClassifier(), tfidf__use_idf=True, vect__max_df=0.75, vect__max_features=None, vect__ngram_range=(1, 2);, score=0.120 total time=  30.2s\n",
      "[CV 4/5; 8/72] START clf__estimator=DecisionTreeClassifier(), tfidf__use_idf=True, vect__max_df=0.75, vect__max_features=None, vect__ngram_range=(1, 2)\n",
      "[CV 4/5; 8/72] END clf__estimator=DecisionTreeClassifier(), tfidf__use_idf=True, vect__max_df=0.75, vect__max_features=None, vect__ngram_range=(1, 2);, score=0.120 total time=  30.6s\n",
      "[CV 5/5; 8/72] START clf__estimator=DecisionTreeClassifier(), tfidf__use_idf=True, vect__max_df=0.75, vect__max_features=None, vect__ngram_range=(1, 2)\n",
      "[CV 5/5; 8/72] END clf__estimator=DecisionTreeClassifier(), tfidf__use_idf=True, vect__max_df=0.75, vect__max_features=None, vect__ngram_range=(1, 2);, score=0.108 total time=  32.7s\n",
      "[CV 1/5; 9/72] START clf__estimator=DecisionTreeClassifier(), tfidf__use_idf=True, vect__max_df=0.75, vect__max_features=5000, vect__ngram_range=(1, 1)\n",
      "[CV 1/5; 9/72] END clf__estimator=DecisionTreeClassifier(), tfidf__use_idf=True, vect__max_df=0.75, vect__max_features=5000, vect__ngram_range=(1, 1);, score=0.116 total time=  12.5s\n",
      "[CV 2/5; 9/72] START clf__estimator=DecisionTreeClassifier(), tfidf__use_idf=True, vect__max_df=0.75, vect__max_features=5000, vect__ngram_range=(1, 1)\n",
      "[CV 2/5; 9/72] END clf__estimator=DecisionTreeClassifier(), tfidf__use_idf=True, vect__max_df=0.75, vect__max_features=5000, vect__ngram_range=(1, 1);, score=0.111 total time=  12.0s\n",
      "[CV 3/5; 9/72] START clf__estimator=DecisionTreeClassifier(), tfidf__use_idf=True, vect__max_df=0.75, vect__max_features=5000, vect__ngram_range=(1, 1)\n",
      "[CV 3/5; 9/72] END clf__estimator=DecisionTreeClassifier(), tfidf__use_idf=True, vect__max_df=0.75, vect__max_features=5000, vect__ngram_range=(1, 1);, score=0.125 total time=  10.8s\n",
      "[CV 4/5; 9/72] START clf__estimator=DecisionTreeClassifier(), tfidf__use_idf=True, vect__max_df=0.75, vect__max_features=5000, vect__ngram_range=(1, 1)\n",
      "[CV 4/5; 9/72] END clf__estimator=DecisionTreeClassifier(), tfidf__use_idf=True, vect__max_df=0.75, vect__max_features=5000, vect__ngram_range=(1, 1);, score=0.119 total time=  11.7s\n",
      "[CV 5/5; 9/72] START clf__estimator=DecisionTreeClassifier(), tfidf__use_idf=True, vect__max_df=0.75, vect__max_features=5000, vect__ngram_range=(1, 1)\n",
      "[CV 5/5; 9/72] END clf__estimator=DecisionTreeClassifier(), tfidf__use_idf=True, vect__max_df=0.75, vect__max_features=5000, vect__ngram_range=(1, 1);, score=0.125 total time=  10.7s\n",
      "[CV 1/5; 10/72] START clf__estimator=DecisionTreeClassifier(), tfidf__use_idf=True, vect__max_df=0.75, vect__max_features=5000, vect__ngram_range=(1, 2)\n",
      "[CV 1/5; 10/72] END clf__estimator=DecisionTreeClassifier(), tfidf__use_idf=True, vect__max_df=0.75, vect__max_features=5000, vect__ngram_range=(1, 2);, score=0.127 total time=  14.7s\n",
      "[CV 2/5; 10/72] START clf__estimator=DecisionTreeClassifier(), tfidf__use_idf=True, vect__max_df=0.75, vect__max_features=5000, vect__ngram_range=(1, 2)\n",
      "[CV 2/5; 10/72] END clf__estimator=DecisionTreeClassifier(), tfidf__use_idf=True, vect__max_df=0.75, vect__max_features=5000, vect__ngram_range=(1, 2);, score=0.105 total time=  14.5s\n",
      "[CV 3/5; 10/72] START clf__estimator=DecisionTreeClassifier(), tfidf__use_idf=True, vect__max_df=0.75, vect__max_features=5000, vect__ngram_range=(1, 2)\n",
      "[CV 3/5; 10/72] END clf__estimator=DecisionTreeClassifier(), tfidf__use_idf=True, vect__max_df=0.75, vect__max_features=5000, vect__ngram_range=(1, 2);, score=0.099 total time=  14.0s\n",
      "[CV 4/5; 10/72] START clf__estimator=DecisionTreeClassifier(), tfidf__use_idf=True, vect__max_df=0.75, vect__max_features=5000, vect__ngram_range=(1, 2)\n",
      "[CV 4/5; 10/72] END clf__estimator=DecisionTreeClassifier(), tfidf__use_idf=True, vect__max_df=0.75, vect__max_features=5000, vect__ngram_range=(1, 2);, score=0.103 total time=  14.5s\n",
      "[CV 5/5; 10/72] START clf__estimator=DecisionTreeClassifier(), tfidf__use_idf=True, vect__max_df=0.75, vect__max_features=5000, vect__ngram_range=(1, 2)\n",
      "[CV 5/5; 10/72] END clf__estimator=DecisionTreeClassifier(), tfidf__use_idf=True, vect__max_df=0.75, vect__max_features=5000, vect__ngram_range=(1, 2);, score=0.124 total time=  13.2s\n",
      "[CV 1/5; 11/72] START clf__estimator=DecisionTreeClassifier(), tfidf__use_idf=True, vect__max_df=0.75, vect__max_features=10000, vect__ngram_range=(1, 1)\n",
      "[CV 1/5; 11/72] END clf__estimator=DecisionTreeClassifier(), tfidf__use_idf=True, vect__max_df=0.75, vect__max_features=10000, vect__ngram_range=(1, 1);, score=0.121 total time=  12.2s\n",
      "[CV 2/5; 11/72] START clf__estimator=DecisionTreeClassifier(), tfidf__use_idf=True, vect__max_df=0.75, vect__max_features=10000, vect__ngram_range=(1, 1)\n",
      "[CV 2/5; 11/72] END clf__estimator=DecisionTreeClassifier(), tfidf__use_idf=True, vect__max_df=0.75, vect__max_features=10000, vect__ngram_range=(1, 1);, score=0.112 total time=  12.0s\n",
      "[CV 3/5; 11/72] START clf__estimator=DecisionTreeClassifier(), tfidf__use_idf=True, vect__max_df=0.75, vect__max_features=10000, vect__ngram_range=(1, 1)\n",
      "[CV 3/5; 11/72] END clf__estimator=DecisionTreeClassifier(), tfidf__use_idf=True, vect__max_df=0.75, vect__max_features=10000, vect__ngram_range=(1, 1);, score=0.104 total time=  12.1s\n",
      "[CV 4/5; 11/72] START clf__estimator=DecisionTreeClassifier(), tfidf__use_idf=True, vect__max_df=0.75, vect__max_features=10000, vect__ngram_range=(1, 1)\n",
      "[CV 4/5; 11/72] END clf__estimator=DecisionTreeClassifier(), tfidf__use_idf=True, vect__max_df=0.75, vect__max_features=10000, vect__ngram_range=(1, 1);, score=0.131 total time=  13.1s\n",
      "[CV 5/5; 11/72] START clf__estimator=DecisionTreeClassifier(), tfidf__use_idf=True, vect__max_df=0.75, vect__max_features=10000, vect__ngram_range=(1, 1)\n",
      "[CV 5/5; 11/72] END clf__estimator=DecisionTreeClassifier(), tfidf__use_idf=True, vect__max_df=0.75, vect__max_features=10000, vect__ngram_range=(1, 1);, score=0.129 total time=  12.0s\n",
      "[CV 1/5; 12/72] START clf__estimator=DecisionTreeClassifier(), tfidf__use_idf=True, vect__max_df=0.75, vect__max_features=10000, vect__ngram_range=(1, 2)\n",
      "[CV 1/5; 12/72] END clf__estimator=DecisionTreeClassifier(), tfidf__use_idf=True, vect__max_df=0.75, vect__max_features=10000, vect__ngram_range=(1, 2);, score=0.136 total time=  15.6s\n",
      "[CV 2/5; 12/72] START clf__estimator=DecisionTreeClassifier(), tfidf__use_idf=True, vect__max_df=0.75, vect__max_features=10000, vect__ngram_range=(1, 2)\n",
      "[CV 2/5; 12/72] END clf__estimator=DecisionTreeClassifier(), tfidf__use_idf=True, vect__max_df=0.75, vect__max_features=10000, vect__ngram_range=(1, 2);, score=0.105 total time=  16.7s\n",
      "[CV 3/5; 12/72] START clf__estimator=DecisionTreeClassifier(), tfidf__use_idf=True, vect__max_df=0.75, vect__max_features=10000, vect__ngram_range=(1, 2)\n",
      "[CV 3/5; 12/72] END clf__estimator=DecisionTreeClassifier(), tfidf__use_idf=True, vect__max_df=0.75, vect__max_features=10000, vect__ngram_range=(1, 2);, score=0.116 total time=  15.6s\n",
      "[CV 4/5; 12/72] START clf__estimator=DecisionTreeClassifier(), tfidf__use_idf=True, vect__max_df=0.75, vect__max_features=10000, vect__ngram_range=(1, 2)\n",
      "[CV 4/5; 12/72] END clf__estimator=DecisionTreeClassifier(), tfidf__use_idf=True, vect__max_df=0.75, vect__max_features=10000, vect__ngram_range=(1, 2);, score=0.113 total time=  16.4s\n",
      "[CV 5/5; 12/72] START clf__estimator=DecisionTreeClassifier(), tfidf__use_idf=True, vect__max_df=0.75, vect__max_features=10000, vect__ngram_range=(1, 2)\n",
      "[CV 5/5; 12/72] END clf__estimator=DecisionTreeClassifier(), tfidf__use_idf=True, vect__max_df=0.75, vect__max_features=10000, vect__ngram_range=(1, 2);, score=0.139 total time=  15.4s\n",
      "[CV 1/5; 13/72] START clf__estimator=DecisionTreeClassifier(), tfidf__use_idf=True, vect__max_df=1.0, vect__max_features=None, vect__ngram_range=(1, 1)\n",
      "[CV 1/5; 13/72] END clf__estimator=DecisionTreeClassifier(), tfidf__use_idf=True, vect__max_df=1.0, vect__max_features=None, vect__ngram_range=(1, 1);, score=0.129 total time=  13.0s\n",
      "[CV 2/5; 13/72] START clf__estimator=DecisionTreeClassifier(), tfidf__use_idf=True, vect__max_df=1.0, vect__max_features=None, vect__ngram_range=(1, 1)\n",
      "[CV 2/5; 13/72] END clf__estimator=DecisionTreeClassifier(), tfidf__use_idf=True, vect__max_df=1.0, vect__max_features=None, vect__ngram_range=(1, 1);, score=0.137 total time=  12.6s\n",
      "[CV 3/5; 13/72] START clf__estimator=DecisionTreeClassifier(), tfidf__use_idf=True, vect__max_df=1.0, vect__max_features=None, vect__ngram_range=(1, 1)\n",
      "[CV 3/5; 13/72] END clf__estimator=DecisionTreeClassifier(), tfidf__use_idf=True, vect__max_df=1.0, vect__max_features=None, vect__ngram_range=(1, 1);, score=0.115 total time=  13.0s\n",
      "[CV 4/5; 13/72] START clf__estimator=DecisionTreeClassifier(), tfidf__use_idf=True, vect__max_df=1.0, vect__max_features=None, vect__ngram_range=(1, 1)\n",
      "[CV 4/5; 13/72] END clf__estimator=DecisionTreeClassifier(), tfidf__use_idf=True, vect__max_df=1.0, vect__max_features=None, vect__ngram_range=(1, 1);, score=0.120 total time=  12.9s\n",
      "[CV 5/5; 13/72] START clf__estimator=DecisionTreeClassifier(), tfidf__use_idf=True, vect__max_df=1.0, vect__max_features=None, vect__ngram_range=(1, 1)\n",
      "[CV 5/5; 13/72] END clf__estimator=DecisionTreeClassifier(), tfidf__use_idf=True, vect__max_df=1.0, vect__max_features=None, vect__ngram_range=(1, 1);, score=0.133 total time=  13.4s\n",
      "[CV 1/5; 14/72] START clf__estimator=DecisionTreeClassifier(), tfidf__use_idf=True, vect__max_df=1.0, vect__max_features=None, vect__ngram_range=(1, 2)\n",
      "[CV 1/5; 14/72] END clf__estimator=DecisionTreeClassifier(), tfidf__use_idf=True, vect__max_df=1.0, vect__max_features=None, vect__ngram_range=(1, 2);, score=0.109 total time=  31.2s\n",
      "[CV 2/5; 14/72] START clf__estimator=DecisionTreeClassifier(), tfidf__use_idf=True, vect__max_df=1.0, vect__max_features=None, vect__ngram_range=(1, 2)\n",
      "[CV 2/5; 14/72] END clf__estimator=DecisionTreeClassifier(), tfidf__use_idf=True, vect__max_df=1.0, vect__max_features=None, vect__ngram_range=(1, 2);, score=0.105 total time=  30.2s\n",
      "[CV 3/5; 14/72] START clf__estimator=DecisionTreeClassifier(), tfidf__use_idf=True, vect__max_df=1.0, vect__max_features=None, vect__ngram_range=(1, 2)\n",
      "[CV 3/5; 14/72] END clf__estimator=DecisionTreeClassifier(), tfidf__use_idf=True, vect__max_df=1.0, vect__max_features=None, vect__ngram_range=(1, 2);, score=0.120 total time=  29.7s\n",
      "[CV 4/5; 14/72] START clf__estimator=DecisionTreeClassifier(), tfidf__use_idf=True, vect__max_df=1.0, vect__max_features=None, vect__ngram_range=(1, 2)\n",
      "[CV 4/5; 14/72] END clf__estimator=DecisionTreeClassifier(), tfidf__use_idf=True, vect__max_df=1.0, vect__max_features=None, vect__ngram_range=(1, 2);, score=0.105 total time=  30.6s\n",
      "[CV 5/5; 14/72] START clf__estimator=DecisionTreeClassifier(), tfidf__use_idf=True, vect__max_df=1.0, vect__max_features=None, vect__ngram_range=(1, 2)\n",
      "[CV 5/5; 14/72] END clf__estimator=DecisionTreeClassifier(), tfidf__use_idf=True, vect__max_df=1.0, vect__max_features=None, vect__ngram_range=(1, 2);, score=0.141 total time=  30.3s\n",
      "[CV 1/5; 15/72] START clf__estimator=DecisionTreeClassifier(), tfidf__use_idf=True, vect__max_df=1.0, vect__max_features=5000, vect__ngram_range=(1, 1)\n",
      "[CV 1/5; 15/72] END clf__estimator=DecisionTreeClassifier(), tfidf__use_idf=True, vect__max_df=1.0, vect__max_features=5000, vect__ngram_range=(1, 1);, score=0.105 total time=  12.1s\n",
      "[CV 2/5; 15/72] START clf__estimator=DecisionTreeClassifier(), tfidf__use_idf=True, vect__max_df=1.0, vect__max_features=5000, vect__ngram_range=(1, 1)\n",
      "[CV 2/5; 15/72] END clf__estimator=DecisionTreeClassifier(), tfidf__use_idf=True, vect__max_df=1.0, vect__max_features=5000, vect__ngram_range=(1, 1);, score=0.116 total time=  11.6s\n",
      "[CV 3/5; 15/72] START clf__estimator=DecisionTreeClassifier(), tfidf__use_idf=True, vect__max_df=1.0, vect__max_features=5000, vect__ngram_range=(1, 1)\n",
      "[CV 3/5; 15/72] END clf__estimator=DecisionTreeClassifier(), tfidf__use_idf=True, vect__max_df=1.0, vect__max_features=5000, vect__ngram_range=(1, 1);, score=0.113 total time=  10.7s\n",
      "[CV 4/5; 15/72] START clf__estimator=DecisionTreeClassifier(), tfidf__use_idf=True, vect__max_df=1.0, vect__max_features=5000, vect__ngram_range=(1, 1)\n",
      "[CV 4/5; 15/72] END clf__estimator=DecisionTreeClassifier(), tfidf__use_idf=True, vect__max_df=1.0, vect__max_features=5000, vect__ngram_range=(1, 1);, score=0.103 total time=  11.8s\n",
      "[CV 5/5; 15/72] START clf__estimator=DecisionTreeClassifier(), tfidf__use_idf=True, vect__max_df=1.0, vect__max_features=5000, vect__ngram_range=(1, 1)\n",
      "[CV 5/5; 15/72] END clf__estimator=DecisionTreeClassifier(), tfidf__use_idf=True, vect__max_df=1.0, vect__max_features=5000, vect__ngram_range=(1, 1);, score=0.136 total time=  11.7s\n",
      "[CV 1/5; 16/72] START clf__estimator=DecisionTreeClassifier(), tfidf__use_idf=True, vect__max_df=1.0, vect__max_features=5000, vect__ngram_range=(1, 2)\n",
      "[CV 1/5; 16/72] END clf__estimator=DecisionTreeClassifier(), tfidf__use_idf=True, vect__max_df=1.0, vect__max_features=5000, vect__ngram_range=(1, 2);, score=0.117 total time=  14.4s\n",
      "[CV 2/5; 16/72] START clf__estimator=DecisionTreeClassifier(), tfidf__use_idf=True, vect__max_df=1.0, vect__max_features=5000, vect__ngram_range=(1, 2)\n",
      "[CV 2/5; 16/72] END clf__estimator=DecisionTreeClassifier(), tfidf__use_idf=True, vect__max_df=1.0, vect__max_features=5000, vect__ngram_range=(1, 2);, score=0.103 total time=  13.9s\n",
      "[CV 3/5; 16/72] START clf__estimator=DecisionTreeClassifier(), tfidf__use_idf=True, vect__max_df=1.0, vect__max_features=5000, vect__ngram_range=(1, 2)\n",
      "[CV 3/5; 16/72] END clf__estimator=DecisionTreeClassifier(), tfidf__use_idf=True, vect__max_df=1.0, vect__max_features=5000, vect__ngram_range=(1, 2);, score=0.100 total time=  13.5s\n",
      "[CV 4/5; 16/72] START clf__estimator=DecisionTreeClassifier(), tfidf__use_idf=True, vect__max_df=1.0, vect__max_features=5000, vect__ngram_range=(1, 2)\n",
      "[CV 4/5; 16/72] END clf__estimator=DecisionTreeClassifier(), tfidf__use_idf=True, vect__max_df=1.0, vect__max_features=5000, vect__ngram_range=(1, 2);, score=0.097 total time=  13.8s\n",
      "[CV 5/5; 16/72] START clf__estimator=DecisionTreeClassifier(), tfidf__use_idf=True, vect__max_df=1.0, vect__max_features=5000, vect__ngram_range=(1, 2)\n",
      "[CV 5/5; 16/72] END clf__estimator=DecisionTreeClassifier(), tfidf__use_idf=True, vect__max_df=1.0, vect__max_features=5000, vect__ngram_range=(1, 2);, score=0.125 total time=  12.6s\n",
      "[CV 1/5; 17/72] START clf__estimator=DecisionTreeClassifier(), tfidf__use_idf=True, vect__max_df=1.0, vect__max_features=10000, vect__ngram_range=(1, 1)\n",
      "[CV 1/5; 17/72] END clf__estimator=DecisionTreeClassifier(), tfidf__use_idf=True, vect__max_df=1.0, vect__max_features=10000, vect__ngram_range=(1, 1);, score=0.132 total time=  12.2s\n",
      "[CV 2/5; 17/72] START clf__estimator=DecisionTreeClassifier(), tfidf__use_idf=True, vect__max_df=1.0, vect__max_features=10000, vect__ngram_range=(1, 1)\n",
      "[CV 2/5; 17/72] END clf__estimator=DecisionTreeClassifier(), tfidf__use_idf=True, vect__max_df=1.0, vect__max_features=10000, vect__ngram_range=(1, 1);, score=0.131 total time=  11.9s\n",
      "[CV 3/5; 17/72] START clf__estimator=DecisionTreeClassifier(), tfidf__use_idf=True, vect__max_df=1.0, vect__max_features=10000, vect__ngram_range=(1, 1)\n",
      "[CV 3/5; 17/72] END clf__estimator=DecisionTreeClassifier(), tfidf__use_idf=True, vect__max_df=1.0, vect__max_features=10000, vect__ngram_range=(1, 1);, score=0.116 total time=  11.1s\n",
      "[CV 4/5; 17/72] START clf__estimator=DecisionTreeClassifier(), tfidf__use_idf=True, vect__max_df=1.0, vect__max_features=10000, vect__ngram_range=(1, 1)\n",
      "[CV 4/5; 17/72] END clf__estimator=DecisionTreeClassifier(), tfidf__use_idf=True, vect__max_df=1.0, vect__max_features=10000, vect__ngram_range=(1, 1);, score=0.124 total time=  11.9s\n",
      "[CV 5/5; 17/72] START clf__estimator=DecisionTreeClassifier(), tfidf__use_idf=True, vect__max_df=1.0, vect__max_features=10000, vect__ngram_range=(1, 1)\n",
      "[CV 5/5; 17/72] END clf__estimator=DecisionTreeClassifier(), tfidf__use_idf=True, vect__max_df=1.0, vect__max_features=10000, vect__ngram_range=(1, 1);, score=0.148 total time=  11.5s\n",
      "[CV 1/5; 18/72] START clf__estimator=DecisionTreeClassifier(), tfidf__use_idf=True, vect__max_df=1.0, vect__max_features=10000, vect__ngram_range=(1, 2)\n",
      "[CV 1/5; 18/72] END clf__estimator=DecisionTreeClassifier(), tfidf__use_idf=True, vect__max_df=1.0, vect__max_features=10000, vect__ngram_range=(1, 2);, score=0.136 total time=  15.1s\n",
      "[CV 2/5; 18/72] START clf__estimator=DecisionTreeClassifier(), tfidf__use_idf=True, vect__max_df=1.0, vect__max_features=10000, vect__ngram_range=(1, 2)\n",
      "[CV 2/5; 18/72] END clf__estimator=DecisionTreeClassifier(), tfidf__use_idf=True, vect__max_df=1.0, vect__max_features=10000, vect__ngram_range=(1, 2);, score=0.096 total time=  14.9s\n",
      "[CV 3/5; 18/72] START clf__estimator=DecisionTreeClassifier(), tfidf__use_idf=True, vect__max_df=1.0, vect__max_features=10000, vect__ngram_range=(1, 2)\n",
      "[CV 3/5; 18/72] END clf__estimator=DecisionTreeClassifier(), tfidf__use_idf=True, vect__max_df=1.0, vect__max_features=10000, vect__ngram_range=(1, 2);, score=0.109 total time=  14.4s\n",
      "[CV 4/5; 18/72] START clf__estimator=DecisionTreeClassifier(), tfidf__use_idf=True, vect__max_df=1.0, vect__max_features=10000, vect__ngram_range=(1, 2)\n",
      "[CV 4/5; 18/72] END clf__estimator=DecisionTreeClassifier(), tfidf__use_idf=True, vect__max_df=1.0, vect__max_features=10000, vect__ngram_range=(1, 2);, score=0.133 total time=  15.1s\n",
      "[CV 5/5; 18/72] START clf__estimator=DecisionTreeClassifier(), tfidf__use_idf=True, vect__max_df=1.0, vect__max_features=10000, vect__ngram_range=(1, 2)\n",
      "[CV 5/5; 18/72] END clf__estimator=DecisionTreeClassifier(), tfidf__use_idf=True, vect__max_df=1.0, vect__max_features=10000, vect__ngram_range=(1, 2);, score=0.109 total time=  14.2s\n",
      "[CV 1/5; 19/72] START clf__estimator=DecisionTreeClassifier(), tfidf__use_idf=False, vect__max_df=0.5, vect__max_features=None, vect__ngram_range=(1, 1)\n",
      "[CV 1/5; 19/72] END clf__estimator=DecisionTreeClassifier(), tfidf__use_idf=False, vect__max_df=0.5, vect__max_features=None, vect__ngram_range=(1, 1);, score=0.133 total time=   9.8s\n",
      "[CV 2/5; 19/72] START clf__estimator=DecisionTreeClassifier(), tfidf__use_idf=False, vect__max_df=0.5, vect__max_features=None, vect__ngram_range=(1, 1)\n",
      "[CV 2/5; 19/72] END clf__estimator=DecisionTreeClassifier(), tfidf__use_idf=False, vect__max_df=0.5, vect__max_features=None, vect__ngram_range=(1, 1);, score=0.124 total time=  10.1s\n",
      "[CV 3/5; 19/72] START clf__estimator=DecisionTreeClassifier(), tfidf__use_idf=False, vect__max_df=0.5, vect__max_features=None, vect__ngram_range=(1, 1)\n",
      "[CV 3/5; 19/72] END clf__estimator=DecisionTreeClassifier(), tfidf__use_idf=False, vect__max_df=0.5, vect__max_features=None, vect__ngram_range=(1, 1);, score=0.109 total time=   9.7s\n",
      "[CV 4/5; 19/72] START clf__estimator=DecisionTreeClassifier(), tfidf__use_idf=False, vect__max_df=0.5, vect__max_features=None, vect__ngram_range=(1, 1)\n",
      "[CV 4/5; 19/72] END clf__estimator=DecisionTreeClassifier(), tfidf__use_idf=False, vect__max_df=0.5, vect__max_features=None, vect__ngram_range=(1, 1);, score=0.121 total time=   9.6s\n",
      "[CV 5/5; 19/72] START clf__estimator=DecisionTreeClassifier(), tfidf__use_idf=False, vect__max_df=0.5, vect__max_features=None, vect__ngram_range=(1, 1)\n",
      "[CV 5/5; 19/72] END clf__estimator=DecisionTreeClassifier(), tfidf__use_idf=False, vect__max_df=0.5, vect__max_features=None, vect__ngram_range=(1, 1);, score=0.155 total time=   9.6s\n",
      "[CV 1/5; 20/72] START clf__estimator=DecisionTreeClassifier(), tfidf__use_idf=False, vect__max_df=0.5, vect__max_features=None, vect__ngram_range=(1, 2)\n",
      "[CV 1/5; 20/72] END clf__estimator=DecisionTreeClassifier(), tfidf__use_idf=False, vect__max_df=0.5, vect__max_features=None, vect__ngram_range=(1, 2);, score=0.149 total time=  25.2s\n",
      "[CV 2/5; 20/72] START clf__estimator=DecisionTreeClassifier(), tfidf__use_idf=False, vect__max_df=0.5, vect__max_features=None, vect__ngram_range=(1, 2)\n",
      "[CV 2/5; 20/72] END clf__estimator=DecisionTreeClassifier(), tfidf__use_idf=False, vect__max_df=0.5, vect__max_features=None, vect__ngram_range=(1, 2);, score=0.121 total time=  25.5s\n",
      "[CV 3/5; 20/72] START clf__estimator=DecisionTreeClassifier(), tfidf__use_idf=False, vect__max_df=0.5, vect__max_features=None, vect__ngram_range=(1, 2)\n",
      "[CV 3/5; 20/72] END clf__estimator=DecisionTreeClassifier(), tfidf__use_idf=False, vect__max_df=0.5, vect__max_features=None, vect__ngram_range=(1, 2);, score=0.131 total time=  24.5s\n",
      "[CV 4/5; 20/72] START clf__estimator=DecisionTreeClassifier(), tfidf__use_idf=False, vect__max_df=0.5, vect__max_features=None, vect__ngram_range=(1, 2)\n",
      "[CV 4/5; 20/72] END clf__estimator=DecisionTreeClassifier(), tfidf__use_idf=False, vect__max_df=0.5, vect__max_features=None, vect__ngram_range=(1, 2);, score=0.120 total time=  26.4s\n",
      "[CV 5/5; 20/72] START clf__estimator=DecisionTreeClassifier(), tfidf__use_idf=False, vect__max_df=0.5, vect__max_features=None, vect__ngram_range=(1, 2)\n",
      "[CV 5/5; 20/72] END clf__estimator=DecisionTreeClassifier(), tfidf__use_idf=False, vect__max_df=0.5, vect__max_features=None, vect__ngram_range=(1, 2);, score=0.141 total time=  25.0s\n",
      "[CV 1/5; 21/72] START clf__estimator=DecisionTreeClassifier(), tfidf__use_idf=False, vect__max_df=0.5, vect__max_features=5000, vect__ngram_range=(1, 1)\n",
      "[CV 1/5; 21/72] END clf__estimator=DecisionTreeClassifier(), tfidf__use_idf=False, vect__max_df=0.5, vect__max_features=5000, vect__ngram_range=(1, 1);, score=0.135 total time=   8.5s\n",
      "[CV 2/5; 21/72] START clf__estimator=DecisionTreeClassifier(), tfidf__use_idf=False, vect__max_df=0.5, vect__max_features=5000, vect__ngram_range=(1, 1)\n",
      "[CV 2/5; 21/72] END clf__estimator=DecisionTreeClassifier(), tfidf__use_idf=False, vect__max_df=0.5, vect__max_features=5000, vect__ngram_range=(1, 1);, score=0.113 total time=   8.9s\n",
      "[CV 3/5; 21/72] START clf__estimator=DecisionTreeClassifier(), tfidf__use_idf=False, vect__max_df=0.5, vect__max_features=5000, vect__ngram_range=(1, 1)\n",
      "[CV 3/5; 21/72] END clf__estimator=DecisionTreeClassifier(), tfidf__use_idf=False, vect__max_df=0.5, vect__max_features=5000, vect__ngram_range=(1, 1);, score=0.133 total time=   8.0s\n",
      "[CV 4/5; 21/72] START clf__estimator=DecisionTreeClassifier(), tfidf__use_idf=False, vect__max_df=0.5, vect__max_features=5000, vect__ngram_range=(1, 1)\n",
      "[CV 4/5; 21/72] END clf__estimator=DecisionTreeClassifier(), tfidf__use_idf=False, vect__max_df=0.5, vect__max_features=5000, vect__ngram_range=(1, 1);, score=0.135 total time=   8.6s\n",
      "[CV 5/5; 21/72] START clf__estimator=DecisionTreeClassifier(), tfidf__use_idf=False, vect__max_df=0.5, vect__max_features=5000, vect__ngram_range=(1, 1)\n",
      "[CV 5/5; 21/72] END clf__estimator=DecisionTreeClassifier(), tfidf__use_idf=False, vect__max_df=0.5, vect__max_features=5000, vect__ngram_range=(1, 1);, score=0.132 total time=   8.0s\n",
      "[CV 1/5; 22/72] START clf__estimator=DecisionTreeClassifier(), tfidf__use_idf=False, vect__max_df=0.5, vect__max_features=5000, vect__ngram_range=(1, 2)\n",
      "[CV 1/5; 22/72] END clf__estimator=DecisionTreeClassifier(), tfidf__use_idf=False, vect__max_df=0.5, vect__max_features=5000, vect__ngram_range=(1, 2);, score=0.127 total time=  11.4s\n",
      "[CV 2/5; 22/72] START clf__estimator=DecisionTreeClassifier(), tfidf__use_idf=False, vect__max_df=0.5, vect__max_features=5000, vect__ngram_range=(1, 2)\n",
      "[CV 2/5; 22/72] END clf__estimator=DecisionTreeClassifier(), tfidf__use_idf=False, vect__max_df=0.5, vect__max_features=5000, vect__ngram_range=(1, 2);, score=0.117 total time=  11.5s\n",
      "[CV 3/5; 22/72] START clf__estimator=DecisionTreeClassifier(), tfidf__use_idf=False, vect__max_df=0.5, vect__max_features=5000, vect__ngram_range=(1, 2)\n",
      "[CV 3/5; 22/72] END clf__estimator=DecisionTreeClassifier(), tfidf__use_idf=False, vect__max_df=0.5, vect__max_features=5000, vect__ngram_range=(1, 2);, score=0.112 total time=  10.3s\n",
      "[CV 4/5; 22/72] START clf__estimator=DecisionTreeClassifier(), tfidf__use_idf=False, vect__max_df=0.5, vect__max_features=5000, vect__ngram_range=(1, 2)\n",
      "[CV 4/5; 22/72] END clf__estimator=DecisionTreeClassifier(), tfidf__use_idf=False, vect__max_df=0.5, vect__max_features=5000, vect__ngram_range=(1, 2);, score=0.121 total time=  11.3s\n",
      "[CV 5/5; 22/72] START clf__estimator=DecisionTreeClassifier(), tfidf__use_idf=False, vect__max_df=0.5, vect__max_features=5000, vect__ngram_range=(1, 2)\n",
      "[CV 5/5; 22/72] END clf__estimator=DecisionTreeClassifier(), tfidf__use_idf=False, vect__max_df=0.5, vect__max_features=5000, vect__ngram_range=(1, 2);, score=0.120 total time=  11.9s\n",
      "[CV 1/5; 23/72] START clf__estimator=DecisionTreeClassifier(), tfidf__use_idf=False, vect__max_df=0.5, vect__max_features=10000, vect__ngram_range=(1, 1)\n",
      "[CV 1/5; 23/72] END clf__estimator=DecisionTreeClassifier(), tfidf__use_idf=False, vect__max_df=0.5, vect__max_features=10000, vect__ngram_range=(1, 1);, score=0.143 total time=  10.0s\n",
      "[CV 2/5; 23/72] START clf__estimator=DecisionTreeClassifier(), tfidf__use_idf=False, vect__max_df=0.5, vect__max_features=10000, vect__ngram_range=(1, 1)\n",
      "[CV 2/5; 23/72] END clf__estimator=DecisionTreeClassifier(), tfidf__use_idf=False, vect__max_df=0.5, vect__max_features=10000, vect__ngram_range=(1, 1);, score=0.131 total time=  10.0s\n",
      "[CV 3/5; 23/72] START clf__estimator=DecisionTreeClassifier(), tfidf__use_idf=False, vect__max_df=0.5, vect__max_features=10000, vect__ngram_range=(1, 1)\n",
      "[CV 3/5; 23/72] END clf__estimator=DecisionTreeClassifier(), tfidf__use_idf=False, vect__max_df=0.5, vect__max_features=10000, vect__ngram_range=(1, 1);, score=0.131 total time=   9.8s\n",
      "[CV 4/5; 23/72] START clf__estimator=DecisionTreeClassifier(), tfidf__use_idf=False, vect__max_df=0.5, vect__max_features=10000, vect__ngram_range=(1, 1)\n",
      "[CV 4/5; 23/72] END clf__estimator=DecisionTreeClassifier(), tfidf__use_idf=False, vect__max_df=0.5, vect__max_features=10000, vect__ngram_range=(1, 1);, score=0.135 total time=   9.4s\n",
      "[CV 5/5; 23/72] START clf__estimator=DecisionTreeClassifier(), tfidf__use_idf=False, vect__max_df=0.5, vect__max_features=10000, vect__ngram_range=(1, 1)\n",
      "[CV 5/5; 23/72] END clf__estimator=DecisionTreeClassifier(), tfidf__use_idf=False, vect__max_df=0.5, vect__max_features=10000, vect__ngram_range=(1, 1);, score=0.149 total time=  10.2s\n",
      "[CV 1/5; 24/72] START clf__estimator=DecisionTreeClassifier(), tfidf__use_idf=False, vect__max_df=0.5, vect__max_features=10000, vect__ngram_range=(1, 2)\n",
      "[CV 1/5; 24/72] END clf__estimator=DecisionTreeClassifier(), tfidf__use_idf=False, vect__max_df=0.5, vect__max_features=10000, vect__ngram_range=(1, 2);, score=0.139 total time=  13.2s\n",
      "[CV 2/5; 24/72] START clf__estimator=DecisionTreeClassifier(), tfidf__use_idf=False, vect__max_df=0.5, vect__max_features=10000, vect__ngram_range=(1, 2)\n",
      "[CV 2/5; 24/72] END clf__estimator=DecisionTreeClassifier(), tfidf__use_idf=False, vect__max_df=0.5, vect__max_features=10000, vect__ngram_range=(1, 2);, score=0.112 total time=  13.3s\n",
      "[CV 3/5; 24/72] START clf__estimator=DecisionTreeClassifier(), tfidf__use_idf=False, vect__max_df=0.5, vect__max_features=10000, vect__ngram_range=(1, 2)\n",
      "[CV 3/5; 24/72] END clf__estimator=DecisionTreeClassifier(), tfidf__use_idf=False, vect__max_df=0.5, vect__max_features=10000, vect__ngram_range=(1, 2);, score=0.112 total time=  12.5s\n",
      "[CV 4/5; 24/72] START clf__estimator=DecisionTreeClassifier(), tfidf__use_idf=False, vect__max_df=0.5, vect__max_features=10000, vect__ngram_range=(1, 2)\n",
      "[CV 4/5; 24/72] END clf__estimator=DecisionTreeClassifier(), tfidf__use_idf=False, vect__max_df=0.5, vect__max_features=10000, vect__ngram_range=(1, 2);, score=0.111 total time=  13.2s\n",
      "[CV 5/5; 24/72] START clf__estimator=DecisionTreeClassifier(), tfidf__use_idf=False, vect__max_df=0.5, vect__max_features=10000, vect__ngram_range=(1, 2)\n",
      "[CV 5/5; 24/72] END clf__estimator=DecisionTreeClassifier(), tfidf__use_idf=False, vect__max_df=0.5, vect__max_features=10000, vect__ngram_range=(1, 2);, score=0.129 total time=  12.8s\n",
      "[CV 1/5; 25/72] START clf__estimator=DecisionTreeClassifier(), tfidf__use_idf=False, vect__max_df=0.75, vect__max_features=None, vect__ngram_range=(1, 1)\n",
      "[CV 1/5; 25/72] END clf__estimator=DecisionTreeClassifier(), tfidf__use_idf=False, vect__max_df=0.75, vect__max_features=None, vect__ngram_range=(1, 1);, score=0.117 total time=  10.8s\n",
      "[CV 2/5; 25/72] START clf__estimator=DecisionTreeClassifier(), tfidf__use_idf=False, vect__max_df=0.75, vect__max_features=None, vect__ngram_range=(1, 1)\n",
      "[CV 2/5; 25/72] END clf__estimator=DecisionTreeClassifier(), tfidf__use_idf=False, vect__max_df=0.75, vect__max_features=None, vect__ngram_range=(1, 1);, score=0.117 total time=  10.4s\n",
      "[CV 3/5; 25/72] START clf__estimator=DecisionTreeClassifier(), tfidf__use_idf=False, vect__max_df=0.75, vect__max_features=None, vect__ngram_range=(1, 1)\n",
      "[CV 3/5; 25/72] END clf__estimator=DecisionTreeClassifier(), tfidf__use_idf=False, vect__max_df=0.75, vect__max_features=None, vect__ngram_range=(1, 1);, score=0.108 total time=  10.5s\n",
      "[CV 4/5; 25/72] START clf__estimator=DecisionTreeClassifier(), tfidf__use_idf=False, vect__max_df=0.75, vect__max_features=None, vect__ngram_range=(1, 1)\n",
      "[CV 4/5; 25/72] END clf__estimator=DecisionTreeClassifier(), tfidf__use_idf=False, vect__max_df=0.75, vect__max_features=None, vect__ngram_range=(1, 1);, score=0.137 total time=  10.6s\n",
      "[CV 5/5; 25/72] START clf__estimator=DecisionTreeClassifier(), tfidf__use_idf=False, vect__max_df=0.75, vect__max_features=None, vect__ngram_range=(1, 1)\n",
      "[CV 5/5; 25/72] END clf__estimator=DecisionTreeClassifier(), tfidf__use_idf=False, vect__max_df=0.75, vect__max_features=None, vect__ngram_range=(1, 1);, score=0.143 total time=   9.9s\n",
      "[CV 1/5; 26/72] START clf__estimator=DecisionTreeClassifier(), tfidf__use_idf=False, vect__max_df=0.75, vect__max_features=None, vect__ngram_range=(1, 2)\n",
      "[CV 1/5; 26/72] END clf__estimator=DecisionTreeClassifier(), tfidf__use_idf=False, vect__max_df=0.75, vect__max_features=None, vect__ngram_range=(1, 2);, score=0.132 total time=  26.6s\n",
      "[CV 2/5; 26/72] START clf__estimator=DecisionTreeClassifier(), tfidf__use_idf=False, vect__max_df=0.75, vect__max_features=None, vect__ngram_range=(1, 2)\n",
      "[CV 2/5; 26/72] END clf__estimator=DecisionTreeClassifier(), tfidf__use_idf=False, vect__max_df=0.75, vect__max_features=None, vect__ngram_range=(1, 2);, score=0.139 total time=  25.3s\n",
      "[CV 3/5; 26/72] START clf__estimator=DecisionTreeClassifier(), tfidf__use_idf=False, vect__max_df=0.75, vect__max_features=None, vect__ngram_range=(1, 2)\n",
      "[CV 3/5; 26/72] END clf__estimator=DecisionTreeClassifier(), tfidf__use_idf=False, vect__max_df=0.75, vect__max_features=None, vect__ngram_range=(1, 2);, score=0.108 total time=  24.2s\n",
      "[CV 4/5; 26/72] START clf__estimator=DecisionTreeClassifier(), tfidf__use_idf=False, vect__max_df=0.75, vect__max_features=None, vect__ngram_range=(1, 2)\n",
      "[CV 4/5; 26/72] END clf__estimator=DecisionTreeClassifier(), tfidf__use_idf=False, vect__max_df=0.75, vect__max_features=None, vect__ngram_range=(1, 2);, score=0.133 total time=  26.8s\n",
      "[CV 5/5; 26/72] START clf__estimator=DecisionTreeClassifier(), tfidf__use_idf=False, vect__max_df=0.75, vect__max_features=None, vect__ngram_range=(1, 2)\n",
      "[CV 5/5; 26/72] END clf__estimator=DecisionTreeClassifier(), tfidf__use_idf=False, vect__max_df=0.75, vect__max_features=None, vect__ngram_range=(1, 2);, score=0.145 total time=  23.9s\n",
      "[CV 1/5; 27/72] START clf__estimator=DecisionTreeClassifier(), tfidf__use_idf=False, vect__max_df=0.75, vect__max_features=5000, vect__ngram_range=(1, 1)\n",
      "[CV 1/5; 27/72] END clf__estimator=DecisionTreeClassifier(), tfidf__use_idf=False, vect__max_df=0.75, vect__max_features=5000, vect__ngram_range=(1, 1);, score=0.117 total time=   9.2s\n",
      "[CV 2/5; 27/72] START clf__estimator=DecisionTreeClassifier(), tfidf__use_idf=False, vect__max_df=0.75, vect__max_features=5000, vect__ngram_range=(1, 1)\n",
      "[CV 2/5; 27/72] END clf__estimator=DecisionTreeClassifier(), tfidf__use_idf=False, vect__max_df=0.75, vect__max_features=5000, vect__ngram_range=(1, 1);, score=0.124 total time=   9.0s\n",
      "[CV 3/5; 27/72] START clf__estimator=DecisionTreeClassifier(), tfidf__use_idf=False, vect__max_df=0.75, vect__max_features=5000, vect__ngram_range=(1, 1)\n",
      "[CV 3/5; 27/72] END clf__estimator=DecisionTreeClassifier(), tfidf__use_idf=False, vect__max_df=0.75, vect__max_features=5000, vect__ngram_range=(1, 1);, score=0.132 total time=   8.8s\n",
      "[CV 4/5; 27/72] START clf__estimator=DecisionTreeClassifier(), tfidf__use_idf=False, vect__max_df=0.75, vect__max_features=5000, vect__ngram_range=(1, 1)\n",
      "[CV 4/5; 27/72] END clf__estimator=DecisionTreeClassifier(), tfidf__use_idf=False, vect__max_df=0.75, vect__max_features=5000, vect__ngram_range=(1, 1);, score=0.125 total time=   9.2s\n",
      "[CV 5/5; 27/72] START clf__estimator=DecisionTreeClassifier(), tfidf__use_idf=False, vect__max_df=0.75, vect__max_features=5000, vect__ngram_range=(1, 1)\n",
      "[CV 5/5; 27/72] END clf__estimator=DecisionTreeClassifier(), tfidf__use_idf=False, vect__max_df=0.75, vect__max_features=5000, vect__ngram_range=(1, 1);, score=0.155 total time=   8.8s\n",
      "[CV 1/5; 28/72] START clf__estimator=DecisionTreeClassifier(), tfidf__use_idf=False, vect__max_df=0.75, vect__max_features=5000, vect__ngram_range=(1, 2)\n",
      "[CV 1/5; 28/72] END clf__estimator=DecisionTreeClassifier(), tfidf__use_idf=False, vect__max_df=0.75, vect__max_features=5000, vect__ngram_range=(1, 2);, score=0.117 total time=  11.9s\n",
      "[CV 2/5; 28/72] START clf__estimator=DecisionTreeClassifier(), tfidf__use_idf=False, vect__max_df=0.75, vect__max_features=5000, vect__ngram_range=(1, 2)\n",
      "[CV 2/5; 28/72] END clf__estimator=DecisionTreeClassifier(), tfidf__use_idf=False, vect__max_df=0.75, vect__max_features=5000, vect__ngram_range=(1, 2);, score=0.112 total time=  12.3s\n",
      "[CV 3/5; 28/72] START clf__estimator=DecisionTreeClassifier(), tfidf__use_idf=False, vect__max_df=0.75, vect__max_features=5000, vect__ngram_range=(1, 2)\n",
      "[CV 3/5; 28/72] END clf__estimator=DecisionTreeClassifier(), tfidf__use_idf=False, vect__max_df=0.75, vect__max_features=5000, vect__ngram_range=(1, 2);, score=0.104 total time=  10.9s\n",
      "[CV 4/5; 28/72] START clf__estimator=DecisionTreeClassifier(), tfidf__use_idf=False, vect__max_df=0.75, vect__max_features=5000, vect__ngram_range=(1, 2)\n",
      "[CV 4/5; 28/72] END clf__estimator=DecisionTreeClassifier(), tfidf__use_idf=False, vect__max_df=0.75, vect__max_features=5000, vect__ngram_range=(1, 2);, score=0.115 total time=  11.7s\n",
      "[CV 5/5; 28/72] START clf__estimator=DecisionTreeClassifier(), tfidf__use_idf=False, vect__max_df=0.75, vect__max_features=5000, vect__ngram_range=(1, 2)\n",
      "[CV 5/5; 28/72] END clf__estimator=DecisionTreeClassifier(), tfidf__use_idf=False, vect__max_df=0.75, vect__max_features=5000, vect__ngram_range=(1, 2);, score=0.147 total time=  11.4s\n",
      "[CV 1/5; 29/72] START clf__estimator=DecisionTreeClassifier(), tfidf__use_idf=False, vect__max_df=0.75, vect__max_features=10000, vect__ngram_range=(1, 1)\n",
      "[CV 1/5; 29/72] END clf__estimator=DecisionTreeClassifier(), tfidf__use_idf=False, vect__max_df=0.75, vect__max_features=10000, vect__ngram_range=(1, 1);, score=0.133 total time=  10.5s\n",
      "[CV 2/5; 29/72] START clf__estimator=DecisionTreeClassifier(), tfidf__use_idf=False, vect__max_df=0.75, vect__max_features=10000, vect__ngram_range=(1, 1)\n",
      "[CV 2/5; 29/72] END clf__estimator=DecisionTreeClassifier(), tfidf__use_idf=False, vect__max_df=0.75, vect__max_features=10000, vect__ngram_range=(1, 1);, score=0.121 total time=  10.3s\n",
      "[CV 3/5; 29/72] START clf__estimator=DecisionTreeClassifier(), tfidf__use_idf=False, vect__max_df=0.75, vect__max_features=10000, vect__ngram_range=(1, 1)\n",
      "[CV 3/5; 29/72] END clf__estimator=DecisionTreeClassifier(), tfidf__use_idf=False, vect__max_df=0.75, vect__max_features=10000, vect__ngram_range=(1, 1);, score=0.116 total time=  10.8s\n",
      "[CV 4/5; 29/72] START clf__estimator=DecisionTreeClassifier(), tfidf__use_idf=False, vect__max_df=0.75, vect__max_features=10000, vect__ngram_range=(1, 1)\n",
      "[CV 4/5; 29/72] END clf__estimator=DecisionTreeClassifier(), tfidf__use_idf=False, vect__max_df=0.75, vect__max_features=10000, vect__ngram_range=(1, 1);, score=0.128 total time=  10.4s\n",
      "[CV 5/5; 29/72] START clf__estimator=DecisionTreeClassifier(), tfidf__use_idf=False, vect__max_df=0.75, vect__max_features=10000, vect__ngram_range=(1, 1)\n",
      "[CV 5/5; 29/72] END clf__estimator=DecisionTreeClassifier(), tfidf__use_idf=False, vect__max_df=0.75, vect__max_features=10000, vect__ngram_range=(1, 1);, score=0.144 total time=  10.1s\n",
      "[CV 1/5; 30/72] START clf__estimator=DecisionTreeClassifier(), tfidf__use_idf=False, vect__max_df=0.75, vect__max_features=10000, vect__ngram_range=(1, 2)\n",
      "[CV 1/5; 30/72] END clf__estimator=DecisionTreeClassifier(), tfidf__use_idf=False, vect__max_df=0.75, vect__max_features=10000, vect__ngram_range=(1, 2);, score=0.140 total time=  13.8s\n",
      "[CV 2/5; 30/72] START clf__estimator=DecisionTreeClassifier(), tfidf__use_idf=False, vect__max_df=0.75, vect__max_features=10000, vect__ngram_range=(1, 2)\n",
      "[CV 2/5; 30/72] END clf__estimator=DecisionTreeClassifier(), tfidf__use_idf=False, vect__max_df=0.75, vect__max_features=10000, vect__ngram_range=(1, 2);, score=0.120 total time=  13.7s\n",
      "[CV 3/5; 30/72] START clf__estimator=DecisionTreeClassifier(), tfidf__use_idf=False, vect__max_df=0.75, vect__max_features=10000, vect__ngram_range=(1, 2)\n",
      "[CV 3/5; 30/72] END clf__estimator=DecisionTreeClassifier(), tfidf__use_idf=False, vect__max_df=0.75, vect__max_features=10000, vect__ngram_range=(1, 2);, score=0.123 total time=  13.3s\n",
      "[CV 4/5; 30/72] START clf__estimator=DecisionTreeClassifier(), tfidf__use_idf=False, vect__max_df=0.75, vect__max_features=10000, vect__ngram_range=(1, 2)\n",
      "[CV 4/5; 30/72] END clf__estimator=DecisionTreeClassifier(), tfidf__use_idf=False, vect__max_df=0.75, vect__max_features=10000, vect__ngram_range=(1, 2);, score=0.121 total time=  13.3s\n",
      "[CV 5/5; 30/72] START clf__estimator=DecisionTreeClassifier(), tfidf__use_idf=False, vect__max_df=0.75, vect__max_features=10000, vect__ngram_range=(1, 2)\n",
      "[CV 5/5; 30/72] END clf__estimator=DecisionTreeClassifier(), tfidf__use_idf=False, vect__max_df=0.75, vect__max_features=10000, vect__ngram_range=(1, 2);, score=0.151 total time=  13.2s\n",
      "[CV 1/5; 31/72] START clf__estimator=DecisionTreeClassifier(), tfidf__use_idf=False, vect__max_df=1.0, vect__max_features=None, vect__ngram_range=(1, 1)\n",
      "[CV 1/5; 31/72] END clf__estimator=DecisionTreeClassifier(), tfidf__use_idf=False, vect__max_df=1.0, vect__max_features=None, vect__ngram_range=(1, 1);, score=0.137 total time=  11.2s\n",
      "[CV 2/5; 31/72] START clf__estimator=DecisionTreeClassifier(), tfidf__use_idf=False, vect__max_df=1.0, vect__max_features=None, vect__ngram_range=(1, 1)\n",
      "[CV 2/5; 31/72] END clf__estimator=DecisionTreeClassifier(), tfidf__use_idf=False, vect__max_df=1.0, vect__max_features=None, vect__ngram_range=(1, 1);, score=0.113 total time=  11.3s\n",
      "[CV 3/5; 31/72] START clf__estimator=DecisionTreeClassifier(), tfidf__use_idf=False, vect__max_df=1.0, vect__max_features=None, vect__ngram_range=(1, 1)\n",
      "[CV 3/5; 31/72] END clf__estimator=DecisionTreeClassifier(), tfidf__use_idf=False, vect__max_df=1.0, vect__max_features=None, vect__ngram_range=(1, 1);, score=0.129 total time=  10.4s\n",
      "[CV 4/5; 31/72] START clf__estimator=DecisionTreeClassifier(), tfidf__use_idf=False, vect__max_df=1.0, vect__max_features=None, vect__ngram_range=(1, 1)\n",
      "[CV 4/5; 31/72] END clf__estimator=DecisionTreeClassifier(), tfidf__use_idf=False, vect__max_df=1.0, vect__max_features=None, vect__ngram_range=(1, 1);, score=0.113 total time=  10.9s\n",
      "[CV 5/5; 31/72] START clf__estimator=DecisionTreeClassifier(), tfidf__use_idf=False, vect__max_df=1.0, vect__max_features=None, vect__ngram_range=(1, 1)\n",
      "[CV 5/5; 31/72] END clf__estimator=DecisionTreeClassifier(), tfidf__use_idf=False, vect__max_df=1.0, vect__max_features=None, vect__ngram_range=(1, 1);, score=0.137 total time=  10.6s\n",
      "[CV 1/5; 32/72] START clf__estimator=DecisionTreeClassifier(), tfidf__use_idf=False, vect__max_df=1.0, vect__max_features=None, vect__ngram_range=(1, 2)\n",
      "[CV 1/5; 32/72] END clf__estimator=DecisionTreeClassifier(), tfidf__use_idf=False, vect__max_df=1.0, vect__max_features=None, vect__ngram_range=(1, 2);, score=0.149 total time=  25.8s\n",
      "[CV 2/5; 32/72] START clf__estimator=DecisionTreeClassifier(), tfidf__use_idf=False, vect__max_df=1.0, vect__max_features=None, vect__ngram_range=(1, 2)\n",
      "[CV 2/5; 32/72] END clf__estimator=DecisionTreeClassifier(), tfidf__use_idf=False, vect__max_df=1.0, vect__max_features=None, vect__ngram_range=(1, 2);, score=0.127 total time=  25.5s\n",
      "[CV 3/5; 32/72] START clf__estimator=DecisionTreeClassifier(), tfidf__use_idf=False, vect__max_df=1.0, vect__max_features=None, vect__ngram_range=(1, 2)\n",
      "[CV 3/5; 32/72] END clf__estimator=DecisionTreeClassifier(), tfidf__use_idf=False, vect__max_df=1.0, vect__max_features=None, vect__ngram_range=(1, 2);, score=0.131 total time=  25.9s\n",
      "[CV 4/5; 32/72] START clf__estimator=DecisionTreeClassifier(), tfidf__use_idf=False, vect__max_df=1.0, vect__max_features=None, vect__ngram_range=(1, 2)\n",
      "[CV 4/5; 32/72] END clf__estimator=DecisionTreeClassifier(), tfidf__use_idf=False, vect__max_df=1.0, vect__max_features=None, vect__ngram_range=(1, 2);, score=0.137 total time=  26.0s\n",
      "[CV 5/5; 32/72] START clf__estimator=DecisionTreeClassifier(), tfidf__use_idf=False, vect__max_df=1.0, vect__max_features=None, vect__ngram_range=(1, 2)\n",
      "[CV 5/5; 32/72] END clf__estimator=DecisionTreeClassifier(), tfidf__use_idf=False, vect__max_df=1.0, vect__max_features=None, vect__ngram_range=(1, 2);, score=0.180 total time=  25.3s\n",
      "[CV 1/5; 33/72] START clf__estimator=DecisionTreeClassifier(), tfidf__use_idf=False, vect__max_df=1.0, vect__max_features=5000, vect__ngram_range=(1, 1)\n",
      "[CV 1/5; 33/72] END clf__estimator=DecisionTreeClassifier(), tfidf__use_idf=False, vect__max_df=1.0, vect__max_features=5000, vect__ngram_range=(1, 1);, score=0.124 total time=   9.7s\n",
      "[CV 2/5; 33/72] START clf__estimator=DecisionTreeClassifier(), tfidf__use_idf=False, vect__max_df=1.0, vect__max_features=5000, vect__ngram_range=(1, 1)\n",
      "[CV 2/5; 33/72] END clf__estimator=DecisionTreeClassifier(), tfidf__use_idf=False, vect__max_df=1.0, vect__max_features=5000, vect__ngram_range=(1, 1);, score=0.120 total time=   9.9s\n",
      "[CV 3/5; 33/72] START clf__estimator=DecisionTreeClassifier(), tfidf__use_idf=False, vect__max_df=1.0, vect__max_features=5000, vect__ngram_range=(1, 1)\n",
      "[CV 3/5; 33/72] END clf__estimator=DecisionTreeClassifier(), tfidf__use_idf=False, vect__max_df=1.0, vect__max_features=5000, vect__ngram_range=(1, 1);, score=0.129 total time=  10.2s\n",
      "[CV 4/5; 33/72] START clf__estimator=DecisionTreeClassifier(), tfidf__use_idf=False, vect__max_df=1.0, vect__max_features=5000, vect__ngram_range=(1, 1)\n",
      "[CV 4/5; 33/72] END clf__estimator=DecisionTreeClassifier(), tfidf__use_idf=False, vect__max_df=1.0, vect__max_features=5000, vect__ngram_range=(1, 1);, score=0.111 total time=  11.0s\n",
      "[CV 5/5; 33/72] START clf__estimator=DecisionTreeClassifier(), tfidf__use_idf=False, vect__max_df=1.0, vect__max_features=5000, vect__ngram_range=(1, 1)\n",
      "[CV 5/5; 33/72] END clf__estimator=DecisionTreeClassifier(), tfidf__use_idf=False, vect__max_df=1.0, vect__max_features=5000, vect__ngram_range=(1, 1);, score=0.135 total time=  10.0s\n",
      "[CV 1/5; 34/72] START clf__estimator=DecisionTreeClassifier(), tfidf__use_idf=False, vect__max_df=1.0, vect__max_features=5000, vect__ngram_range=(1, 2)\n",
      "[CV 1/5; 34/72] END clf__estimator=DecisionTreeClassifier(), tfidf__use_idf=False, vect__max_df=1.0, vect__max_features=5000, vect__ngram_range=(1, 2);, score=0.115 total time=  12.8s\n",
      "[CV 2/5; 34/72] START clf__estimator=DecisionTreeClassifier(), tfidf__use_idf=False, vect__max_df=1.0, vect__max_features=5000, vect__ngram_range=(1, 2)\n",
      "[CV 2/5; 34/72] END clf__estimator=DecisionTreeClassifier(), tfidf__use_idf=False, vect__max_df=1.0, vect__max_features=5000, vect__ngram_range=(1, 2);, score=0.112 total time=  13.3s\n",
      "[CV 3/5; 34/72] START clf__estimator=DecisionTreeClassifier(), tfidf__use_idf=False, vect__max_df=1.0, vect__max_features=5000, vect__ngram_range=(1, 2)\n",
      "[CV 3/5; 34/72] END clf__estimator=DecisionTreeClassifier(), tfidf__use_idf=False, vect__max_df=1.0, vect__max_features=5000, vect__ngram_range=(1, 2);, score=0.103 total time=  11.6s\n",
      "[CV 4/5; 34/72] START clf__estimator=DecisionTreeClassifier(), tfidf__use_idf=False, vect__max_df=1.0, vect__max_features=5000, vect__ngram_range=(1, 2)\n",
      "[CV 4/5; 34/72] END clf__estimator=DecisionTreeClassifier(), tfidf__use_idf=False, vect__max_df=1.0, vect__max_features=5000, vect__ngram_range=(1, 2);, score=0.116 total time=  12.4s\n",
      "[CV 5/5; 34/72] START clf__estimator=DecisionTreeClassifier(), tfidf__use_idf=False, vect__max_df=1.0, vect__max_features=5000, vect__ngram_range=(1, 2)\n",
      "[CV 5/5; 34/72] END clf__estimator=DecisionTreeClassifier(), tfidf__use_idf=False, vect__max_df=1.0, vect__max_features=5000, vect__ngram_range=(1, 2);, score=0.132 total time=  11.7s\n",
      "[CV 1/5; 35/72] START clf__estimator=DecisionTreeClassifier(), tfidf__use_idf=False, vect__max_df=1.0, vect__max_features=10000, vect__ngram_range=(1, 1)\n",
      "[CV 1/5; 35/72] END clf__estimator=DecisionTreeClassifier(), tfidf__use_idf=False, vect__max_df=1.0, vect__max_features=10000, vect__ngram_range=(1, 1);, score=0.117 total time=  11.2s\n",
      "[CV 2/5; 35/72] START clf__estimator=DecisionTreeClassifier(), tfidf__use_idf=False, vect__max_df=1.0, vect__max_features=10000, vect__ngram_range=(1, 1)\n",
      "[CV 2/5; 35/72] END clf__estimator=DecisionTreeClassifier(), tfidf__use_idf=False, vect__max_df=1.0, vect__max_features=10000, vect__ngram_range=(1, 1);, score=0.129 total time=  10.7s\n",
      "[CV 3/5; 35/72] START clf__estimator=DecisionTreeClassifier(), tfidf__use_idf=False, vect__max_df=1.0, vect__max_features=10000, vect__ngram_range=(1, 1)\n",
      "[CV 3/5; 35/72] END clf__estimator=DecisionTreeClassifier(), tfidf__use_idf=False, vect__max_df=1.0, vect__max_features=10000, vect__ngram_range=(1, 1);, score=0.121 total time=  10.4s\n",
      "[CV 4/5; 35/72] START clf__estimator=DecisionTreeClassifier(), tfidf__use_idf=False, vect__max_df=1.0, vect__max_features=10000, vect__ngram_range=(1, 1)\n",
      "[CV 4/5; 35/72] END clf__estimator=DecisionTreeClassifier(), tfidf__use_idf=False, vect__max_df=1.0, vect__max_features=10000, vect__ngram_range=(1, 1);, score=0.124 total time=  10.7s\n",
      "[CV 5/5; 35/72] START clf__estimator=DecisionTreeClassifier(), tfidf__use_idf=False, vect__max_df=1.0, vect__max_features=10000, vect__ngram_range=(1, 1)\n",
      "[CV 5/5; 35/72] END clf__estimator=DecisionTreeClassifier(), tfidf__use_idf=False, vect__max_df=1.0, vect__max_features=10000, vect__ngram_range=(1, 1);, score=0.152 total time=  10.4s\n",
      "[CV 1/5; 36/72] START clf__estimator=DecisionTreeClassifier(), tfidf__use_idf=False, vect__max_df=1.0, vect__max_features=10000, vect__ngram_range=(1, 2)\n",
      "[CV 1/5; 36/72] END clf__estimator=DecisionTreeClassifier(), tfidf__use_idf=False, vect__max_df=1.0, vect__max_features=10000, vect__ngram_range=(1, 2);, score=0.123 total time=   9.8s\n",
      "[CV 2/5; 36/72] START clf__estimator=DecisionTreeClassifier(), tfidf__use_idf=False, vect__max_df=1.0, vect__max_features=10000, vect__ngram_range=(1, 2)\n",
      "[CV 2/5; 36/72] END clf__estimator=DecisionTreeClassifier(), tfidf__use_idf=False, vect__max_df=1.0, vect__max_features=10000, vect__ngram_range=(1, 2);, score=0.121 total time=   7.9s\n",
      "[CV 3/5; 36/72] START clf__estimator=DecisionTreeClassifier(), tfidf__use_idf=False, vect__max_df=1.0, vect__max_features=10000, vect__ngram_range=(1, 2)\n",
      "[CV 3/5; 36/72] END clf__estimator=DecisionTreeClassifier(), tfidf__use_idf=False, vect__max_df=1.0, vect__max_features=10000, vect__ngram_range=(1, 2);, score=0.121 total time=   7.8s\n",
      "[CV 4/5; 36/72] START clf__estimator=DecisionTreeClassifier(), tfidf__use_idf=False, vect__max_df=1.0, vect__max_features=10000, vect__ngram_range=(1, 2)\n",
      "[CV 4/5; 36/72] END clf__estimator=DecisionTreeClassifier(), tfidf__use_idf=False, vect__max_df=1.0, vect__max_features=10000, vect__ngram_range=(1, 2);, score=0.112 total time=   7.9s\n",
      "[CV 5/5; 36/72] START clf__estimator=DecisionTreeClassifier(), tfidf__use_idf=False, vect__max_df=1.0, vect__max_features=10000, vect__ngram_range=(1, 2)\n",
      "[CV 5/5; 36/72] END clf__estimator=DecisionTreeClassifier(), tfidf__use_idf=False, vect__max_df=1.0, vect__max_features=10000, vect__ngram_range=(1, 2);, score=0.136 total time=63.0min\n",
      "[CV 1/5; 37/72] START clf__estimator=KNeighborsClassifier(), tfidf__use_idf=True, vect__max_df=0.5, vect__max_features=None, vect__ngram_range=(1, 1)\n"
     ]
    },
    {
     "name": "stderr",
     "output_type": "stream",
     "text": [
      "C:\\ProgramData\\Anaconda3\\lib\\site-packages\\sklearn\\neighbors\\_classification.py:228: FutureWarning: Unlike other reduction functions (e.g. `skew`, `kurtosis`), the default behavior of `mode` typically preserves the axis it acts along. In SciPy 1.11.0, this behavior will change: the default value of `keepdims` will become False, the `axis` over which the statistic is taken will be eliminated, and the value None will no longer be accepted. Set `keepdims` to True or False to avoid this warning.\n",
      "  mode, _ = stats.mode(_y[neigh_ind, k], axis=1)\n"
     ]
    },
    {
     "name": "stdout",
     "output_type": "stream",
     "text": [
      "[CV 1/5; 37/72] END clf__estimator=KNeighborsClassifier(), tfidf__use_idf=True, vect__max_df=0.5, vect__max_features=None, vect__ngram_range=(1, 1);, score=0.215 total time=   3.8s\n",
      "[CV 2/5; 37/72] START clf__estimator=KNeighborsClassifier(), tfidf__use_idf=True, vect__max_df=0.5, vect__max_features=None, vect__ngram_range=(1, 1)\n"
     ]
    },
    {
     "name": "stderr",
     "output_type": "stream",
     "text": [
      "C:\\ProgramData\\Anaconda3\\lib\\site-packages\\sklearn\\neighbors\\_classification.py:228: FutureWarning: Unlike other reduction functions (e.g. `skew`, `kurtosis`), the default behavior of `mode` typically preserves the axis it acts along. In SciPy 1.11.0, this behavior will change: the default value of `keepdims` will become False, the `axis` over which the statistic is taken will be eliminated, and the value None will no longer be accepted. Set `keepdims` to True or False to avoid this warning.\n",
      "  mode, _ = stats.mode(_y[neigh_ind, k], axis=1)\n"
     ]
    },
    {
     "name": "stdout",
     "output_type": "stream",
     "text": [
      "[CV 2/5; 37/72] END clf__estimator=KNeighborsClassifier(), tfidf__use_idf=True, vect__max_df=0.5, vect__max_features=None, vect__ngram_range=(1, 1);, score=0.181 total time=   6.5s\n",
      "[CV 3/5; 37/72] START clf__estimator=KNeighborsClassifier(), tfidf__use_idf=True, vect__max_df=0.5, vect__max_features=None, vect__ngram_range=(1, 1)\n"
     ]
    },
    {
     "name": "stderr",
     "output_type": "stream",
     "text": [
      "C:\\ProgramData\\Anaconda3\\lib\\site-packages\\sklearn\\neighbors\\_classification.py:228: FutureWarning: Unlike other reduction functions (e.g. `skew`, `kurtosis`), the default behavior of `mode` typically preserves the axis it acts along. In SciPy 1.11.0, this behavior will change: the default value of `keepdims` will become False, the `axis` over which the statistic is taken will be eliminated, and the value None will no longer be accepted. Set `keepdims` to True or False to avoid this warning.\n",
      "  mode, _ = stats.mode(_y[neigh_ind, k], axis=1)\n"
     ]
    },
    {
     "name": "stdout",
     "output_type": "stream",
     "text": [
      "[CV 3/5; 37/72] END clf__estimator=KNeighborsClassifier(), tfidf__use_idf=True, vect__max_df=0.5, vect__max_features=None, vect__ngram_range=(1, 1);, score=0.191 total time=   5.9s\n",
      "[CV 4/5; 37/72] START clf__estimator=KNeighborsClassifier(), tfidf__use_idf=True, vect__max_df=0.5, vect__max_features=None, vect__ngram_range=(1, 1)\n"
     ]
    },
    {
     "name": "stderr",
     "output_type": "stream",
     "text": [
      "C:\\ProgramData\\Anaconda3\\lib\\site-packages\\sklearn\\neighbors\\_classification.py:228: FutureWarning: Unlike other reduction functions (e.g. `skew`, `kurtosis`), the default behavior of `mode` typically preserves the axis it acts along. In SciPy 1.11.0, this behavior will change: the default value of `keepdims` will become False, the `axis` over which the statistic is taken will be eliminated, and the value None will no longer be accepted. Set `keepdims` to True or False to avoid this warning.\n",
      "  mode, _ = stats.mode(_y[neigh_ind, k], axis=1)\n"
     ]
    },
    {
     "name": "stdout",
     "output_type": "stream",
     "text": [
      "[CV 4/5; 37/72] END clf__estimator=KNeighborsClassifier(), tfidf__use_idf=True, vect__max_df=0.5, vect__max_features=None, vect__ngram_range=(1, 1);, score=0.195 total time=   6.1s\n",
      "[CV 5/5; 37/72] START clf__estimator=KNeighborsClassifier(), tfidf__use_idf=True, vect__max_df=0.5, vect__max_features=None, vect__ngram_range=(1, 1)\n"
     ]
    },
    {
     "name": "stderr",
     "output_type": "stream",
     "text": [
      "C:\\ProgramData\\Anaconda3\\lib\\site-packages\\sklearn\\neighbors\\_classification.py:228: FutureWarning: Unlike other reduction functions (e.g. `skew`, `kurtosis`), the default behavior of `mode` typically preserves the axis it acts along. In SciPy 1.11.0, this behavior will change: the default value of `keepdims` will become False, the `axis` over which the statistic is taken will be eliminated, and the value None will no longer be accepted. Set `keepdims` to True or False to avoid this warning.\n",
      "  mode, _ = stats.mode(_y[neigh_ind, k], axis=1)\n"
     ]
    },
    {
     "name": "stdout",
     "output_type": "stream",
     "text": [
      "[CV 5/5; 37/72] END clf__estimator=KNeighborsClassifier(), tfidf__use_idf=True, vect__max_df=0.5, vect__max_features=None, vect__ngram_range=(1, 1);, score=0.180 total time=   6.4s\n",
      "[CV 1/5; 38/72] START clf__estimator=KNeighborsClassifier(), tfidf__use_idf=True, vect__max_df=0.5, vect__max_features=None, vect__ngram_range=(1, 2)\n"
     ]
    },
    {
     "name": "stderr",
     "output_type": "stream",
     "text": [
      "C:\\ProgramData\\Anaconda3\\lib\\site-packages\\sklearn\\neighbors\\_classification.py:228: FutureWarning: Unlike other reduction functions (e.g. `skew`, `kurtosis`), the default behavior of `mode` typically preserves the axis it acts along. In SciPy 1.11.0, this behavior will change: the default value of `keepdims` will become False, the `axis` over which the statistic is taken will be eliminated, and the value None will no longer be accepted. Set `keepdims` to True or False to avoid this warning.\n",
      "  mode, _ = stats.mode(_y[neigh_ind, k], axis=1)\n"
     ]
    },
    {
     "name": "stdout",
     "output_type": "stream",
     "text": [
      "[CV 1/5; 38/72] END clf__estimator=KNeighborsClassifier(), tfidf__use_idf=True, vect__max_df=0.5, vect__max_features=None, vect__ngram_range=(1, 2);, score=0.211 total time=   6.0s\n",
      "[CV 2/5; 38/72] START clf__estimator=KNeighborsClassifier(), tfidf__use_idf=True, vect__max_df=0.5, vect__max_features=None, vect__ngram_range=(1, 2)\n"
     ]
    },
    {
     "name": "stderr",
     "output_type": "stream",
     "text": [
      "C:\\ProgramData\\Anaconda3\\lib\\site-packages\\sklearn\\neighbors\\_classification.py:228: FutureWarning: Unlike other reduction functions (e.g. `skew`, `kurtosis`), the default behavior of `mode` typically preserves the axis it acts along. In SciPy 1.11.0, this behavior will change: the default value of `keepdims` will become False, the `axis` over which the statistic is taken will be eliminated, and the value None will no longer be accepted. Set `keepdims` to True or False to avoid this warning.\n",
      "  mode, _ = stats.mode(_y[neigh_ind, k], axis=1)\n"
     ]
    },
    {
     "name": "stdout",
     "output_type": "stream",
     "text": [
      "[CV 2/5; 38/72] END clf__estimator=KNeighborsClassifier(), tfidf__use_idf=True, vect__max_df=0.5, vect__max_features=None, vect__ngram_range=(1, 2);, score=0.204 total time=   6.4s\n",
      "[CV 3/5; 38/72] START clf__estimator=KNeighborsClassifier(), tfidf__use_idf=True, vect__max_df=0.5, vect__max_features=None, vect__ngram_range=(1, 2)\n"
     ]
    },
    {
     "name": "stderr",
     "output_type": "stream",
     "text": [
      "C:\\ProgramData\\Anaconda3\\lib\\site-packages\\sklearn\\neighbors\\_classification.py:228: FutureWarning: Unlike other reduction functions (e.g. `skew`, `kurtosis`), the default behavior of `mode` typically preserves the axis it acts along. In SciPy 1.11.0, this behavior will change: the default value of `keepdims` will become False, the `axis` over which the statistic is taken will be eliminated, and the value None will no longer be accepted. Set `keepdims` to True or False to avoid this warning.\n",
      "  mode, _ = stats.mode(_y[neigh_ind, k], axis=1)\n"
     ]
    },
    {
     "name": "stdout",
     "output_type": "stream",
     "text": [
      "[CV 3/5; 38/72] END clf__estimator=KNeighborsClassifier(), tfidf__use_idf=True, vect__max_df=0.5, vect__max_features=None, vect__ngram_range=(1, 2);, score=0.183 total time=   5.4s\n",
      "[CV 4/5; 38/72] START clf__estimator=KNeighborsClassifier(), tfidf__use_idf=True, vect__max_df=0.5, vect__max_features=None, vect__ngram_range=(1, 2)\n"
     ]
    },
    {
     "name": "stderr",
     "output_type": "stream",
     "text": [
      "C:\\ProgramData\\Anaconda3\\lib\\site-packages\\sklearn\\neighbors\\_classification.py:228: FutureWarning: Unlike other reduction functions (e.g. `skew`, `kurtosis`), the default behavior of `mode` typically preserves the axis it acts along. In SciPy 1.11.0, this behavior will change: the default value of `keepdims` will become False, the `axis` over which the statistic is taken will be eliminated, and the value None will no longer be accepted. Set `keepdims` to True or False to avoid this warning.\n",
      "  mode, _ = stats.mode(_y[neigh_ind, k], axis=1)\n"
     ]
    },
    {
     "name": "stdout",
     "output_type": "stream",
     "text": [
      "[CV 4/5; 38/72] END clf__estimator=KNeighborsClassifier(), tfidf__use_idf=True, vect__max_df=0.5, vect__max_features=None, vect__ngram_range=(1, 2);, score=0.189 total time=   3.0s\n",
      "[CV 5/5; 38/72] START clf__estimator=KNeighborsClassifier(), tfidf__use_idf=True, vect__max_df=0.5, vect__max_features=None, vect__ngram_range=(1, 2)\n"
     ]
    },
    {
     "name": "stderr",
     "output_type": "stream",
     "text": [
      "C:\\ProgramData\\Anaconda3\\lib\\site-packages\\sklearn\\neighbors\\_classification.py:228: FutureWarning: Unlike other reduction functions (e.g. `skew`, `kurtosis`), the default behavior of `mode` typically preserves the axis it acts along. In SciPy 1.11.0, this behavior will change: the default value of `keepdims` will become False, the `axis` over which the statistic is taken will be eliminated, and the value None will no longer be accepted. Set `keepdims` to True or False to avoid this warning.\n",
      "  mode, _ = stats.mode(_y[neigh_ind, k], axis=1)\n"
     ]
    },
    {
     "name": "stdout",
     "output_type": "stream",
     "text": [
      "[CV 5/5; 38/72] END clf__estimator=KNeighborsClassifier(), tfidf__use_idf=True, vect__max_df=0.5, vect__max_features=None, vect__ngram_range=(1, 2);, score=0.201 total time=   2.9s\n",
      "[CV 1/5; 39/72] START clf__estimator=KNeighborsClassifier(), tfidf__use_idf=True, vect__max_df=0.5, vect__max_features=5000, vect__ngram_range=(1, 1)\n"
     ]
    },
    {
     "name": "stderr",
     "output_type": "stream",
     "text": [
      "C:\\ProgramData\\Anaconda3\\lib\\site-packages\\sklearn\\neighbors\\_classification.py:228: FutureWarning: Unlike other reduction functions (e.g. `skew`, `kurtosis`), the default behavior of `mode` typically preserves the axis it acts along. In SciPy 1.11.0, this behavior will change: the default value of `keepdims` will become False, the `axis` over which the statistic is taken will be eliminated, and the value None will no longer be accepted. Set `keepdims` to True or False to avoid this warning.\n",
      "  mode, _ = stats.mode(_y[neigh_ind, k], axis=1)\n"
     ]
    },
    {
     "name": "stdout",
     "output_type": "stream",
     "text": [
      "[CV 1/5; 39/72] END clf__estimator=KNeighborsClassifier(), tfidf__use_idf=True, vect__max_df=0.5, vect__max_features=5000, vect__ngram_range=(1, 1);, score=0.212 total time=   2.8s\n",
      "[CV 2/5; 39/72] START clf__estimator=KNeighborsClassifier(), tfidf__use_idf=True, vect__max_df=0.5, vect__max_features=5000, vect__ngram_range=(1, 1)\n"
     ]
    },
    {
     "name": "stderr",
     "output_type": "stream",
     "text": [
      "C:\\ProgramData\\Anaconda3\\lib\\site-packages\\sklearn\\neighbors\\_classification.py:228: FutureWarning: Unlike other reduction functions (e.g. `skew`, `kurtosis`), the default behavior of `mode` typically preserves the axis it acts along. In SciPy 1.11.0, this behavior will change: the default value of `keepdims` will become False, the `axis` over which the statistic is taken will be eliminated, and the value None will no longer be accepted. Set `keepdims` to True or False to avoid this warning.\n",
      "  mode, _ = stats.mode(_y[neigh_ind, k], axis=1)\n"
     ]
    },
    {
     "name": "stdout",
     "output_type": "stream",
     "text": [
      "[CV 2/5; 39/72] END clf__estimator=KNeighborsClassifier(), tfidf__use_idf=True, vect__max_df=0.5, vect__max_features=5000, vect__ngram_range=(1, 1);, score=0.205 total time=   2.8s\n",
      "[CV 3/5; 39/72] START clf__estimator=KNeighborsClassifier(), tfidf__use_idf=True, vect__max_df=0.5, vect__max_features=5000, vect__ngram_range=(1, 1)\n"
     ]
    },
    {
     "name": "stderr",
     "output_type": "stream",
     "text": [
      "C:\\ProgramData\\Anaconda3\\lib\\site-packages\\sklearn\\neighbors\\_classification.py:228: FutureWarning: Unlike other reduction functions (e.g. `skew`, `kurtosis`), the default behavior of `mode` typically preserves the axis it acts along. In SciPy 1.11.0, this behavior will change: the default value of `keepdims` will become False, the `axis` over which the statistic is taken will be eliminated, and the value None will no longer be accepted. Set `keepdims` to True or False to avoid this warning.\n",
      "  mode, _ = stats.mode(_y[neigh_ind, k], axis=1)\n"
     ]
    },
    {
     "name": "stdout",
     "output_type": "stream",
     "text": [
      "[CV 3/5; 39/72] END clf__estimator=KNeighborsClassifier(), tfidf__use_idf=True, vect__max_df=0.5, vect__max_features=5000, vect__ngram_range=(1, 1);, score=0.185 total time=   2.7s\n",
      "[CV 4/5; 39/72] START clf__estimator=KNeighborsClassifier(), tfidf__use_idf=True, vect__max_df=0.5, vect__max_features=5000, vect__ngram_range=(1, 1)\n"
     ]
    },
    {
     "name": "stderr",
     "output_type": "stream",
     "text": [
      "C:\\ProgramData\\Anaconda3\\lib\\site-packages\\sklearn\\neighbors\\_classification.py:228: FutureWarning: Unlike other reduction functions (e.g. `skew`, `kurtosis`), the default behavior of `mode` typically preserves the axis it acts along. In SciPy 1.11.0, this behavior will change: the default value of `keepdims` will become False, the `axis` over which the statistic is taken will be eliminated, and the value None will no longer be accepted. Set `keepdims` to True or False to avoid this warning.\n",
      "  mode, _ = stats.mode(_y[neigh_ind, k], axis=1)\n"
     ]
    },
    {
     "name": "stdout",
     "output_type": "stream",
     "text": [
      "[CV 4/5; 39/72] END clf__estimator=KNeighborsClassifier(), tfidf__use_idf=True, vect__max_df=0.5, vect__max_features=5000, vect__ngram_range=(1, 1);, score=0.191 total time=   2.7s\n",
      "[CV 5/5; 39/72] START clf__estimator=KNeighborsClassifier(), tfidf__use_idf=True, vect__max_df=0.5, vect__max_features=5000, vect__ngram_range=(1, 1)\n"
     ]
    },
    {
     "name": "stderr",
     "output_type": "stream",
     "text": [
      "C:\\ProgramData\\Anaconda3\\lib\\site-packages\\sklearn\\neighbors\\_classification.py:228: FutureWarning: Unlike other reduction functions (e.g. `skew`, `kurtosis`), the default behavior of `mode` typically preserves the axis it acts along. In SciPy 1.11.0, this behavior will change: the default value of `keepdims` will become False, the `axis` over which the statistic is taken will be eliminated, and the value None will no longer be accepted. Set `keepdims` to True or False to avoid this warning.\n",
      "  mode, _ = stats.mode(_y[neigh_ind, k], axis=1)\n"
     ]
    },
    {
     "name": "stdout",
     "output_type": "stream",
     "text": [
      "[CV 5/5; 39/72] END clf__estimator=KNeighborsClassifier(), tfidf__use_idf=True, vect__max_df=0.5, vect__max_features=5000, vect__ngram_range=(1, 1);, score=0.193 total time=   2.7s\n",
      "[CV 1/5; 40/72] START clf__estimator=KNeighborsClassifier(), tfidf__use_idf=True, vect__max_df=0.5, vect__max_features=5000, vect__ngram_range=(1, 2)\n"
     ]
    },
    {
     "name": "stderr",
     "output_type": "stream",
     "text": [
      "C:\\ProgramData\\Anaconda3\\lib\\site-packages\\sklearn\\neighbors\\_classification.py:228: FutureWarning: Unlike other reduction functions (e.g. `skew`, `kurtosis`), the default behavior of `mode` typically preserves the axis it acts along. In SciPy 1.11.0, this behavior will change: the default value of `keepdims` will become False, the `axis` over which the statistic is taken will be eliminated, and the value None will no longer be accepted. Set `keepdims` to True or False to avoid this warning.\n",
      "  mode, _ = stats.mode(_y[neigh_ind, k], axis=1)\n"
     ]
    },
    {
     "name": "stdout",
     "output_type": "stream",
     "text": [
      "[CV 1/5; 40/72] END clf__estimator=KNeighborsClassifier(), tfidf__use_idf=True, vect__max_df=0.5, vect__max_features=5000, vect__ngram_range=(1, 2);, score=0.224 total time=   2.9s\n",
      "[CV 2/5; 40/72] START clf__estimator=KNeighborsClassifier(), tfidf__use_idf=True, vect__max_df=0.5, vect__max_features=5000, vect__ngram_range=(1, 2)\n"
     ]
    },
    {
     "name": "stderr",
     "output_type": "stream",
     "text": [
      "C:\\ProgramData\\Anaconda3\\lib\\site-packages\\sklearn\\neighbors\\_classification.py:228: FutureWarning: Unlike other reduction functions (e.g. `skew`, `kurtosis`), the default behavior of `mode` typically preserves the axis it acts along. In SciPy 1.11.0, this behavior will change: the default value of `keepdims` will become False, the `axis` over which the statistic is taken will be eliminated, and the value None will no longer be accepted. Set `keepdims` to True or False to avoid this warning.\n",
      "  mode, _ = stats.mode(_y[neigh_ind, k], axis=1)\n"
     ]
    },
    {
     "name": "stdout",
     "output_type": "stream",
     "text": [
      "[CV 2/5; 40/72] END clf__estimator=KNeighborsClassifier(), tfidf__use_idf=True, vect__max_df=0.5, vect__max_features=5000, vect__ngram_range=(1, 2);, score=0.199 total time=   3.0s\n",
      "[CV 3/5; 40/72] START clf__estimator=KNeighborsClassifier(), tfidf__use_idf=True, vect__max_df=0.5, vect__max_features=5000, vect__ngram_range=(1, 2)\n"
     ]
    },
    {
     "name": "stderr",
     "output_type": "stream",
     "text": [
      "C:\\ProgramData\\Anaconda3\\lib\\site-packages\\sklearn\\neighbors\\_classification.py:228: FutureWarning: Unlike other reduction functions (e.g. `skew`, `kurtosis`), the default behavior of `mode` typically preserves the axis it acts along. In SciPy 1.11.0, this behavior will change: the default value of `keepdims` will become False, the `axis` over which the statistic is taken will be eliminated, and the value None will no longer be accepted. Set `keepdims` to True or False to avoid this warning.\n",
      "  mode, _ = stats.mode(_y[neigh_ind, k], axis=1)\n"
     ]
    },
    {
     "name": "stdout",
     "output_type": "stream",
     "text": [
      "[CV 3/5; 40/72] END clf__estimator=KNeighborsClassifier(), tfidf__use_idf=True, vect__max_df=0.5, vect__max_features=5000, vect__ngram_range=(1, 2);, score=0.187 total time=   2.9s\n",
      "[CV 4/5; 40/72] START clf__estimator=KNeighborsClassifier(), tfidf__use_idf=True, vect__max_df=0.5, vect__max_features=5000, vect__ngram_range=(1, 2)\n"
     ]
    },
    {
     "name": "stderr",
     "output_type": "stream",
     "text": [
      "C:\\ProgramData\\Anaconda3\\lib\\site-packages\\sklearn\\neighbors\\_classification.py:228: FutureWarning: Unlike other reduction functions (e.g. `skew`, `kurtosis`), the default behavior of `mode` typically preserves the axis it acts along. In SciPy 1.11.0, this behavior will change: the default value of `keepdims` will become False, the `axis` over which the statistic is taken will be eliminated, and the value None will no longer be accepted. Set `keepdims` to True or False to avoid this warning.\n",
      "  mode, _ = stats.mode(_y[neigh_ind, k], axis=1)\n"
     ]
    },
    {
     "name": "stdout",
     "output_type": "stream",
     "text": [
      "[CV 4/5; 40/72] END clf__estimator=KNeighborsClassifier(), tfidf__use_idf=True, vect__max_df=0.5, vect__max_features=5000, vect__ngram_range=(1, 2);, score=0.219 total time=   2.9s\n",
      "[CV 5/5; 40/72] START clf__estimator=KNeighborsClassifier(), tfidf__use_idf=True, vect__max_df=0.5, vect__max_features=5000, vect__ngram_range=(1, 2)\n"
     ]
    },
    {
     "name": "stderr",
     "output_type": "stream",
     "text": [
      "C:\\ProgramData\\Anaconda3\\lib\\site-packages\\sklearn\\neighbors\\_classification.py:228: FutureWarning: Unlike other reduction functions (e.g. `skew`, `kurtosis`), the default behavior of `mode` typically preserves the axis it acts along. In SciPy 1.11.0, this behavior will change: the default value of `keepdims` will become False, the `axis` over which the statistic is taken will be eliminated, and the value None will no longer be accepted. Set `keepdims` to True or False to avoid this warning.\n",
      "  mode, _ = stats.mode(_y[neigh_ind, k], axis=1)\n"
     ]
    },
    {
     "name": "stdout",
     "output_type": "stream",
     "text": [
      "[CV 5/5; 40/72] END clf__estimator=KNeighborsClassifier(), tfidf__use_idf=True, vect__max_df=0.5, vect__max_features=5000, vect__ngram_range=(1, 2);, score=0.213 total time=   2.9s\n",
      "[CV 1/5; 41/72] START clf__estimator=KNeighborsClassifier(), tfidf__use_idf=True, vect__max_df=0.5, vect__max_features=10000, vect__ngram_range=(1, 1)\n"
     ]
    },
    {
     "name": "stderr",
     "output_type": "stream",
     "text": [
      "C:\\ProgramData\\Anaconda3\\lib\\site-packages\\sklearn\\neighbors\\_classification.py:228: FutureWarning: Unlike other reduction functions (e.g. `skew`, `kurtosis`), the default behavior of `mode` typically preserves the axis it acts along. In SciPy 1.11.0, this behavior will change: the default value of `keepdims` will become False, the `axis` over which the statistic is taken will be eliminated, and the value None will no longer be accepted. Set `keepdims` to True or False to avoid this warning.\n",
      "  mode, _ = stats.mode(_y[neigh_ind, k], axis=1)\n"
     ]
    },
    {
     "name": "stdout",
     "output_type": "stream",
     "text": [
      "[CV 1/5; 41/72] END clf__estimator=KNeighborsClassifier(), tfidf__use_idf=True, vect__max_df=0.5, vect__max_features=10000, vect__ngram_range=(1, 1);, score=0.213 total time=   2.7s\n",
      "[CV 2/5; 41/72] START clf__estimator=KNeighborsClassifier(), tfidf__use_idf=True, vect__max_df=0.5, vect__max_features=10000, vect__ngram_range=(1, 1)\n"
     ]
    },
    {
     "name": "stderr",
     "output_type": "stream",
     "text": [
      "C:\\ProgramData\\Anaconda3\\lib\\site-packages\\sklearn\\neighbors\\_classification.py:228: FutureWarning: Unlike other reduction functions (e.g. `skew`, `kurtosis`), the default behavior of `mode` typically preserves the axis it acts along. In SciPy 1.11.0, this behavior will change: the default value of `keepdims` will become False, the `axis` over which the statistic is taken will be eliminated, and the value None will no longer be accepted. Set `keepdims` to True or False to avoid this warning.\n",
      "  mode, _ = stats.mode(_y[neigh_ind, k], axis=1)\n"
     ]
    },
    {
     "name": "stdout",
     "output_type": "stream",
     "text": [
      "[CV 2/5; 41/72] END clf__estimator=KNeighborsClassifier(), tfidf__use_idf=True, vect__max_df=0.5, vect__max_features=10000, vect__ngram_range=(1, 1);, score=0.185 total time=   2.8s\n",
      "[CV 3/5; 41/72] START clf__estimator=KNeighborsClassifier(), tfidf__use_idf=True, vect__max_df=0.5, vect__max_features=10000, vect__ngram_range=(1, 1)\n"
     ]
    },
    {
     "name": "stderr",
     "output_type": "stream",
     "text": [
      "C:\\ProgramData\\Anaconda3\\lib\\site-packages\\sklearn\\neighbors\\_classification.py:228: FutureWarning: Unlike other reduction functions (e.g. `skew`, `kurtosis`), the default behavior of `mode` typically preserves the axis it acts along. In SciPy 1.11.0, this behavior will change: the default value of `keepdims` will become False, the `axis` over which the statistic is taken will be eliminated, and the value None will no longer be accepted. Set `keepdims` to True or False to avoid this warning.\n",
      "  mode, _ = stats.mode(_y[neigh_ind, k], axis=1)\n"
     ]
    },
    {
     "name": "stdout",
     "output_type": "stream",
     "text": [
      "[CV 3/5; 41/72] END clf__estimator=KNeighborsClassifier(), tfidf__use_idf=True, vect__max_df=0.5, vect__max_features=10000, vect__ngram_range=(1, 1);, score=0.196 total time=   2.8s\n",
      "[CV 4/5; 41/72] START clf__estimator=KNeighborsClassifier(), tfidf__use_idf=True, vect__max_df=0.5, vect__max_features=10000, vect__ngram_range=(1, 1)\n"
     ]
    },
    {
     "name": "stderr",
     "output_type": "stream",
     "text": [
      "C:\\ProgramData\\Anaconda3\\lib\\site-packages\\sklearn\\neighbors\\_classification.py:228: FutureWarning: Unlike other reduction functions (e.g. `skew`, `kurtosis`), the default behavior of `mode` typically preserves the axis it acts along. In SciPy 1.11.0, this behavior will change: the default value of `keepdims` will become False, the `axis` over which the statistic is taken will be eliminated, and the value None will no longer be accepted. Set `keepdims` to True or False to avoid this warning.\n",
      "  mode, _ = stats.mode(_y[neigh_ind, k], axis=1)\n"
     ]
    },
    {
     "name": "stdout",
     "output_type": "stream",
     "text": [
      "[CV 4/5; 41/72] END clf__estimator=KNeighborsClassifier(), tfidf__use_idf=True, vect__max_df=0.5, vect__max_features=10000, vect__ngram_range=(1, 1);, score=0.193 total time=   2.7s\n",
      "[CV 5/5; 41/72] START clf__estimator=KNeighborsClassifier(), tfidf__use_idf=True, vect__max_df=0.5, vect__max_features=10000, vect__ngram_range=(1, 1)\n"
     ]
    },
    {
     "name": "stderr",
     "output_type": "stream",
     "text": [
      "C:\\ProgramData\\Anaconda3\\lib\\site-packages\\sklearn\\neighbors\\_classification.py:228: FutureWarning: Unlike other reduction functions (e.g. `skew`, `kurtosis`), the default behavior of `mode` typically preserves the axis it acts along. In SciPy 1.11.0, this behavior will change: the default value of `keepdims` will become False, the `axis` over which the statistic is taken will be eliminated, and the value None will no longer be accepted. Set `keepdims` to True or False to avoid this warning.\n",
      "  mode, _ = stats.mode(_y[neigh_ind, k], axis=1)\n"
     ]
    },
    {
     "name": "stdout",
     "output_type": "stream",
     "text": [
      "[CV 5/5; 41/72] END clf__estimator=KNeighborsClassifier(), tfidf__use_idf=True, vect__max_df=0.5, vect__max_features=10000, vect__ngram_range=(1, 1);, score=0.181 total time=   2.7s\n",
      "[CV 1/5; 42/72] START clf__estimator=KNeighborsClassifier(), tfidf__use_idf=True, vect__max_df=0.5, vect__max_features=10000, vect__ngram_range=(1, 2)\n"
     ]
    },
    {
     "name": "stderr",
     "output_type": "stream",
     "text": [
      "C:\\ProgramData\\Anaconda3\\lib\\site-packages\\sklearn\\neighbors\\_classification.py:228: FutureWarning: Unlike other reduction functions (e.g. `skew`, `kurtosis`), the default behavior of `mode` typically preserves the axis it acts along. In SciPy 1.11.0, this behavior will change: the default value of `keepdims` will become False, the `axis` over which the statistic is taken will be eliminated, and the value None will no longer be accepted. Set `keepdims` to True or False to avoid this warning.\n",
      "  mode, _ = stats.mode(_y[neigh_ind, k], axis=1)\n"
     ]
    },
    {
     "name": "stdout",
     "output_type": "stream",
     "text": [
      "[CV 1/5; 42/72] END clf__estimator=KNeighborsClassifier(), tfidf__use_idf=True, vect__max_df=0.5, vect__max_features=10000, vect__ngram_range=(1, 2);, score=0.219 total time=   2.9s\n",
      "[CV 2/5; 42/72] START clf__estimator=KNeighborsClassifier(), tfidf__use_idf=True, vect__max_df=0.5, vect__max_features=10000, vect__ngram_range=(1, 2)\n"
     ]
    },
    {
     "name": "stderr",
     "output_type": "stream",
     "text": [
      "C:\\ProgramData\\Anaconda3\\lib\\site-packages\\sklearn\\neighbors\\_classification.py:228: FutureWarning: Unlike other reduction functions (e.g. `skew`, `kurtosis`), the default behavior of `mode` typically preserves the axis it acts along. In SciPy 1.11.0, this behavior will change: the default value of `keepdims` will become False, the `axis` over which the statistic is taken will be eliminated, and the value None will no longer be accepted. Set `keepdims` to True or False to avoid this warning.\n",
      "  mode, _ = stats.mode(_y[neigh_ind, k], axis=1)\n"
     ]
    },
    {
     "name": "stdout",
     "output_type": "stream",
     "text": [
      "[CV 2/5; 42/72] END clf__estimator=KNeighborsClassifier(), tfidf__use_idf=True, vect__max_df=0.5, vect__max_features=10000, vect__ngram_range=(1, 2);, score=0.199 total time=   3.0s\n",
      "[CV 3/5; 42/72] START clf__estimator=KNeighborsClassifier(), tfidf__use_idf=True, vect__max_df=0.5, vect__max_features=10000, vect__ngram_range=(1, 2)\n"
     ]
    },
    {
     "name": "stderr",
     "output_type": "stream",
     "text": [
      "C:\\ProgramData\\Anaconda3\\lib\\site-packages\\sklearn\\neighbors\\_classification.py:228: FutureWarning: Unlike other reduction functions (e.g. `skew`, `kurtosis`), the default behavior of `mode` typically preserves the axis it acts along. In SciPy 1.11.0, this behavior will change: the default value of `keepdims` will become False, the `axis` over which the statistic is taken will be eliminated, and the value None will no longer be accepted. Set `keepdims` to True or False to avoid this warning.\n",
      "  mode, _ = stats.mode(_y[neigh_ind, k], axis=1)\n"
     ]
    },
    {
     "name": "stdout",
     "output_type": "stream",
     "text": [
      "[CV 3/5; 42/72] END clf__estimator=KNeighborsClassifier(), tfidf__use_idf=True, vect__max_df=0.5, vect__max_features=10000, vect__ngram_range=(1, 2);, score=0.180 total time=   3.0s\n",
      "[CV 4/5; 42/72] START clf__estimator=KNeighborsClassifier(), tfidf__use_idf=True, vect__max_df=0.5, vect__max_features=10000, vect__ngram_range=(1, 2)\n"
     ]
    },
    {
     "name": "stderr",
     "output_type": "stream",
     "text": [
      "C:\\ProgramData\\Anaconda3\\lib\\site-packages\\sklearn\\neighbors\\_classification.py:228: FutureWarning: Unlike other reduction functions (e.g. `skew`, `kurtosis`), the default behavior of `mode` typically preserves the axis it acts along. In SciPy 1.11.0, this behavior will change: the default value of `keepdims` will become False, the `axis` over which the statistic is taken will be eliminated, and the value None will no longer be accepted. Set `keepdims` to True or False to avoid this warning.\n",
      "  mode, _ = stats.mode(_y[neigh_ind, k], axis=1)\n"
     ]
    },
    {
     "name": "stdout",
     "output_type": "stream",
     "text": [
      "[CV 4/5; 42/72] END clf__estimator=KNeighborsClassifier(), tfidf__use_idf=True, vect__max_df=0.5, vect__max_features=10000, vect__ngram_range=(1, 2);, score=0.199 total time=   2.9s\n",
      "[CV 5/5; 42/72] START clf__estimator=KNeighborsClassifier(), tfidf__use_idf=True, vect__max_df=0.5, vect__max_features=10000, vect__ngram_range=(1, 2)\n"
     ]
    },
    {
     "name": "stderr",
     "output_type": "stream",
     "text": [
      "C:\\ProgramData\\Anaconda3\\lib\\site-packages\\sklearn\\neighbors\\_classification.py:228: FutureWarning: Unlike other reduction functions (e.g. `skew`, `kurtosis`), the default behavior of `mode` typically preserves the axis it acts along. In SciPy 1.11.0, this behavior will change: the default value of `keepdims` will become False, the `axis` over which the statistic is taken will be eliminated, and the value None will no longer be accepted. Set `keepdims` to True or False to avoid this warning.\n",
      "  mode, _ = stats.mode(_y[neigh_ind, k], axis=1)\n"
     ]
    },
    {
     "name": "stdout",
     "output_type": "stream",
     "text": [
      "[CV 5/5; 42/72] END clf__estimator=KNeighborsClassifier(), tfidf__use_idf=True, vect__max_df=0.5, vect__max_features=10000, vect__ngram_range=(1, 2);, score=0.205 total time=   2.9s\n",
      "[CV 1/5; 43/72] START clf__estimator=KNeighborsClassifier(), tfidf__use_idf=True, vect__max_df=0.75, vect__max_features=None, vect__ngram_range=(1, 1)\n"
     ]
    },
    {
     "name": "stderr",
     "output_type": "stream",
     "text": [
      "C:\\ProgramData\\Anaconda3\\lib\\site-packages\\sklearn\\neighbors\\_classification.py:228: FutureWarning: Unlike other reduction functions (e.g. `skew`, `kurtosis`), the default behavior of `mode` typically preserves the axis it acts along. In SciPy 1.11.0, this behavior will change: the default value of `keepdims` will become False, the `axis` over which the statistic is taken will be eliminated, and the value None will no longer be accepted. Set `keepdims` to True or False to avoid this warning.\n",
      "  mode, _ = stats.mode(_y[neigh_ind, k], axis=1)\n"
     ]
    },
    {
     "name": "stdout",
     "output_type": "stream",
     "text": [
      "[CV 1/5; 43/72] END clf__estimator=KNeighborsClassifier(), tfidf__use_idf=True, vect__max_df=0.75, vect__max_features=None, vect__ngram_range=(1, 1);, score=0.199 total time=   2.8s\n",
      "[CV 2/5; 43/72] START clf__estimator=KNeighborsClassifier(), tfidf__use_idf=True, vect__max_df=0.75, vect__max_features=None, vect__ngram_range=(1, 1)\n"
     ]
    },
    {
     "name": "stderr",
     "output_type": "stream",
     "text": [
      "C:\\ProgramData\\Anaconda3\\lib\\site-packages\\sklearn\\neighbors\\_classification.py:228: FutureWarning: Unlike other reduction functions (e.g. `skew`, `kurtosis`), the default behavior of `mode` typically preserves the axis it acts along. In SciPy 1.11.0, this behavior will change: the default value of `keepdims` will become False, the `axis` over which the statistic is taken will be eliminated, and the value None will no longer be accepted. Set `keepdims` to True or False to avoid this warning.\n",
      "  mode, _ = stats.mode(_y[neigh_ind, k], axis=1)\n"
     ]
    },
    {
     "name": "stdout",
     "output_type": "stream",
     "text": [
      "[CV 2/5; 43/72] END clf__estimator=KNeighborsClassifier(), tfidf__use_idf=True, vect__max_df=0.75, vect__max_features=None, vect__ngram_range=(1, 1);, score=0.176 total time=   2.9s\n",
      "[CV 3/5; 43/72] START clf__estimator=KNeighborsClassifier(), tfidf__use_idf=True, vect__max_df=0.75, vect__max_features=None, vect__ngram_range=(1, 1)\n"
     ]
    },
    {
     "name": "stderr",
     "output_type": "stream",
     "text": [
      "C:\\ProgramData\\Anaconda3\\lib\\site-packages\\sklearn\\neighbors\\_classification.py:228: FutureWarning: Unlike other reduction functions (e.g. `skew`, `kurtosis`), the default behavior of `mode` typically preserves the axis it acts along. In SciPy 1.11.0, this behavior will change: the default value of `keepdims` will become False, the `axis` over which the statistic is taken will be eliminated, and the value None will no longer be accepted. Set `keepdims` to True or False to avoid this warning.\n",
      "  mode, _ = stats.mode(_y[neigh_ind, k], axis=1)\n"
     ]
    },
    {
     "name": "stdout",
     "output_type": "stream",
     "text": [
      "[CV 3/5; 43/72] END clf__estimator=KNeighborsClassifier(), tfidf__use_idf=True, vect__max_df=0.75, vect__max_features=None, vect__ngram_range=(1, 1);, score=0.171 total time=   2.9s\n",
      "[CV 4/5; 43/72] START clf__estimator=KNeighborsClassifier(), tfidf__use_idf=True, vect__max_df=0.75, vect__max_features=None, vect__ngram_range=(1, 1)\n"
     ]
    },
    {
     "name": "stderr",
     "output_type": "stream",
     "text": [
      "C:\\ProgramData\\Anaconda3\\lib\\site-packages\\sklearn\\neighbors\\_classification.py:228: FutureWarning: Unlike other reduction functions (e.g. `skew`, `kurtosis`), the default behavior of `mode` typically preserves the axis it acts along. In SciPy 1.11.0, this behavior will change: the default value of `keepdims` will become False, the `axis` over which the statistic is taken will be eliminated, and the value None will no longer be accepted. Set `keepdims` to True or False to avoid this warning.\n",
      "  mode, _ = stats.mode(_y[neigh_ind, k], axis=1)\n"
     ]
    },
    {
     "name": "stdout",
     "output_type": "stream",
     "text": [
      "[CV 4/5; 43/72] END clf__estimator=KNeighborsClassifier(), tfidf__use_idf=True, vect__max_df=0.75, vect__max_features=None, vect__ngram_range=(1, 1);, score=0.176 total time=   2.8s\n",
      "[CV 5/5; 43/72] START clf__estimator=KNeighborsClassifier(), tfidf__use_idf=True, vect__max_df=0.75, vect__max_features=None, vect__ngram_range=(1, 1)\n"
     ]
    },
    {
     "name": "stderr",
     "output_type": "stream",
     "text": [
      "C:\\ProgramData\\Anaconda3\\lib\\site-packages\\sklearn\\neighbors\\_classification.py:228: FutureWarning: Unlike other reduction functions (e.g. `skew`, `kurtosis`), the default behavior of `mode` typically preserves the axis it acts along. In SciPy 1.11.0, this behavior will change: the default value of `keepdims` will become False, the `axis` over which the statistic is taken will be eliminated, and the value None will no longer be accepted. Set `keepdims` to True or False to avoid this warning.\n",
      "  mode, _ = stats.mode(_y[neigh_ind, k], axis=1)\n"
     ]
    },
    {
     "name": "stdout",
     "output_type": "stream",
     "text": [
      "[CV 5/5; 43/72] END clf__estimator=KNeighborsClassifier(), tfidf__use_idf=True, vect__max_df=0.75, vect__max_features=None, vect__ngram_range=(1, 1);, score=0.173 total time=   2.8s\n",
      "[CV 1/5; 44/72] START clf__estimator=KNeighborsClassifier(), tfidf__use_idf=True, vect__max_df=0.75, vect__max_features=None, vect__ngram_range=(1, 2)\n"
     ]
    },
    {
     "name": "stderr",
     "output_type": "stream",
     "text": [
      "C:\\ProgramData\\Anaconda3\\lib\\site-packages\\sklearn\\neighbors\\_classification.py:228: FutureWarning: Unlike other reduction functions (e.g. `skew`, `kurtosis`), the default behavior of `mode` typically preserves the axis it acts along. In SciPy 1.11.0, this behavior will change: the default value of `keepdims` will become False, the `axis` over which the statistic is taken will be eliminated, and the value None will no longer be accepted. Set `keepdims` to True or False to avoid this warning.\n",
      "  mode, _ = stats.mode(_y[neigh_ind, k], axis=1)\n"
     ]
    },
    {
     "name": "stdout",
     "output_type": "stream",
     "text": [
      "[CV 1/5; 44/72] END clf__estimator=KNeighborsClassifier(), tfidf__use_idf=True, vect__max_df=0.75, vect__max_features=None, vect__ngram_range=(1, 2);, score=0.205 total time=   2.9s\n",
      "[CV 2/5; 44/72] START clf__estimator=KNeighborsClassifier(), tfidf__use_idf=True, vect__max_df=0.75, vect__max_features=None, vect__ngram_range=(1, 2)\n"
     ]
    },
    {
     "name": "stderr",
     "output_type": "stream",
     "text": [
      "C:\\ProgramData\\Anaconda3\\lib\\site-packages\\sklearn\\neighbors\\_classification.py:228: FutureWarning: Unlike other reduction functions (e.g. `skew`, `kurtosis`), the default behavior of `mode` typically preserves the axis it acts along. In SciPy 1.11.0, this behavior will change: the default value of `keepdims` will become False, the `axis` over which the statistic is taken will be eliminated, and the value None will no longer be accepted. Set `keepdims` to True or False to avoid this warning.\n",
      "  mode, _ = stats.mode(_y[neigh_ind, k], axis=1)\n"
     ]
    },
    {
     "name": "stdout",
     "output_type": "stream",
     "text": [
      "[CV 2/5; 44/72] END clf__estimator=KNeighborsClassifier(), tfidf__use_idf=True, vect__max_df=0.75, vect__max_features=None, vect__ngram_range=(1, 2);, score=0.189 total time=   3.0s\n",
      "[CV 3/5; 44/72] START clf__estimator=KNeighborsClassifier(), tfidf__use_idf=True, vect__max_df=0.75, vect__max_features=None, vect__ngram_range=(1, 2)\n"
     ]
    },
    {
     "name": "stderr",
     "output_type": "stream",
     "text": [
      "C:\\ProgramData\\Anaconda3\\lib\\site-packages\\sklearn\\neighbors\\_classification.py:228: FutureWarning: Unlike other reduction functions (e.g. `skew`, `kurtosis`), the default behavior of `mode` typically preserves the axis it acts along. In SciPy 1.11.0, this behavior will change: the default value of `keepdims` will become False, the `axis` over which the statistic is taken will be eliminated, and the value None will no longer be accepted. Set `keepdims` to True or False to avoid this warning.\n",
      "  mode, _ = stats.mode(_y[neigh_ind, k], axis=1)\n"
     ]
    },
    {
     "name": "stdout",
     "output_type": "stream",
     "text": [
      "[CV 3/5; 44/72] END clf__estimator=KNeighborsClassifier(), tfidf__use_idf=True, vect__max_df=0.75, vect__max_features=None, vect__ngram_range=(1, 2);, score=0.177 total time=   3.1s\n",
      "[CV 4/5; 44/72] START clf__estimator=KNeighborsClassifier(), tfidf__use_idf=True, vect__max_df=0.75, vect__max_features=None, vect__ngram_range=(1, 2)\n"
     ]
    },
    {
     "name": "stderr",
     "output_type": "stream",
     "text": [
      "C:\\ProgramData\\Anaconda3\\lib\\site-packages\\sklearn\\neighbors\\_classification.py:228: FutureWarning: Unlike other reduction functions (e.g. `skew`, `kurtosis`), the default behavior of `mode` typically preserves the axis it acts along. In SciPy 1.11.0, this behavior will change: the default value of `keepdims` will become False, the `axis` over which the statistic is taken will be eliminated, and the value None will no longer be accepted. Set `keepdims` to True or False to avoid this warning.\n",
      "  mode, _ = stats.mode(_y[neigh_ind, k], axis=1)\n"
     ]
    },
    {
     "name": "stdout",
     "output_type": "stream",
     "text": [
      "[CV 4/5; 44/72] END clf__estimator=KNeighborsClassifier(), tfidf__use_idf=True, vect__max_df=0.75, vect__max_features=None, vect__ngram_range=(1, 2);, score=0.171 total time=   3.0s\n",
      "[CV 5/5; 44/72] START clf__estimator=KNeighborsClassifier(), tfidf__use_idf=True, vect__max_df=0.75, vect__max_features=None, vect__ngram_range=(1, 2)\n"
     ]
    },
    {
     "name": "stderr",
     "output_type": "stream",
     "text": [
      "C:\\ProgramData\\Anaconda3\\lib\\site-packages\\sklearn\\neighbors\\_classification.py:228: FutureWarning: Unlike other reduction functions (e.g. `skew`, `kurtosis`), the default behavior of `mode` typically preserves the axis it acts along. In SciPy 1.11.0, this behavior will change: the default value of `keepdims` will become False, the `axis` over which the statistic is taken will be eliminated, and the value None will no longer be accepted. Set `keepdims` to True or False to avoid this warning.\n",
      "  mode, _ = stats.mode(_y[neigh_ind, k], axis=1)\n"
     ]
    },
    {
     "name": "stdout",
     "output_type": "stream",
     "text": [
      "[CV 5/5; 44/72] END clf__estimator=KNeighborsClassifier(), tfidf__use_idf=True, vect__max_df=0.75, vect__max_features=None, vect__ngram_range=(1, 2);, score=0.185 total time=   3.0s\n",
      "[CV 1/5; 45/72] START clf__estimator=KNeighborsClassifier(), tfidf__use_idf=True, vect__max_df=0.75, vect__max_features=5000, vect__ngram_range=(1, 1)\n"
     ]
    },
    {
     "name": "stderr",
     "output_type": "stream",
     "text": [
      "C:\\ProgramData\\Anaconda3\\lib\\site-packages\\sklearn\\neighbors\\_classification.py:228: FutureWarning: Unlike other reduction functions (e.g. `skew`, `kurtosis`), the default behavior of `mode` typically preserves the axis it acts along. In SciPy 1.11.0, this behavior will change: the default value of `keepdims` will become False, the `axis` over which the statistic is taken will be eliminated, and the value None will no longer be accepted. Set `keepdims` to True or False to avoid this warning.\n",
      "  mode, _ = stats.mode(_y[neigh_ind, k], axis=1)\n"
     ]
    },
    {
     "name": "stdout",
     "output_type": "stream",
     "text": [
      "[CV 1/5; 45/72] END clf__estimator=KNeighborsClassifier(), tfidf__use_idf=True, vect__max_df=0.75, vect__max_features=5000, vect__ngram_range=(1, 1);, score=0.204 total time=   2.7s\n",
      "[CV 2/5; 45/72] START clf__estimator=KNeighborsClassifier(), tfidf__use_idf=True, vect__max_df=0.75, vect__max_features=5000, vect__ngram_range=(1, 1)\n"
     ]
    },
    {
     "name": "stderr",
     "output_type": "stream",
     "text": [
      "C:\\ProgramData\\Anaconda3\\lib\\site-packages\\sklearn\\neighbors\\_classification.py:228: FutureWarning: Unlike other reduction functions (e.g. `skew`, `kurtosis`), the default behavior of `mode` typically preserves the axis it acts along. In SciPy 1.11.0, this behavior will change: the default value of `keepdims` will become False, the `axis` over which the statistic is taken will be eliminated, and the value None will no longer be accepted. Set `keepdims` to True or False to avoid this warning.\n",
      "  mode, _ = stats.mode(_y[neigh_ind, k], axis=1)\n"
     ]
    },
    {
     "name": "stdout",
     "output_type": "stream",
     "text": [
      "[CV 2/5; 45/72] END clf__estimator=KNeighborsClassifier(), tfidf__use_idf=True, vect__max_df=0.75, vect__max_features=5000, vect__ngram_range=(1, 1);, score=0.195 total time=   2.8s\n",
      "[CV 3/5; 45/72] START clf__estimator=KNeighborsClassifier(), tfidf__use_idf=True, vect__max_df=0.75, vect__max_features=5000, vect__ngram_range=(1, 1)\n"
     ]
    },
    {
     "name": "stderr",
     "output_type": "stream",
     "text": [
      "C:\\ProgramData\\Anaconda3\\lib\\site-packages\\sklearn\\neighbors\\_classification.py:228: FutureWarning: Unlike other reduction functions (e.g. `skew`, `kurtosis`), the default behavior of `mode` typically preserves the axis it acts along. In SciPy 1.11.0, this behavior will change: the default value of `keepdims` will become False, the `axis` over which the statistic is taken will be eliminated, and the value None will no longer be accepted. Set `keepdims` to True or False to avoid this warning.\n",
      "  mode, _ = stats.mode(_y[neigh_ind, k], axis=1)\n"
     ]
    },
    {
     "name": "stdout",
     "output_type": "stream",
     "text": [
      "[CV 3/5; 45/72] END clf__estimator=KNeighborsClassifier(), tfidf__use_idf=True, vect__max_df=0.75, vect__max_features=5000, vect__ngram_range=(1, 1);, score=0.167 total time=   2.9s\n",
      "[CV 4/5; 45/72] START clf__estimator=KNeighborsClassifier(), tfidf__use_idf=True, vect__max_df=0.75, vect__max_features=5000, vect__ngram_range=(1, 1)\n"
     ]
    },
    {
     "name": "stderr",
     "output_type": "stream",
     "text": [
      "C:\\ProgramData\\Anaconda3\\lib\\site-packages\\sklearn\\neighbors\\_classification.py:228: FutureWarning: Unlike other reduction functions (e.g. `skew`, `kurtosis`), the default behavior of `mode` typically preserves the axis it acts along. In SciPy 1.11.0, this behavior will change: the default value of `keepdims` will become False, the `axis` over which the statistic is taken will be eliminated, and the value None will no longer be accepted. Set `keepdims` to True or False to avoid this warning.\n",
      "  mode, _ = stats.mode(_y[neigh_ind, k], axis=1)\n"
     ]
    },
    {
     "name": "stdout",
     "output_type": "stream",
     "text": [
      "[CV 4/5; 45/72] END clf__estimator=KNeighborsClassifier(), tfidf__use_idf=True, vect__max_df=0.75, vect__max_features=5000, vect__ngram_range=(1, 1);, score=0.184 total time=   2.9s\n",
      "[CV 5/5; 45/72] START clf__estimator=KNeighborsClassifier(), tfidf__use_idf=True, vect__max_df=0.75, vect__max_features=5000, vect__ngram_range=(1, 1)\n"
     ]
    },
    {
     "name": "stderr",
     "output_type": "stream",
     "text": [
      "C:\\ProgramData\\Anaconda3\\lib\\site-packages\\sklearn\\neighbors\\_classification.py:228: FutureWarning: Unlike other reduction functions (e.g. `skew`, `kurtosis`), the default behavior of `mode` typically preserves the axis it acts along. In SciPy 1.11.0, this behavior will change: the default value of `keepdims` will become False, the `axis` over which the statistic is taken will be eliminated, and the value None will no longer be accepted. Set `keepdims` to True or False to avoid this warning.\n",
      "  mode, _ = stats.mode(_y[neigh_ind, k], axis=1)\n"
     ]
    },
    {
     "name": "stdout",
     "output_type": "stream",
     "text": [
      "[CV 5/5; 45/72] END clf__estimator=KNeighborsClassifier(), tfidf__use_idf=True, vect__max_df=0.75, vect__max_features=5000, vect__ngram_range=(1, 1);, score=0.176 total time=   2.8s\n",
      "[CV 1/5; 46/72] START clf__estimator=KNeighborsClassifier(), tfidf__use_idf=True, vect__max_df=0.75, vect__max_features=5000, vect__ngram_range=(1, 2)\n"
     ]
    },
    {
     "name": "stderr",
     "output_type": "stream",
     "text": [
      "C:\\ProgramData\\Anaconda3\\lib\\site-packages\\sklearn\\neighbors\\_classification.py:228: FutureWarning: Unlike other reduction functions (e.g. `skew`, `kurtosis`), the default behavior of `mode` typically preserves the axis it acts along. In SciPy 1.11.0, this behavior will change: the default value of `keepdims` will become False, the `axis` over which the statistic is taken will be eliminated, and the value None will no longer be accepted. Set `keepdims` to True or False to avoid this warning.\n",
      "  mode, _ = stats.mode(_y[neigh_ind, k], axis=1)\n"
     ]
    },
    {
     "name": "stdout",
     "output_type": "stream",
     "text": [
      "[CV 1/5; 46/72] END clf__estimator=KNeighborsClassifier(), tfidf__use_idf=True, vect__max_df=0.75, vect__max_features=5000, vect__ngram_range=(1, 2);, score=0.220 total time=   2.9s\n",
      "[CV 2/5; 46/72] START clf__estimator=KNeighborsClassifier(), tfidf__use_idf=True, vect__max_df=0.75, vect__max_features=5000, vect__ngram_range=(1, 2)\n"
     ]
    },
    {
     "name": "stderr",
     "output_type": "stream",
     "text": [
      "C:\\ProgramData\\Anaconda3\\lib\\site-packages\\sklearn\\neighbors\\_classification.py:228: FutureWarning: Unlike other reduction functions (e.g. `skew`, `kurtosis`), the default behavior of `mode` typically preserves the axis it acts along. In SciPy 1.11.0, this behavior will change: the default value of `keepdims` will become False, the `axis` over which the statistic is taken will be eliminated, and the value None will no longer be accepted. Set `keepdims` to True or False to avoid this warning.\n",
      "  mode, _ = stats.mode(_y[neigh_ind, k], axis=1)\n"
     ]
    },
    {
     "name": "stdout",
     "output_type": "stream",
     "text": [
      "[CV 2/5; 46/72] END clf__estimator=KNeighborsClassifier(), tfidf__use_idf=True, vect__max_df=0.75, vect__max_features=5000, vect__ngram_range=(1, 2);, score=0.208 total time=   2.9s\n",
      "[CV 3/5; 46/72] START clf__estimator=KNeighborsClassifier(), tfidf__use_idf=True, vect__max_df=0.75, vect__max_features=5000, vect__ngram_range=(1, 2)\n"
     ]
    },
    {
     "name": "stderr",
     "output_type": "stream",
     "text": [
      "C:\\ProgramData\\Anaconda3\\lib\\site-packages\\sklearn\\neighbors\\_classification.py:228: FutureWarning: Unlike other reduction functions (e.g. `skew`, `kurtosis`), the default behavior of `mode` typically preserves the axis it acts along. In SciPy 1.11.0, this behavior will change: the default value of `keepdims` will become False, the `axis` over which the statistic is taken will be eliminated, and the value None will no longer be accepted. Set `keepdims` to True or False to avoid this warning.\n",
      "  mode, _ = stats.mode(_y[neigh_ind, k], axis=1)\n"
     ]
    },
    {
     "name": "stdout",
     "output_type": "stream",
     "text": [
      "[CV 3/5; 46/72] END clf__estimator=KNeighborsClassifier(), tfidf__use_idf=True, vect__max_df=0.75, vect__max_features=5000, vect__ngram_range=(1, 2);, score=0.187 total time=   3.0s\n",
      "[CV 4/5; 46/72] START clf__estimator=KNeighborsClassifier(), tfidf__use_idf=True, vect__max_df=0.75, vect__max_features=5000, vect__ngram_range=(1, 2)\n"
     ]
    },
    {
     "name": "stderr",
     "output_type": "stream",
     "text": [
      "C:\\ProgramData\\Anaconda3\\lib\\site-packages\\sklearn\\neighbors\\_classification.py:228: FutureWarning: Unlike other reduction functions (e.g. `skew`, `kurtosis`), the default behavior of `mode` typically preserves the axis it acts along. In SciPy 1.11.0, this behavior will change: the default value of `keepdims` will become False, the `axis` over which the statistic is taken will be eliminated, and the value None will no longer be accepted. Set `keepdims` to True or False to avoid this warning.\n",
      "  mode, _ = stats.mode(_y[neigh_ind, k], axis=1)\n"
     ]
    },
    {
     "name": "stdout",
     "output_type": "stream",
     "text": [
      "[CV 4/5; 46/72] END clf__estimator=KNeighborsClassifier(), tfidf__use_idf=True, vect__max_df=0.75, vect__max_features=5000, vect__ngram_range=(1, 2);, score=0.212 total time=   3.1s\n",
      "[CV 5/5; 46/72] START clf__estimator=KNeighborsClassifier(), tfidf__use_idf=True, vect__max_df=0.75, vect__max_features=5000, vect__ngram_range=(1, 2)\n"
     ]
    },
    {
     "name": "stderr",
     "output_type": "stream",
     "text": [
      "C:\\ProgramData\\Anaconda3\\lib\\site-packages\\sklearn\\neighbors\\_classification.py:228: FutureWarning: Unlike other reduction functions (e.g. `skew`, `kurtosis`), the default behavior of `mode` typically preserves the axis it acts along. In SciPy 1.11.0, this behavior will change: the default value of `keepdims` will become False, the `axis` over which the statistic is taken will be eliminated, and the value None will no longer be accepted. Set `keepdims` to True or False to avoid this warning.\n",
      "  mode, _ = stats.mode(_y[neigh_ind, k], axis=1)\n"
     ]
    },
    {
     "name": "stdout",
     "output_type": "stream",
     "text": [
      "[CV 5/5; 46/72] END clf__estimator=KNeighborsClassifier(), tfidf__use_idf=True, vect__max_df=0.75, vect__max_features=5000, vect__ngram_range=(1, 2);, score=0.200 total time=   2.9s\n",
      "[CV 1/5; 47/72] START clf__estimator=KNeighborsClassifier(), tfidf__use_idf=True, vect__max_df=0.75, vect__max_features=10000, vect__ngram_range=(1, 1)\n"
     ]
    },
    {
     "name": "stderr",
     "output_type": "stream",
     "text": [
      "C:\\ProgramData\\Anaconda3\\lib\\site-packages\\sklearn\\neighbors\\_classification.py:228: FutureWarning: Unlike other reduction functions (e.g. `skew`, `kurtosis`), the default behavior of `mode` typically preserves the axis it acts along. In SciPy 1.11.0, this behavior will change: the default value of `keepdims` will become False, the `axis` over which the statistic is taken will be eliminated, and the value None will no longer be accepted. Set `keepdims` to True or False to avoid this warning.\n",
      "  mode, _ = stats.mode(_y[neigh_ind, k], axis=1)\n"
     ]
    },
    {
     "name": "stdout",
     "output_type": "stream",
     "text": [
      "[CV 1/5; 47/72] END clf__estimator=KNeighborsClassifier(), tfidf__use_idf=True, vect__max_df=0.75, vect__max_features=10000, vect__ngram_range=(1, 1);, score=0.203 total time=   2.8s\n",
      "[CV 2/5; 47/72] START clf__estimator=KNeighborsClassifier(), tfidf__use_idf=True, vect__max_df=0.75, vect__max_features=10000, vect__ngram_range=(1, 1)\n"
     ]
    },
    {
     "name": "stderr",
     "output_type": "stream",
     "text": [
      "C:\\ProgramData\\Anaconda3\\lib\\site-packages\\sklearn\\neighbors\\_classification.py:228: FutureWarning: Unlike other reduction functions (e.g. `skew`, `kurtosis`), the default behavior of `mode` typically preserves the axis it acts along. In SciPy 1.11.0, this behavior will change: the default value of `keepdims` will become False, the `axis` over which the statistic is taken will be eliminated, and the value None will no longer be accepted. Set `keepdims` to True or False to avoid this warning.\n",
      "  mode, _ = stats.mode(_y[neigh_ind, k], axis=1)\n"
     ]
    },
    {
     "name": "stdout",
     "output_type": "stream",
     "text": [
      "[CV 2/5; 47/72] END clf__estimator=KNeighborsClassifier(), tfidf__use_idf=True, vect__max_df=0.75, vect__max_features=10000, vect__ngram_range=(1, 1);, score=0.176 total time=   2.8s\n",
      "[CV 3/5; 47/72] START clf__estimator=KNeighborsClassifier(), tfidf__use_idf=True, vect__max_df=0.75, vect__max_features=10000, vect__ngram_range=(1, 1)\n"
     ]
    },
    {
     "name": "stderr",
     "output_type": "stream",
     "text": [
      "C:\\ProgramData\\Anaconda3\\lib\\site-packages\\sklearn\\neighbors\\_classification.py:228: FutureWarning: Unlike other reduction functions (e.g. `skew`, `kurtosis`), the default behavior of `mode` typically preserves the axis it acts along. In SciPy 1.11.0, this behavior will change: the default value of `keepdims` will become False, the `axis` over which the statistic is taken will be eliminated, and the value None will no longer be accepted. Set `keepdims` to True or False to avoid this warning.\n",
      "  mode, _ = stats.mode(_y[neigh_ind, k], axis=1)\n"
     ]
    },
    {
     "name": "stdout",
     "output_type": "stream",
     "text": [
      "[CV 3/5; 47/72] END clf__estimator=KNeighborsClassifier(), tfidf__use_idf=True, vect__max_df=0.75, vect__max_features=10000, vect__ngram_range=(1, 1);, score=0.172 total time=   2.8s\n",
      "[CV 4/5; 47/72] START clf__estimator=KNeighborsClassifier(), tfidf__use_idf=True, vect__max_df=0.75, vect__max_features=10000, vect__ngram_range=(1, 1)\n"
     ]
    },
    {
     "name": "stderr",
     "output_type": "stream",
     "text": [
      "C:\\ProgramData\\Anaconda3\\lib\\site-packages\\sklearn\\neighbors\\_classification.py:228: FutureWarning: Unlike other reduction functions (e.g. `skew`, `kurtosis`), the default behavior of `mode` typically preserves the axis it acts along. In SciPy 1.11.0, this behavior will change: the default value of `keepdims` will become False, the `axis` over which the statistic is taken will be eliminated, and the value None will no longer be accepted. Set `keepdims` to True or False to avoid this warning.\n",
      "  mode, _ = stats.mode(_y[neigh_ind, k], axis=1)\n"
     ]
    },
    {
     "name": "stdout",
     "output_type": "stream",
     "text": [
      "[CV 4/5; 47/72] END clf__estimator=KNeighborsClassifier(), tfidf__use_idf=True, vect__max_df=0.75, vect__max_features=10000, vect__ngram_range=(1, 1);, score=0.176 total time=   2.9s\n",
      "[CV 5/5; 47/72] START clf__estimator=KNeighborsClassifier(), tfidf__use_idf=True, vect__max_df=0.75, vect__max_features=10000, vect__ngram_range=(1, 1)\n"
     ]
    },
    {
     "name": "stderr",
     "output_type": "stream",
     "text": [
      "C:\\ProgramData\\Anaconda3\\lib\\site-packages\\sklearn\\neighbors\\_classification.py:228: FutureWarning: Unlike other reduction functions (e.g. `skew`, `kurtosis`), the default behavior of `mode` typically preserves the axis it acts along. In SciPy 1.11.0, this behavior will change: the default value of `keepdims` will become False, the `axis` over which the statistic is taken will be eliminated, and the value None will no longer be accepted. Set `keepdims` to True or False to avoid this warning.\n",
      "  mode, _ = stats.mode(_y[neigh_ind, k], axis=1)\n"
     ]
    },
    {
     "name": "stdout",
     "output_type": "stream",
     "text": [
      "[CV 5/5; 47/72] END clf__estimator=KNeighborsClassifier(), tfidf__use_idf=True, vect__max_df=0.75, vect__max_features=10000, vect__ngram_range=(1, 1);, score=0.175 total time=   2.8s\n",
      "[CV 1/5; 48/72] START clf__estimator=KNeighborsClassifier(), tfidf__use_idf=True, vect__max_df=0.75, vect__max_features=10000, vect__ngram_range=(1, 2)\n"
     ]
    },
    {
     "name": "stderr",
     "output_type": "stream",
     "text": [
      "C:\\ProgramData\\Anaconda3\\lib\\site-packages\\sklearn\\neighbors\\_classification.py:228: FutureWarning: Unlike other reduction functions (e.g. `skew`, `kurtosis`), the default behavior of `mode` typically preserves the axis it acts along. In SciPy 1.11.0, this behavior will change: the default value of `keepdims` will become False, the `axis` over which the statistic is taken will be eliminated, and the value None will no longer be accepted. Set `keepdims` to True or False to avoid this warning.\n",
      "  mode, _ = stats.mode(_y[neigh_ind, k], axis=1)\n"
     ]
    },
    {
     "name": "stdout",
     "output_type": "stream",
     "text": [
      "[CV 1/5; 48/72] END clf__estimator=KNeighborsClassifier(), tfidf__use_idf=True, vect__max_df=0.75, vect__max_features=10000, vect__ngram_range=(1, 2);, score=0.224 total time=   2.9s\n",
      "[CV 2/5; 48/72] START clf__estimator=KNeighborsClassifier(), tfidf__use_idf=True, vect__max_df=0.75, vect__max_features=10000, vect__ngram_range=(1, 2)\n"
     ]
    },
    {
     "name": "stderr",
     "output_type": "stream",
     "text": [
      "C:\\ProgramData\\Anaconda3\\lib\\site-packages\\sklearn\\neighbors\\_classification.py:228: FutureWarning: Unlike other reduction functions (e.g. `skew`, `kurtosis`), the default behavior of `mode` typically preserves the axis it acts along. In SciPy 1.11.0, this behavior will change: the default value of `keepdims` will become False, the `axis` over which the statistic is taken will be eliminated, and the value None will no longer be accepted. Set `keepdims` to True or False to avoid this warning.\n",
      "  mode, _ = stats.mode(_y[neigh_ind, k], axis=1)\n"
     ]
    },
    {
     "name": "stdout",
     "output_type": "stream",
     "text": [
      "[CV 2/5; 48/72] END clf__estimator=KNeighborsClassifier(), tfidf__use_idf=True, vect__max_df=0.75, vect__max_features=10000, vect__ngram_range=(1, 2);, score=0.204 total time=   2.9s\n",
      "[CV 3/5; 48/72] START clf__estimator=KNeighborsClassifier(), tfidf__use_idf=True, vect__max_df=0.75, vect__max_features=10000, vect__ngram_range=(1, 2)\n"
     ]
    },
    {
     "name": "stderr",
     "output_type": "stream",
     "text": [
      "C:\\ProgramData\\Anaconda3\\lib\\site-packages\\sklearn\\neighbors\\_classification.py:228: FutureWarning: Unlike other reduction functions (e.g. `skew`, `kurtosis`), the default behavior of `mode` typically preserves the axis it acts along. In SciPy 1.11.0, this behavior will change: the default value of `keepdims` will become False, the `axis` over which the statistic is taken will be eliminated, and the value None will no longer be accepted. Set `keepdims` to True or False to avoid this warning.\n",
      "  mode, _ = stats.mode(_y[neigh_ind, k], axis=1)\n"
     ]
    },
    {
     "name": "stdout",
     "output_type": "stream",
     "text": [
      "[CV 3/5; 48/72] END clf__estimator=KNeighborsClassifier(), tfidf__use_idf=True, vect__max_df=0.75, vect__max_features=10000, vect__ngram_range=(1, 2);, score=0.177 total time=   2.9s\n",
      "[CV 4/5; 48/72] START clf__estimator=KNeighborsClassifier(), tfidf__use_idf=True, vect__max_df=0.75, vect__max_features=10000, vect__ngram_range=(1, 2)\n"
     ]
    },
    {
     "name": "stderr",
     "output_type": "stream",
     "text": [
      "C:\\ProgramData\\Anaconda3\\lib\\site-packages\\sklearn\\neighbors\\_classification.py:228: FutureWarning: Unlike other reduction functions (e.g. `skew`, `kurtosis`), the default behavior of `mode` typically preserves the axis it acts along. In SciPy 1.11.0, this behavior will change: the default value of `keepdims` will become False, the `axis` over which the statistic is taken will be eliminated, and the value None will no longer be accepted. Set `keepdims` to True or False to avoid this warning.\n",
      "  mode, _ = stats.mode(_y[neigh_ind, k], axis=1)\n"
     ]
    },
    {
     "name": "stdout",
     "output_type": "stream",
     "text": [
      "[CV 4/5; 48/72] END clf__estimator=KNeighborsClassifier(), tfidf__use_idf=True, vect__max_df=0.75, vect__max_features=10000, vect__ngram_range=(1, 2);, score=0.188 total time=   3.1s\n",
      "[CV 5/5; 48/72] START clf__estimator=KNeighborsClassifier(), tfidf__use_idf=True, vect__max_df=0.75, vect__max_features=10000, vect__ngram_range=(1, 2)\n"
     ]
    },
    {
     "name": "stderr",
     "output_type": "stream",
     "text": [
      "C:\\ProgramData\\Anaconda3\\lib\\site-packages\\sklearn\\neighbors\\_classification.py:228: FutureWarning: Unlike other reduction functions (e.g. `skew`, `kurtosis`), the default behavior of `mode` typically preserves the axis it acts along. In SciPy 1.11.0, this behavior will change: the default value of `keepdims` will become False, the `axis` over which the statistic is taken will be eliminated, and the value None will no longer be accepted. Set `keepdims` to True or False to avoid this warning.\n",
      "  mode, _ = stats.mode(_y[neigh_ind, k], axis=1)\n"
     ]
    },
    {
     "name": "stdout",
     "output_type": "stream",
     "text": [
      "[CV 5/5; 48/72] END clf__estimator=KNeighborsClassifier(), tfidf__use_idf=True, vect__max_df=0.75, vect__max_features=10000, vect__ngram_range=(1, 2);, score=0.185 total time=   3.0s\n",
      "[CV 1/5; 49/72] START clf__estimator=KNeighborsClassifier(), tfidf__use_idf=True, vect__max_df=1.0, vect__max_features=None, vect__ngram_range=(1, 1)\n"
     ]
    },
    {
     "name": "stderr",
     "output_type": "stream",
     "text": [
      "C:\\ProgramData\\Anaconda3\\lib\\site-packages\\sklearn\\neighbors\\_classification.py:228: FutureWarning: Unlike other reduction functions (e.g. `skew`, `kurtosis`), the default behavior of `mode` typically preserves the axis it acts along. In SciPy 1.11.0, this behavior will change: the default value of `keepdims` will become False, the `axis` over which the statistic is taken will be eliminated, and the value None will no longer be accepted. Set `keepdims` to True or False to avoid this warning.\n",
      "  mode, _ = stats.mode(_y[neigh_ind, k], axis=1)\n"
     ]
    },
    {
     "name": "stdout",
     "output_type": "stream",
     "text": [
      "[CV 1/5; 49/72] END clf__estimator=KNeighborsClassifier(), tfidf__use_idf=True, vect__max_df=1.0, vect__max_features=None, vect__ngram_range=(1, 1);, score=0.207 total time=   2.9s\n",
      "[CV 2/5; 49/72] START clf__estimator=KNeighborsClassifier(), tfidf__use_idf=True, vect__max_df=1.0, vect__max_features=None, vect__ngram_range=(1, 1)\n"
     ]
    },
    {
     "name": "stderr",
     "output_type": "stream",
     "text": [
      "C:\\ProgramData\\Anaconda3\\lib\\site-packages\\sklearn\\neighbors\\_classification.py:228: FutureWarning: Unlike other reduction functions (e.g. `skew`, `kurtosis`), the default behavior of `mode` typically preserves the axis it acts along. In SciPy 1.11.0, this behavior will change: the default value of `keepdims` will become False, the `axis` over which the statistic is taken will be eliminated, and the value None will no longer be accepted. Set `keepdims` to True or False to avoid this warning.\n",
      "  mode, _ = stats.mode(_y[neigh_ind, k], axis=1)\n"
     ]
    },
    {
     "name": "stdout",
     "output_type": "stream",
     "text": [
      "[CV 2/5; 49/72] END clf__estimator=KNeighborsClassifier(), tfidf__use_idf=True, vect__max_df=1.0, vect__max_features=None, vect__ngram_range=(1, 1);, score=0.172 total time=   2.9s\n",
      "[CV 3/5; 49/72] START clf__estimator=KNeighborsClassifier(), tfidf__use_idf=True, vect__max_df=1.0, vect__max_features=None, vect__ngram_range=(1, 1)\n"
     ]
    },
    {
     "name": "stderr",
     "output_type": "stream",
     "text": [
      "C:\\ProgramData\\Anaconda3\\lib\\site-packages\\sklearn\\neighbors\\_classification.py:228: FutureWarning: Unlike other reduction functions (e.g. `skew`, `kurtosis`), the default behavior of `mode` typically preserves the axis it acts along. In SciPy 1.11.0, this behavior will change: the default value of `keepdims` will become False, the `axis` over which the statistic is taken will be eliminated, and the value None will no longer be accepted. Set `keepdims` to True or False to avoid this warning.\n",
      "  mode, _ = stats.mode(_y[neigh_ind, k], axis=1)\n"
     ]
    },
    {
     "name": "stdout",
     "output_type": "stream",
     "text": [
      "[CV 3/5; 49/72] END clf__estimator=KNeighborsClassifier(), tfidf__use_idf=True, vect__max_df=1.0, vect__max_features=None, vect__ngram_range=(1, 1);, score=0.168 total time=   3.1s\n",
      "[CV 4/5; 49/72] START clf__estimator=KNeighborsClassifier(), tfidf__use_idf=True, vect__max_df=1.0, vect__max_features=None, vect__ngram_range=(1, 1)\n"
     ]
    },
    {
     "name": "stderr",
     "output_type": "stream",
     "text": [
      "C:\\ProgramData\\Anaconda3\\lib\\site-packages\\sklearn\\neighbors\\_classification.py:228: FutureWarning: Unlike other reduction functions (e.g. `skew`, `kurtosis`), the default behavior of `mode` typically preserves the axis it acts along. In SciPy 1.11.0, this behavior will change: the default value of `keepdims` will become False, the `axis` over which the statistic is taken will be eliminated, and the value None will no longer be accepted. Set `keepdims` to True or False to avoid this warning.\n",
      "  mode, _ = stats.mode(_y[neigh_ind, k], axis=1)\n"
     ]
    },
    {
     "name": "stdout",
     "output_type": "stream",
     "text": [
      "[CV 4/5; 49/72] END clf__estimator=KNeighborsClassifier(), tfidf__use_idf=True, vect__max_df=1.0, vect__max_features=None, vect__ngram_range=(1, 1);, score=0.172 total time=   3.0s\n",
      "[CV 5/5; 49/72] START clf__estimator=KNeighborsClassifier(), tfidf__use_idf=True, vect__max_df=1.0, vect__max_features=None, vect__ngram_range=(1, 1)\n"
     ]
    },
    {
     "name": "stderr",
     "output_type": "stream",
     "text": [
      "C:\\ProgramData\\Anaconda3\\lib\\site-packages\\sklearn\\neighbors\\_classification.py:228: FutureWarning: Unlike other reduction functions (e.g. `skew`, `kurtosis`), the default behavior of `mode` typically preserves the axis it acts along. In SciPy 1.11.0, this behavior will change: the default value of `keepdims` will become False, the `axis` over which the statistic is taken will be eliminated, and the value None will no longer be accepted. Set `keepdims` to True or False to avoid this warning.\n",
      "  mode, _ = stats.mode(_y[neigh_ind, k], axis=1)\n"
     ]
    },
    {
     "name": "stdout",
     "output_type": "stream",
     "text": [
      "[CV 5/5; 49/72] END clf__estimator=KNeighborsClassifier(), tfidf__use_idf=True, vect__max_df=1.0, vect__max_features=None, vect__ngram_range=(1, 1);, score=0.176 total time=   3.0s\n",
      "[CV 1/5; 50/72] START clf__estimator=KNeighborsClassifier(), tfidf__use_idf=True, vect__max_df=1.0, vect__max_features=None, vect__ngram_range=(1, 2)\n"
     ]
    },
    {
     "name": "stderr",
     "output_type": "stream",
     "text": [
      "C:\\ProgramData\\Anaconda3\\lib\\site-packages\\sklearn\\neighbors\\_classification.py:228: FutureWarning: Unlike other reduction functions (e.g. `skew`, `kurtosis`), the default behavior of `mode` typically preserves the axis it acts along. In SciPy 1.11.0, this behavior will change: the default value of `keepdims` will become False, the `axis` over which the statistic is taken will be eliminated, and the value None will no longer be accepted. Set `keepdims` to True or False to avoid this warning.\n",
      "  mode, _ = stats.mode(_y[neigh_ind, k], axis=1)\n"
     ]
    },
    {
     "name": "stdout",
     "output_type": "stream",
     "text": [
      "[CV 1/5; 50/72] END clf__estimator=KNeighborsClassifier(), tfidf__use_idf=True, vect__max_df=1.0, vect__max_features=None, vect__ngram_range=(1, 2);, score=0.204 total time=   3.1s\n",
      "[CV 2/5; 50/72] START clf__estimator=KNeighborsClassifier(), tfidf__use_idf=True, vect__max_df=1.0, vect__max_features=None, vect__ngram_range=(1, 2)\n"
     ]
    },
    {
     "name": "stderr",
     "output_type": "stream",
     "text": [
      "C:\\ProgramData\\Anaconda3\\lib\\site-packages\\sklearn\\neighbors\\_classification.py:228: FutureWarning: Unlike other reduction functions (e.g. `skew`, `kurtosis`), the default behavior of `mode` typically preserves the axis it acts along. In SciPy 1.11.0, this behavior will change: the default value of `keepdims` will become False, the `axis` over which the statistic is taken will be eliminated, and the value None will no longer be accepted. Set `keepdims` to True or False to avoid this warning.\n",
      "  mode, _ = stats.mode(_y[neigh_ind, k], axis=1)\n"
     ]
    },
    {
     "name": "stdout",
     "output_type": "stream",
     "text": [
      "[CV 2/5; 50/72] END clf__estimator=KNeighborsClassifier(), tfidf__use_idf=True, vect__max_df=1.0, vect__max_features=None, vect__ngram_range=(1, 2);, score=0.189 total time=   3.1s\n",
      "[CV 3/5; 50/72] START clf__estimator=KNeighborsClassifier(), tfidf__use_idf=True, vect__max_df=1.0, vect__max_features=None, vect__ngram_range=(1, 2)\n"
     ]
    },
    {
     "name": "stderr",
     "output_type": "stream",
     "text": [
      "C:\\ProgramData\\Anaconda3\\lib\\site-packages\\sklearn\\neighbors\\_classification.py:228: FutureWarning: Unlike other reduction functions (e.g. `skew`, `kurtosis`), the default behavior of `mode` typically preserves the axis it acts along. In SciPy 1.11.0, this behavior will change: the default value of `keepdims` will become False, the `axis` over which the statistic is taken will be eliminated, and the value None will no longer be accepted. Set `keepdims` to True or False to avoid this warning.\n",
      "  mode, _ = stats.mode(_y[neigh_ind, k], axis=1)\n"
     ]
    },
    {
     "name": "stdout",
     "output_type": "stream",
     "text": [
      "[CV 3/5; 50/72] END clf__estimator=KNeighborsClassifier(), tfidf__use_idf=True, vect__max_df=1.0, vect__max_features=None, vect__ngram_range=(1, 2);, score=0.173 total time=   3.1s\n",
      "[CV 4/5; 50/72] START clf__estimator=KNeighborsClassifier(), tfidf__use_idf=True, vect__max_df=1.0, vect__max_features=None, vect__ngram_range=(1, 2)\n"
     ]
    },
    {
     "name": "stderr",
     "output_type": "stream",
     "text": [
      "C:\\ProgramData\\Anaconda3\\lib\\site-packages\\sklearn\\neighbors\\_classification.py:228: FutureWarning: Unlike other reduction functions (e.g. `skew`, `kurtosis`), the default behavior of `mode` typically preserves the axis it acts along. In SciPy 1.11.0, this behavior will change: the default value of `keepdims` will become False, the `axis` over which the statistic is taken will be eliminated, and the value None will no longer be accepted. Set `keepdims` to True or False to avoid this warning.\n",
      "  mode, _ = stats.mode(_y[neigh_ind, k], axis=1)\n"
     ]
    },
    {
     "name": "stdout",
     "output_type": "stream",
     "text": [
      "[CV 4/5; 50/72] END clf__estimator=KNeighborsClassifier(), tfidf__use_idf=True, vect__max_df=1.0, vect__max_features=None, vect__ngram_range=(1, 2);, score=0.167 total time=   3.3s\n",
      "[CV 5/5; 50/72] START clf__estimator=KNeighborsClassifier(), tfidf__use_idf=True, vect__max_df=1.0, vect__max_features=None, vect__ngram_range=(1, 2)\n"
     ]
    },
    {
     "name": "stderr",
     "output_type": "stream",
     "text": [
      "C:\\ProgramData\\Anaconda3\\lib\\site-packages\\sklearn\\neighbors\\_classification.py:228: FutureWarning: Unlike other reduction functions (e.g. `skew`, `kurtosis`), the default behavior of `mode` typically preserves the axis it acts along. In SciPy 1.11.0, this behavior will change: the default value of `keepdims` will become False, the `axis` over which the statistic is taken will be eliminated, and the value None will no longer be accepted. Set `keepdims` to True or False to avoid this warning.\n",
      "  mode, _ = stats.mode(_y[neigh_ind, k], axis=1)\n"
     ]
    },
    {
     "name": "stdout",
     "output_type": "stream",
     "text": [
      "[CV 5/5; 50/72] END clf__estimator=KNeighborsClassifier(), tfidf__use_idf=True, vect__max_df=1.0, vect__max_features=None, vect__ngram_range=(1, 2);, score=0.184 total time=   3.2s\n",
      "[CV 1/5; 51/72] START clf__estimator=KNeighborsClassifier(), tfidf__use_idf=True, vect__max_df=1.0, vect__max_features=5000, vect__ngram_range=(1, 1)\n"
     ]
    },
    {
     "name": "stderr",
     "output_type": "stream",
     "text": [
      "C:\\ProgramData\\Anaconda3\\lib\\site-packages\\sklearn\\neighbors\\_classification.py:228: FutureWarning: Unlike other reduction functions (e.g. `skew`, `kurtosis`), the default behavior of `mode` typically preserves the axis it acts along. In SciPy 1.11.0, this behavior will change: the default value of `keepdims` will become False, the `axis` over which the statistic is taken will be eliminated, and the value None will no longer be accepted. Set `keepdims` to True or False to avoid this warning.\n",
      "  mode, _ = stats.mode(_y[neigh_ind, k], axis=1)\n"
     ]
    },
    {
     "name": "stdout",
     "output_type": "stream",
     "text": [
      "[CV 1/5; 51/72] END clf__estimator=KNeighborsClassifier(), tfidf__use_idf=True, vect__max_df=1.0, vect__max_features=5000, vect__ngram_range=(1, 1);, score=0.193 total time=   2.9s\n",
      "[CV 2/5; 51/72] START clf__estimator=KNeighborsClassifier(), tfidf__use_idf=True, vect__max_df=1.0, vect__max_features=5000, vect__ngram_range=(1, 1)\n"
     ]
    },
    {
     "name": "stderr",
     "output_type": "stream",
     "text": [
      "C:\\ProgramData\\Anaconda3\\lib\\site-packages\\sklearn\\neighbors\\_classification.py:228: FutureWarning: Unlike other reduction functions (e.g. `skew`, `kurtosis`), the default behavior of `mode` typically preserves the axis it acts along. In SciPy 1.11.0, this behavior will change: the default value of `keepdims` will become False, the `axis` over which the statistic is taken will be eliminated, and the value None will no longer be accepted. Set `keepdims` to True or False to avoid this warning.\n",
      "  mode, _ = stats.mode(_y[neigh_ind, k], axis=1)\n"
     ]
    },
    {
     "name": "stdout",
     "output_type": "stream",
     "text": [
      "[CV 2/5; 51/72] END clf__estimator=KNeighborsClassifier(), tfidf__use_idf=True, vect__max_df=1.0, vect__max_features=5000, vect__ngram_range=(1, 1);, score=0.189 total time=   2.9s\n",
      "[CV 3/5; 51/72] START clf__estimator=KNeighborsClassifier(), tfidf__use_idf=True, vect__max_df=1.0, vect__max_features=5000, vect__ngram_range=(1, 1)\n"
     ]
    },
    {
     "name": "stderr",
     "output_type": "stream",
     "text": [
      "C:\\ProgramData\\Anaconda3\\lib\\site-packages\\sklearn\\neighbors\\_classification.py:228: FutureWarning: Unlike other reduction functions (e.g. `skew`, `kurtosis`), the default behavior of `mode` typically preserves the axis it acts along. In SciPy 1.11.0, this behavior will change: the default value of `keepdims` will become False, the `axis` over which the statistic is taken will be eliminated, and the value None will no longer be accepted. Set `keepdims` to True or False to avoid this warning.\n",
      "  mode, _ = stats.mode(_y[neigh_ind, k], axis=1)\n"
     ]
    },
    {
     "name": "stdout",
     "output_type": "stream",
     "text": [
      "[CV 3/5; 51/72] END clf__estimator=KNeighborsClassifier(), tfidf__use_idf=True, vect__max_df=1.0, vect__max_features=5000, vect__ngram_range=(1, 1);, score=0.165 total time=   2.9s\n",
      "[CV 4/5; 51/72] START clf__estimator=KNeighborsClassifier(), tfidf__use_idf=True, vect__max_df=1.0, vect__max_features=5000, vect__ngram_range=(1, 1)\n"
     ]
    },
    {
     "name": "stderr",
     "output_type": "stream",
     "text": [
      "C:\\ProgramData\\Anaconda3\\lib\\site-packages\\sklearn\\neighbors\\_classification.py:228: FutureWarning: Unlike other reduction functions (e.g. `skew`, `kurtosis`), the default behavior of `mode` typically preserves the axis it acts along. In SciPy 1.11.0, this behavior will change: the default value of `keepdims` will become False, the `axis` over which the statistic is taken will be eliminated, and the value None will no longer be accepted. Set `keepdims` to True or False to avoid this warning.\n",
      "  mode, _ = stats.mode(_y[neigh_ind, k], axis=1)\n"
     ]
    },
    {
     "name": "stdout",
     "output_type": "stream",
     "text": [
      "[CV 4/5; 51/72] END clf__estimator=KNeighborsClassifier(), tfidf__use_idf=True, vect__max_df=1.0, vect__max_features=5000, vect__ngram_range=(1, 1);, score=0.180 total time=   3.0s\n",
      "[CV 5/5; 51/72] START clf__estimator=KNeighborsClassifier(), tfidf__use_idf=True, vect__max_df=1.0, vect__max_features=5000, vect__ngram_range=(1, 1)\n"
     ]
    },
    {
     "name": "stderr",
     "output_type": "stream",
     "text": [
      "C:\\ProgramData\\Anaconda3\\lib\\site-packages\\sklearn\\neighbors\\_classification.py:228: FutureWarning: Unlike other reduction functions (e.g. `skew`, `kurtosis`), the default behavior of `mode` typically preserves the axis it acts along. In SciPy 1.11.0, this behavior will change: the default value of `keepdims` will become False, the `axis` over which the statistic is taken will be eliminated, and the value None will no longer be accepted. Set `keepdims` to True or False to avoid this warning.\n",
      "  mode, _ = stats.mode(_y[neigh_ind, k], axis=1)\n"
     ]
    },
    {
     "name": "stdout",
     "output_type": "stream",
     "text": [
      "[CV 5/5; 51/72] END clf__estimator=KNeighborsClassifier(), tfidf__use_idf=True, vect__max_df=1.0, vect__max_features=5000, vect__ngram_range=(1, 1);, score=0.175 total time=   3.0s\n",
      "[CV 1/5; 52/72] START clf__estimator=KNeighborsClassifier(), tfidf__use_idf=True, vect__max_df=1.0, vect__max_features=5000, vect__ngram_range=(1, 2)\n"
     ]
    },
    {
     "name": "stderr",
     "output_type": "stream",
     "text": [
      "C:\\ProgramData\\Anaconda3\\lib\\site-packages\\sklearn\\neighbors\\_classification.py:228: FutureWarning: Unlike other reduction functions (e.g. `skew`, `kurtosis`), the default behavior of `mode` typically preserves the axis it acts along. In SciPy 1.11.0, this behavior will change: the default value of `keepdims` will become False, the `axis` over which the statistic is taken will be eliminated, and the value None will no longer be accepted. Set `keepdims` to True or False to avoid this warning.\n",
      "  mode, _ = stats.mode(_y[neigh_ind, k], axis=1)\n"
     ]
    },
    {
     "name": "stdout",
     "output_type": "stream",
     "text": [
      "[CV 1/5; 52/72] END clf__estimator=KNeighborsClassifier(), tfidf__use_idf=True, vect__max_df=1.0, vect__max_features=5000, vect__ngram_range=(1, 2);, score=0.219 total time=   3.0s\n",
      "[CV 2/5; 52/72] START clf__estimator=KNeighborsClassifier(), tfidf__use_idf=True, vect__max_df=1.0, vect__max_features=5000, vect__ngram_range=(1, 2)\n"
     ]
    },
    {
     "name": "stderr",
     "output_type": "stream",
     "text": [
      "C:\\ProgramData\\Anaconda3\\lib\\site-packages\\sklearn\\neighbors\\_classification.py:228: FutureWarning: Unlike other reduction functions (e.g. `skew`, `kurtosis`), the default behavior of `mode` typically preserves the axis it acts along. In SciPy 1.11.0, this behavior will change: the default value of `keepdims` will become False, the `axis` over which the statistic is taken will be eliminated, and the value None will no longer be accepted. Set `keepdims` to True or False to avoid this warning.\n",
      "  mode, _ = stats.mode(_y[neigh_ind, k], axis=1)\n"
     ]
    },
    {
     "name": "stdout",
     "output_type": "stream",
     "text": [
      "[CV 2/5; 52/72] END clf__estimator=KNeighborsClassifier(), tfidf__use_idf=True, vect__max_df=1.0, vect__max_features=5000, vect__ngram_range=(1, 2);, score=0.203 total time=   3.1s\n",
      "[CV 3/5; 52/72] START clf__estimator=KNeighborsClassifier(), tfidf__use_idf=True, vect__max_df=1.0, vect__max_features=5000, vect__ngram_range=(1, 2)\n"
     ]
    },
    {
     "name": "stderr",
     "output_type": "stream",
     "text": [
      "C:\\ProgramData\\Anaconda3\\lib\\site-packages\\sklearn\\neighbors\\_classification.py:228: FutureWarning: Unlike other reduction functions (e.g. `skew`, `kurtosis`), the default behavior of `mode` typically preserves the axis it acts along. In SciPy 1.11.0, this behavior will change: the default value of `keepdims` will become False, the `axis` over which the statistic is taken will be eliminated, and the value None will no longer be accepted. Set `keepdims` to True or False to avoid this warning.\n",
      "  mode, _ = stats.mode(_y[neigh_ind, k], axis=1)\n"
     ]
    },
    {
     "name": "stdout",
     "output_type": "stream",
     "text": [
      "[CV 3/5; 52/72] END clf__estimator=KNeighborsClassifier(), tfidf__use_idf=True, vect__max_df=1.0, vect__max_features=5000, vect__ngram_range=(1, 2);, score=0.179 total time=   3.1s\n",
      "[CV 4/5; 52/72] START clf__estimator=KNeighborsClassifier(), tfidf__use_idf=True, vect__max_df=1.0, vect__max_features=5000, vect__ngram_range=(1, 2)\n"
     ]
    },
    {
     "name": "stderr",
     "output_type": "stream",
     "text": [
      "C:\\ProgramData\\Anaconda3\\lib\\site-packages\\sklearn\\neighbors\\_classification.py:228: FutureWarning: Unlike other reduction functions (e.g. `skew`, `kurtosis`), the default behavior of `mode` typically preserves the axis it acts along. In SciPy 1.11.0, this behavior will change: the default value of `keepdims` will become False, the `axis` over which the statistic is taken will be eliminated, and the value None will no longer be accepted. Set `keepdims` to True or False to avoid this warning.\n",
      "  mode, _ = stats.mode(_y[neigh_ind, k], axis=1)\n"
     ]
    },
    {
     "name": "stdout",
     "output_type": "stream",
     "text": [
      "[CV 4/5; 52/72] END clf__estimator=KNeighborsClassifier(), tfidf__use_idf=True, vect__max_df=1.0, vect__max_features=5000, vect__ngram_range=(1, 2);, score=0.208 total time=   3.1s\n",
      "[CV 5/5; 52/72] START clf__estimator=KNeighborsClassifier(), tfidf__use_idf=True, vect__max_df=1.0, vect__max_features=5000, vect__ngram_range=(1, 2)\n"
     ]
    },
    {
     "name": "stderr",
     "output_type": "stream",
     "text": [
      "C:\\ProgramData\\Anaconda3\\lib\\site-packages\\sklearn\\neighbors\\_classification.py:228: FutureWarning: Unlike other reduction functions (e.g. `skew`, `kurtosis`), the default behavior of `mode` typically preserves the axis it acts along. In SciPy 1.11.0, this behavior will change: the default value of `keepdims` will become False, the `axis` over which the statistic is taken will be eliminated, and the value None will no longer be accepted. Set `keepdims` to True or False to avoid this warning.\n",
      "  mode, _ = stats.mode(_y[neigh_ind, k], axis=1)\n"
     ]
    },
    {
     "name": "stdout",
     "output_type": "stream",
     "text": [
      "[CV 5/5; 52/72] END clf__estimator=KNeighborsClassifier(), tfidf__use_idf=True, vect__max_df=1.0, vect__max_features=5000, vect__ngram_range=(1, 2);, score=0.201 total time=   3.2s\n",
      "[CV 1/5; 53/72] START clf__estimator=KNeighborsClassifier(), tfidf__use_idf=True, vect__max_df=1.0, vect__max_features=10000, vect__ngram_range=(1, 1)\n"
     ]
    },
    {
     "name": "stderr",
     "output_type": "stream",
     "text": [
      "C:\\ProgramData\\Anaconda3\\lib\\site-packages\\sklearn\\neighbors\\_classification.py:228: FutureWarning: Unlike other reduction functions (e.g. `skew`, `kurtosis`), the default behavior of `mode` typically preserves the axis it acts along. In SciPy 1.11.0, this behavior will change: the default value of `keepdims` will become False, the `axis` over which the statistic is taken will be eliminated, and the value None will no longer be accepted. Set `keepdims` to True or False to avoid this warning.\n",
      "  mode, _ = stats.mode(_y[neigh_ind, k], axis=1)\n"
     ]
    },
    {
     "name": "stdout",
     "output_type": "stream",
     "text": [
      "[CV 1/5; 53/72] END clf__estimator=KNeighborsClassifier(), tfidf__use_idf=True, vect__max_df=1.0, vect__max_features=10000, vect__ngram_range=(1, 1);, score=0.203 total time=   2.9s\n",
      "[CV 2/5; 53/72] START clf__estimator=KNeighborsClassifier(), tfidf__use_idf=True, vect__max_df=1.0, vect__max_features=10000, vect__ngram_range=(1, 1)\n"
     ]
    },
    {
     "name": "stderr",
     "output_type": "stream",
     "text": [
      "C:\\ProgramData\\Anaconda3\\lib\\site-packages\\sklearn\\neighbors\\_classification.py:228: FutureWarning: Unlike other reduction functions (e.g. `skew`, `kurtosis`), the default behavior of `mode` typically preserves the axis it acts along. In SciPy 1.11.0, this behavior will change: the default value of `keepdims` will become False, the `axis` over which the statistic is taken will be eliminated, and the value None will no longer be accepted. Set `keepdims` to True or False to avoid this warning.\n",
      "  mode, _ = stats.mode(_y[neigh_ind, k], axis=1)\n"
     ]
    },
    {
     "name": "stdout",
     "output_type": "stream",
     "text": [
      "[CV 2/5; 53/72] END clf__estimator=KNeighborsClassifier(), tfidf__use_idf=True, vect__max_df=1.0, vect__max_features=10000, vect__ngram_range=(1, 1);, score=0.171 total time=   2.9s\n",
      "[CV 3/5; 53/72] START clf__estimator=KNeighborsClassifier(), tfidf__use_idf=True, vect__max_df=1.0, vect__max_features=10000, vect__ngram_range=(1, 1)\n"
     ]
    },
    {
     "name": "stderr",
     "output_type": "stream",
     "text": [
      "C:\\ProgramData\\Anaconda3\\lib\\site-packages\\sklearn\\neighbors\\_classification.py:228: FutureWarning: Unlike other reduction functions (e.g. `skew`, `kurtosis`), the default behavior of `mode` typically preserves the axis it acts along. In SciPy 1.11.0, this behavior will change: the default value of `keepdims` will become False, the `axis` over which the statistic is taken will be eliminated, and the value None will no longer be accepted. Set `keepdims` to True or False to avoid this warning.\n",
      "  mode, _ = stats.mode(_y[neigh_ind, k], axis=1)\n"
     ]
    },
    {
     "name": "stdout",
     "output_type": "stream",
     "text": [
      "[CV 3/5; 53/72] END clf__estimator=KNeighborsClassifier(), tfidf__use_idf=True, vect__max_df=1.0, vect__max_features=10000, vect__ngram_range=(1, 1);, score=0.168 total time=   2.9s\n",
      "[CV 4/5; 53/72] START clf__estimator=KNeighborsClassifier(), tfidf__use_idf=True, vect__max_df=1.0, vect__max_features=10000, vect__ngram_range=(1, 1)\n"
     ]
    },
    {
     "name": "stderr",
     "output_type": "stream",
     "text": [
      "C:\\ProgramData\\Anaconda3\\lib\\site-packages\\sklearn\\neighbors\\_classification.py:228: FutureWarning: Unlike other reduction functions (e.g. `skew`, `kurtosis`), the default behavior of `mode` typically preserves the axis it acts along. In SciPy 1.11.0, this behavior will change: the default value of `keepdims` will become False, the `axis` over which the statistic is taken will be eliminated, and the value None will no longer be accepted. Set `keepdims` to True or False to avoid this warning.\n",
      "  mode, _ = stats.mode(_y[neigh_ind, k], axis=1)\n"
     ]
    },
    {
     "name": "stdout",
     "output_type": "stream",
     "text": [
      "[CV 4/5; 53/72] END clf__estimator=KNeighborsClassifier(), tfidf__use_idf=True, vect__max_df=1.0, vect__max_features=10000, vect__ngram_range=(1, 1);, score=0.169 total time=   3.0s\n",
      "[CV 5/5; 53/72] START clf__estimator=KNeighborsClassifier(), tfidf__use_idf=True, vect__max_df=1.0, vect__max_features=10000, vect__ngram_range=(1, 1)\n"
     ]
    },
    {
     "name": "stderr",
     "output_type": "stream",
     "text": [
      "C:\\ProgramData\\Anaconda3\\lib\\site-packages\\sklearn\\neighbors\\_classification.py:228: FutureWarning: Unlike other reduction functions (e.g. `skew`, `kurtosis`), the default behavior of `mode` typically preserves the axis it acts along. In SciPy 1.11.0, this behavior will change: the default value of `keepdims` will become False, the `axis` over which the statistic is taken will be eliminated, and the value None will no longer be accepted. Set `keepdims` to True or False to avoid this warning.\n",
      "  mode, _ = stats.mode(_y[neigh_ind, k], axis=1)\n"
     ]
    },
    {
     "name": "stdout",
     "output_type": "stream",
     "text": [
      "[CV 5/5; 53/72] END clf__estimator=KNeighborsClassifier(), tfidf__use_idf=True, vect__max_df=1.0, vect__max_features=10000, vect__ngram_range=(1, 1);, score=0.180 total time=   3.0s\n",
      "[CV 1/5; 54/72] START clf__estimator=KNeighborsClassifier(), tfidf__use_idf=True, vect__max_df=1.0, vect__max_features=10000, vect__ngram_range=(1, 2)\n"
     ]
    },
    {
     "name": "stderr",
     "output_type": "stream",
     "text": [
      "C:\\ProgramData\\Anaconda3\\lib\\site-packages\\sklearn\\neighbors\\_classification.py:228: FutureWarning: Unlike other reduction functions (e.g. `skew`, `kurtosis`), the default behavior of `mode` typically preserves the axis it acts along. In SciPy 1.11.0, this behavior will change: the default value of `keepdims` will become False, the `axis` over which the statistic is taken will be eliminated, and the value None will no longer be accepted. Set `keepdims` to True or False to avoid this warning.\n",
      "  mode, _ = stats.mode(_y[neigh_ind, k], axis=1)\n"
     ]
    },
    {
     "name": "stdout",
     "output_type": "stream",
     "text": [
      "[CV 1/5; 54/72] END clf__estimator=KNeighborsClassifier(), tfidf__use_idf=True, vect__max_df=1.0, vect__max_features=10000, vect__ngram_range=(1, 2);, score=0.216 total time=   3.1s\n",
      "[CV 2/5; 54/72] START clf__estimator=KNeighborsClassifier(), tfidf__use_idf=True, vect__max_df=1.0, vect__max_features=10000, vect__ngram_range=(1, 2)\n"
     ]
    },
    {
     "name": "stderr",
     "output_type": "stream",
     "text": [
      "C:\\ProgramData\\Anaconda3\\lib\\site-packages\\sklearn\\neighbors\\_classification.py:228: FutureWarning: Unlike other reduction functions (e.g. `skew`, `kurtosis`), the default behavior of `mode` typically preserves the axis it acts along. In SciPy 1.11.0, this behavior will change: the default value of `keepdims` will become False, the `axis` over which the statistic is taken will be eliminated, and the value None will no longer be accepted. Set `keepdims` to True or False to avoid this warning.\n",
      "  mode, _ = stats.mode(_y[neigh_ind, k], axis=1)\n"
     ]
    },
    {
     "name": "stdout",
     "output_type": "stream",
     "text": [
      "[CV 2/5; 54/72] END clf__estimator=KNeighborsClassifier(), tfidf__use_idf=True, vect__max_df=1.0, vect__max_features=10000, vect__ngram_range=(1, 2);, score=0.199 total time=   3.1s\n",
      "[CV 3/5; 54/72] START clf__estimator=KNeighborsClassifier(), tfidf__use_idf=True, vect__max_df=1.0, vect__max_features=10000, vect__ngram_range=(1, 2)\n"
     ]
    },
    {
     "name": "stderr",
     "output_type": "stream",
     "text": [
      "C:\\ProgramData\\Anaconda3\\lib\\site-packages\\sklearn\\neighbors\\_classification.py:228: FutureWarning: Unlike other reduction functions (e.g. `skew`, `kurtosis`), the default behavior of `mode` typically preserves the axis it acts along. In SciPy 1.11.0, this behavior will change: the default value of `keepdims` will become False, the `axis` over which the statistic is taken will be eliminated, and the value None will no longer be accepted. Set `keepdims` to True or False to avoid this warning.\n",
      "  mode, _ = stats.mode(_y[neigh_ind, k], axis=1)\n"
     ]
    },
    {
     "name": "stdout",
     "output_type": "stream",
     "text": [
      "[CV 3/5; 54/72] END clf__estimator=KNeighborsClassifier(), tfidf__use_idf=True, vect__max_df=1.0, vect__max_features=10000, vect__ngram_range=(1, 2);, score=0.168 total time=   3.2s\n",
      "[CV 4/5; 54/72] START clf__estimator=KNeighborsClassifier(), tfidf__use_idf=True, vect__max_df=1.0, vect__max_features=10000, vect__ngram_range=(1, 2)\n"
     ]
    },
    {
     "name": "stderr",
     "output_type": "stream",
     "text": [
      "C:\\ProgramData\\Anaconda3\\lib\\site-packages\\sklearn\\neighbors\\_classification.py:228: FutureWarning: Unlike other reduction functions (e.g. `skew`, `kurtosis`), the default behavior of `mode` typically preserves the axis it acts along. In SciPy 1.11.0, this behavior will change: the default value of `keepdims` will become False, the `axis` over which the statistic is taken will be eliminated, and the value None will no longer be accepted. Set `keepdims` to True or False to avoid this warning.\n",
      "  mode, _ = stats.mode(_y[neigh_ind, k], axis=1)\n"
     ]
    },
    {
     "name": "stdout",
     "output_type": "stream",
     "text": [
      "[CV 4/5; 54/72] END clf__estimator=KNeighborsClassifier(), tfidf__use_idf=True, vect__max_df=1.0, vect__max_features=10000, vect__ngram_range=(1, 2);, score=0.180 total time=   3.2s\n",
      "[CV 5/5; 54/72] START clf__estimator=KNeighborsClassifier(), tfidf__use_idf=True, vect__max_df=1.0, vect__max_features=10000, vect__ngram_range=(1, 2)\n"
     ]
    },
    {
     "name": "stderr",
     "output_type": "stream",
     "text": [
      "C:\\ProgramData\\Anaconda3\\lib\\site-packages\\sklearn\\neighbors\\_classification.py:228: FutureWarning: Unlike other reduction functions (e.g. `skew`, `kurtosis`), the default behavior of `mode` typically preserves the axis it acts along. In SciPy 1.11.0, this behavior will change: the default value of `keepdims` will become False, the `axis` over which the statistic is taken will be eliminated, and the value None will no longer be accepted. Set `keepdims` to True or False to avoid this warning.\n",
      "  mode, _ = stats.mode(_y[neigh_ind, k], axis=1)\n"
     ]
    },
    {
     "name": "stdout",
     "output_type": "stream",
     "text": [
      "[CV 5/5; 54/72] END clf__estimator=KNeighborsClassifier(), tfidf__use_idf=True, vect__max_df=1.0, vect__max_features=10000, vect__ngram_range=(1, 2);, score=0.191 total time=   3.3s\n",
      "[CV 1/5; 55/72] START clf__estimator=KNeighborsClassifier(), tfidf__use_idf=False, vect__max_df=0.5, vect__max_features=None, vect__ngram_range=(1, 1)\n"
     ]
    },
    {
     "name": "stderr",
     "output_type": "stream",
     "text": [
      "C:\\ProgramData\\Anaconda3\\lib\\site-packages\\sklearn\\neighbors\\_classification.py:228: FutureWarning: Unlike other reduction functions (e.g. `skew`, `kurtosis`), the default behavior of `mode` typically preserves the axis it acts along. In SciPy 1.11.0, this behavior will change: the default value of `keepdims` will become False, the `axis` over which the statistic is taken will be eliminated, and the value None will no longer be accepted. Set `keepdims` to True or False to avoid this warning.\n",
      "  mode, _ = stats.mode(_y[neigh_ind, k], axis=1)\n"
     ]
    },
    {
     "name": "stdout",
     "output_type": "stream",
     "text": [
      "[CV 1/5; 55/72] END clf__estimator=KNeighborsClassifier(), tfidf__use_idf=False, vect__max_df=0.5, vect__max_features=None, vect__ngram_range=(1, 1);, score=0.175 total time=   2.7s\n",
      "[CV 2/5; 55/72] START clf__estimator=KNeighborsClassifier(), tfidf__use_idf=False, vect__max_df=0.5, vect__max_features=None, vect__ngram_range=(1, 1)\n"
     ]
    },
    {
     "name": "stderr",
     "output_type": "stream",
     "text": [
      "C:\\ProgramData\\Anaconda3\\lib\\site-packages\\sklearn\\neighbors\\_classification.py:228: FutureWarning: Unlike other reduction functions (e.g. `skew`, `kurtosis`), the default behavior of `mode` typically preserves the axis it acts along. In SciPy 1.11.0, this behavior will change: the default value of `keepdims` will become False, the `axis` over which the statistic is taken will be eliminated, and the value None will no longer be accepted. Set `keepdims` to True or False to avoid this warning.\n",
      "  mode, _ = stats.mode(_y[neigh_ind, k], axis=1)\n"
     ]
    },
    {
     "name": "stdout",
     "output_type": "stream",
     "text": [
      "[CV 2/5; 55/72] END clf__estimator=KNeighborsClassifier(), tfidf__use_idf=False, vect__max_df=0.5, vect__max_features=None, vect__ngram_range=(1, 1);, score=0.164 total time=   2.7s\n",
      "[CV 3/5; 55/72] START clf__estimator=KNeighborsClassifier(), tfidf__use_idf=False, vect__max_df=0.5, vect__max_features=None, vect__ngram_range=(1, 1)\n"
     ]
    },
    {
     "name": "stderr",
     "output_type": "stream",
     "text": [
      "C:\\ProgramData\\Anaconda3\\lib\\site-packages\\sklearn\\neighbors\\_classification.py:228: FutureWarning: Unlike other reduction functions (e.g. `skew`, `kurtosis`), the default behavior of `mode` typically preserves the axis it acts along. In SciPy 1.11.0, this behavior will change: the default value of `keepdims` will become False, the `axis` over which the statistic is taken will be eliminated, and the value None will no longer be accepted. Set `keepdims` to True or False to avoid this warning.\n",
      "  mode, _ = stats.mode(_y[neigh_ind, k], axis=1)\n"
     ]
    },
    {
     "name": "stdout",
     "output_type": "stream",
     "text": [
      "[CV 3/5; 55/72] END clf__estimator=KNeighborsClassifier(), tfidf__use_idf=False, vect__max_df=0.5, vect__max_features=None, vect__ngram_range=(1, 1);, score=0.152 total time=   2.7s\n",
      "[CV 4/5; 55/72] START clf__estimator=KNeighborsClassifier(), tfidf__use_idf=False, vect__max_df=0.5, vect__max_features=None, vect__ngram_range=(1, 1)\n"
     ]
    },
    {
     "name": "stderr",
     "output_type": "stream",
     "text": [
      "C:\\ProgramData\\Anaconda3\\lib\\site-packages\\sklearn\\neighbors\\_classification.py:228: FutureWarning: Unlike other reduction functions (e.g. `skew`, `kurtosis`), the default behavior of `mode` typically preserves the axis it acts along. In SciPy 1.11.0, this behavior will change: the default value of `keepdims` will become False, the `axis` over which the statistic is taken will be eliminated, and the value None will no longer be accepted. Set `keepdims` to True or False to avoid this warning.\n",
      "  mode, _ = stats.mode(_y[neigh_ind, k], axis=1)\n"
     ]
    },
    {
     "name": "stdout",
     "output_type": "stream",
     "text": [
      "[CV 4/5; 55/72] END clf__estimator=KNeighborsClassifier(), tfidf__use_idf=False, vect__max_df=0.5, vect__max_features=None, vect__ngram_range=(1, 1);, score=0.171 total time=   2.7s\n",
      "[CV 5/5; 55/72] START clf__estimator=KNeighborsClassifier(), tfidf__use_idf=False, vect__max_df=0.5, vect__max_features=None, vect__ngram_range=(1, 1)\n"
     ]
    },
    {
     "name": "stderr",
     "output_type": "stream",
     "text": [
      "C:\\ProgramData\\Anaconda3\\lib\\site-packages\\sklearn\\neighbors\\_classification.py:228: FutureWarning: Unlike other reduction functions (e.g. `skew`, `kurtosis`), the default behavior of `mode` typically preserves the axis it acts along. In SciPy 1.11.0, this behavior will change: the default value of `keepdims` will become False, the `axis` over which the statistic is taken will be eliminated, and the value None will no longer be accepted. Set `keepdims` to True or False to avoid this warning.\n",
      "  mode, _ = stats.mode(_y[neigh_ind, k], axis=1)\n"
     ]
    },
    {
     "name": "stdout",
     "output_type": "stream",
     "text": [
      "[CV 5/5; 55/72] END clf__estimator=KNeighborsClassifier(), tfidf__use_idf=False, vect__max_df=0.5, vect__max_features=None, vect__ngram_range=(1, 1);, score=0.180 total time=   2.7s\n",
      "[CV 1/5; 56/72] START clf__estimator=KNeighborsClassifier(), tfidf__use_idf=False, vect__max_df=0.5, vect__max_features=None, vect__ngram_range=(1, 2)\n"
     ]
    },
    {
     "name": "stderr",
     "output_type": "stream",
     "text": [
      "C:\\ProgramData\\Anaconda3\\lib\\site-packages\\sklearn\\neighbors\\_classification.py:228: FutureWarning: Unlike other reduction functions (e.g. `skew`, `kurtosis`), the default behavior of `mode` typically preserves the axis it acts along. In SciPy 1.11.0, this behavior will change: the default value of `keepdims` will become False, the `axis` over which the statistic is taken will be eliminated, and the value None will no longer be accepted. Set `keepdims` to True or False to avoid this warning.\n",
      "  mode, _ = stats.mode(_y[neigh_ind, k], axis=1)\n"
     ]
    },
    {
     "name": "stdout",
     "output_type": "stream",
     "text": [
      "[CV 1/5; 56/72] END clf__estimator=KNeighborsClassifier(), tfidf__use_idf=False, vect__max_df=0.5, vect__max_features=None, vect__ngram_range=(1, 2);, score=0.164 total time=   2.9s\n",
      "[CV 2/5; 56/72] START clf__estimator=KNeighborsClassifier(), tfidf__use_idf=False, vect__max_df=0.5, vect__max_features=None, vect__ngram_range=(1, 2)\n"
     ]
    },
    {
     "name": "stderr",
     "output_type": "stream",
     "text": [
      "C:\\ProgramData\\Anaconda3\\lib\\site-packages\\sklearn\\neighbors\\_classification.py:228: FutureWarning: Unlike other reduction functions (e.g. `skew`, `kurtosis`), the default behavior of `mode` typically preserves the axis it acts along. In SciPy 1.11.0, this behavior will change: the default value of `keepdims` will become False, the `axis` over which the statistic is taken will be eliminated, and the value None will no longer be accepted. Set `keepdims` to True or False to avoid this warning.\n",
      "  mode, _ = stats.mode(_y[neigh_ind, k], axis=1)\n"
     ]
    },
    {
     "name": "stdout",
     "output_type": "stream",
     "text": [
      "[CV 2/5; 56/72] END clf__estimator=KNeighborsClassifier(), tfidf__use_idf=False, vect__max_df=0.5, vect__max_features=None, vect__ngram_range=(1, 2);, score=0.155 total time=   2.8s\n",
      "[CV 3/5; 56/72] START clf__estimator=KNeighborsClassifier(), tfidf__use_idf=False, vect__max_df=0.5, vect__max_features=None, vect__ngram_range=(1, 2)\n"
     ]
    },
    {
     "name": "stderr",
     "output_type": "stream",
     "text": [
      "C:\\ProgramData\\Anaconda3\\lib\\site-packages\\sklearn\\neighbors\\_classification.py:228: FutureWarning: Unlike other reduction functions (e.g. `skew`, `kurtosis`), the default behavior of `mode` typically preserves the axis it acts along. In SciPy 1.11.0, this behavior will change: the default value of `keepdims` will become False, the `axis` over which the statistic is taken will be eliminated, and the value None will no longer be accepted. Set `keepdims` to True or False to avoid this warning.\n",
      "  mode, _ = stats.mode(_y[neigh_ind, k], axis=1)\n"
     ]
    },
    {
     "name": "stdout",
     "output_type": "stream",
     "text": [
      "[CV 3/5; 56/72] END clf__estimator=KNeighborsClassifier(), tfidf__use_idf=False, vect__max_df=0.5, vect__max_features=None, vect__ngram_range=(1, 2);, score=0.121 total time=   2.8s\n",
      "[CV 4/5; 56/72] START clf__estimator=KNeighborsClassifier(), tfidf__use_idf=False, vect__max_df=0.5, vect__max_features=None, vect__ngram_range=(1, 2)\n"
     ]
    },
    {
     "name": "stderr",
     "output_type": "stream",
     "text": [
      "C:\\ProgramData\\Anaconda3\\lib\\site-packages\\sklearn\\neighbors\\_classification.py:228: FutureWarning: Unlike other reduction functions (e.g. `skew`, `kurtosis`), the default behavior of `mode` typically preserves the axis it acts along. In SciPy 1.11.0, this behavior will change: the default value of `keepdims` will become False, the `axis` over which the statistic is taken will be eliminated, and the value None will no longer be accepted. Set `keepdims` to True or False to avoid this warning.\n",
      "  mode, _ = stats.mode(_y[neigh_ind, k], axis=1)\n"
     ]
    },
    {
     "name": "stdout",
     "output_type": "stream",
     "text": [
      "[CV 4/5; 56/72] END clf__estimator=KNeighborsClassifier(), tfidf__use_idf=False, vect__max_df=0.5, vect__max_features=None, vect__ngram_range=(1, 2);, score=0.145 total time=   2.8s\n",
      "[CV 5/5; 56/72] START clf__estimator=KNeighborsClassifier(), tfidf__use_idf=False, vect__max_df=0.5, vect__max_features=None, vect__ngram_range=(1, 2)\n"
     ]
    },
    {
     "name": "stderr",
     "output_type": "stream",
     "text": [
      "C:\\ProgramData\\Anaconda3\\lib\\site-packages\\sklearn\\neighbors\\_classification.py:228: FutureWarning: Unlike other reduction functions (e.g. `skew`, `kurtosis`), the default behavior of `mode` typically preserves the axis it acts along. In SciPy 1.11.0, this behavior will change: the default value of `keepdims` will become False, the `axis` over which the statistic is taken will be eliminated, and the value None will no longer be accepted. Set `keepdims` to True or False to avoid this warning.\n",
      "  mode, _ = stats.mode(_y[neigh_ind, k], axis=1)\n"
     ]
    },
    {
     "name": "stdout",
     "output_type": "stream",
     "text": [
      "[CV 5/5; 56/72] END clf__estimator=KNeighborsClassifier(), tfidf__use_idf=False, vect__max_df=0.5, vect__max_features=None, vect__ngram_range=(1, 2);, score=0.172 total time=   2.9s\n",
      "[CV 1/5; 57/72] START clf__estimator=KNeighborsClassifier(), tfidf__use_idf=False, vect__max_df=0.5, vect__max_features=5000, vect__ngram_range=(1, 1)\n"
     ]
    },
    {
     "name": "stderr",
     "output_type": "stream",
     "text": [
      "C:\\ProgramData\\Anaconda3\\lib\\site-packages\\sklearn\\neighbors\\_classification.py:228: FutureWarning: Unlike other reduction functions (e.g. `skew`, `kurtosis`), the default behavior of `mode` typically preserves the axis it acts along. In SciPy 1.11.0, this behavior will change: the default value of `keepdims` will become False, the `axis` over which the statistic is taken will be eliminated, and the value None will no longer be accepted. Set `keepdims` to True or False to avoid this warning.\n",
      "  mode, _ = stats.mode(_y[neigh_ind, k], axis=1)\n"
     ]
    },
    {
     "name": "stdout",
     "output_type": "stream",
     "text": [
      "[CV 1/5; 57/72] END clf__estimator=KNeighborsClassifier(), tfidf__use_idf=False, vect__max_df=0.5, vect__max_features=5000, vect__ngram_range=(1, 1);, score=0.184 total time=   2.8s\n",
      "[CV 2/5; 57/72] START clf__estimator=KNeighborsClassifier(), tfidf__use_idf=False, vect__max_df=0.5, vect__max_features=5000, vect__ngram_range=(1, 1)\n"
     ]
    },
    {
     "name": "stderr",
     "output_type": "stream",
     "text": [
      "C:\\ProgramData\\Anaconda3\\lib\\site-packages\\sklearn\\neighbors\\_classification.py:228: FutureWarning: Unlike other reduction functions (e.g. `skew`, `kurtosis`), the default behavior of `mode` typically preserves the axis it acts along. In SciPy 1.11.0, this behavior will change: the default value of `keepdims` will become False, the `axis` over which the statistic is taken will be eliminated, and the value None will no longer be accepted. Set `keepdims` to True or False to avoid this warning.\n",
      "  mode, _ = stats.mode(_y[neigh_ind, k], axis=1)\n"
     ]
    },
    {
     "name": "stdout",
     "output_type": "stream",
     "text": [
      "[CV 2/5; 57/72] END clf__estimator=KNeighborsClassifier(), tfidf__use_idf=False, vect__max_df=0.5, vect__max_features=5000, vect__ngram_range=(1, 1);, score=0.172 total time=   2.6s\n",
      "[CV 3/5; 57/72] START clf__estimator=KNeighborsClassifier(), tfidf__use_idf=False, vect__max_df=0.5, vect__max_features=5000, vect__ngram_range=(1, 1)\n"
     ]
    },
    {
     "name": "stderr",
     "output_type": "stream",
     "text": [
      "C:\\ProgramData\\Anaconda3\\lib\\site-packages\\sklearn\\neighbors\\_classification.py:228: FutureWarning: Unlike other reduction functions (e.g. `skew`, `kurtosis`), the default behavior of `mode` typically preserves the axis it acts along. In SciPy 1.11.0, this behavior will change: the default value of `keepdims` will become False, the `axis` over which the statistic is taken will be eliminated, and the value None will no longer be accepted. Set `keepdims` to True or False to avoid this warning.\n",
      "  mode, _ = stats.mode(_y[neigh_ind, k], axis=1)\n"
     ]
    },
    {
     "name": "stdout",
     "output_type": "stream",
     "text": [
      "[CV 3/5; 57/72] END clf__estimator=KNeighborsClassifier(), tfidf__use_idf=False, vect__max_df=0.5, vect__max_features=5000, vect__ngram_range=(1, 1);, score=0.144 total time=   2.7s\n",
      "[CV 4/5; 57/72] START clf__estimator=KNeighborsClassifier(), tfidf__use_idf=False, vect__max_df=0.5, vect__max_features=5000, vect__ngram_range=(1, 1)\n"
     ]
    },
    {
     "name": "stderr",
     "output_type": "stream",
     "text": [
      "C:\\ProgramData\\Anaconda3\\lib\\site-packages\\sklearn\\neighbors\\_classification.py:228: FutureWarning: Unlike other reduction functions (e.g. `skew`, `kurtosis`), the default behavior of `mode` typically preserves the axis it acts along. In SciPy 1.11.0, this behavior will change: the default value of `keepdims` will become False, the `axis` over which the statistic is taken will be eliminated, and the value None will no longer be accepted. Set `keepdims` to True or False to avoid this warning.\n",
      "  mode, _ = stats.mode(_y[neigh_ind, k], axis=1)\n"
     ]
    },
    {
     "name": "stdout",
     "output_type": "stream",
     "text": [
      "[CV 4/5; 57/72] END clf__estimator=KNeighborsClassifier(), tfidf__use_idf=False, vect__max_df=0.5, vect__max_features=5000, vect__ngram_range=(1, 1);, score=0.176 total time=   2.7s\n",
      "[CV 5/5; 57/72] START clf__estimator=KNeighborsClassifier(), tfidf__use_idf=False, vect__max_df=0.5, vect__max_features=5000, vect__ngram_range=(1, 1)\n"
     ]
    },
    {
     "name": "stderr",
     "output_type": "stream",
     "text": [
      "C:\\ProgramData\\Anaconda3\\lib\\site-packages\\sklearn\\neighbors\\_classification.py:228: FutureWarning: Unlike other reduction functions (e.g. `skew`, `kurtosis`), the default behavior of `mode` typically preserves the axis it acts along. In SciPy 1.11.0, this behavior will change: the default value of `keepdims` will become False, the `axis` over which the statistic is taken will be eliminated, and the value None will no longer be accepted. Set `keepdims` to True or False to avoid this warning.\n",
      "  mode, _ = stats.mode(_y[neigh_ind, k], axis=1)\n"
     ]
    },
    {
     "name": "stdout",
     "output_type": "stream",
     "text": [
      "[CV 5/5; 57/72] END clf__estimator=KNeighborsClassifier(), tfidf__use_idf=False, vect__max_df=0.5, vect__max_features=5000, vect__ngram_range=(1, 1);, score=0.197 total time=   2.6s\n",
      "[CV 1/5; 58/72] START clf__estimator=KNeighborsClassifier(), tfidf__use_idf=False, vect__max_df=0.5, vect__max_features=5000, vect__ngram_range=(1, 2)\n"
     ]
    },
    {
     "name": "stderr",
     "output_type": "stream",
     "text": [
      "C:\\ProgramData\\Anaconda3\\lib\\site-packages\\sklearn\\neighbors\\_classification.py:228: FutureWarning: Unlike other reduction functions (e.g. `skew`, `kurtosis`), the default behavior of `mode` typically preserves the axis it acts along. In SciPy 1.11.0, this behavior will change: the default value of `keepdims` will become False, the `axis` over which the statistic is taken will be eliminated, and the value None will no longer be accepted. Set `keepdims` to True or False to avoid this warning.\n",
      "  mode, _ = stats.mode(_y[neigh_ind, k], axis=1)\n"
     ]
    },
    {
     "name": "stdout",
     "output_type": "stream",
     "text": [
      "[CV 1/5; 58/72] END clf__estimator=KNeighborsClassifier(), tfidf__use_idf=False, vect__max_df=0.5, vect__max_features=5000, vect__ngram_range=(1, 2);, score=0.211 total time=   2.8s\n",
      "[CV 2/5; 58/72] START clf__estimator=KNeighborsClassifier(), tfidf__use_idf=False, vect__max_df=0.5, vect__max_features=5000, vect__ngram_range=(1, 2)\n"
     ]
    },
    {
     "name": "stderr",
     "output_type": "stream",
     "text": [
      "C:\\ProgramData\\Anaconda3\\lib\\site-packages\\sklearn\\neighbors\\_classification.py:228: FutureWarning: Unlike other reduction functions (e.g. `skew`, `kurtosis`), the default behavior of `mode` typically preserves the axis it acts along. In SciPy 1.11.0, this behavior will change: the default value of `keepdims` will become False, the `axis` over which the statistic is taken will be eliminated, and the value None will no longer be accepted. Set `keepdims` to True or False to avoid this warning.\n",
      "  mode, _ = stats.mode(_y[neigh_ind, k], axis=1)\n"
     ]
    },
    {
     "name": "stdout",
     "output_type": "stream",
     "text": [
      "[CV 2/5; 58/72] END clf__estimator=KNeighborsClassifier(), tfidf__use_idf=False, vect__max_df=0.5, vect__max_features=5000, vect__ngram_range=(1, 2);, score=0.192 total time=   2.8s\n",
      "[CV 3/5; 58/72] START clf__estimator=KNeighborsClassifier(), tfidf__use_idf=False, vect__max_df=0.5, vect__max_features=5000, vect__ngram_range=(1, 2)\n"
     ]
    },
    {
     "name": "stderr",
     "output_type": "stream",
     "text": [
      "C:\\ProgramData\\Anaconda3\\lib\\site-packages\\sklearn\\neighbors\\_classification.py:228: FutureWarning: Unlike other reduction functions (e.g. `skew`, `kurtosis`), the default behavior of `mode` typically preserves the axis it acts along. In SciPy 1.11.0, this behavior will change: the default value of `keepdims` will become False, the `axis` over which the statistic is taken will be eliminated, and the value None will no longer be accepted. Set `keepdims` to True or False to avoid this warning.\n",
      "  mode, _ = stats.mode(_y[neigh_ind, k], axis=1)\n"
     ]
    },
    {
     "name": "stdout",
     "output_type": "stream",
     "text": [
      "[CV 3/5; 58/72] END clf__estimator=KNeighborsClassifier(), tfidf__use_idf=False, vect__max_df=0.5, vect__max_features=5000, vect__ngram_range=(1, 2);, score=0.168 total time=   2.8s\n",
      "[CV 4/5; 58/72] START clf__estimator=KNeighborsClassifier(), tfidf__use_idf=False, vect__max_df=0.5, vect__max_features=5000, vect__ngram_range=(1, 2)\n"
     ]
    },
    {
     "name": "stderr",
     "output_type": "stream",
     "text": [
      "C:\\ProgramData\\Anaconda3\\lib\\site-packages\\sklearn\\neighbors\\_classification.py:228: FutureWarning: Unlike other reduction functions (e.g. `skew`, `kurtosis`), the default behavior of `mode` typically preserves the axis it acts along. In SciPy 1.11.0, this behavior will change: the default value of `keepdims` will become False, the `axis` over which the statistic is taken will be eliminated, and the value None will no longer be accepted. Set `keepdims` to True or False to avoid this warning.\n",
      "  mode, _ = stats.mode(_y[neigh_ind, k], axis=1)\n"
     ]
    },
    {
     "name": "stdout",
     "output_type": "stream",
     "text": [
      "[CV 4/5; 58/72] END clf__estimator=KNeighborsClassifier(), tfidf__use_idf=False, vect__max_df=0.5, vect__max_features=5000, vect__ngram_range=(1, 2);, score=0.191 total time=   2.8s\n",
      "[CV 5/5; 58/72] START clf__estimator=KNeighborsClassifier(), tfidf__use_idf=False, vect__max_df=0.5, vect__max_features=5000, vect__ngram_range=(1, 2)\n"
     ]
    },
    {
     "name": "stderr",
     "output_type": "stream",
     "text": [
      "C:\\ProgramData\\Anaconda3\\lib\\site-packages\\sklearn\\neighbors\\_classification.py:228: FutureWarning: Unlike other reduction functions (e.g. `skew`, `kurtosis`), the default behavior of `mode` typically preserves the axis it acts along. In SciPy 1.11.0, this behavior will change: the default value of `keepdims` will become False, the `axis` over which the statistic is taken will be eliminated, and the value None will no longer be accepted. Set `keepdims` to True or False to avoid this warning.\n",
      "  mode, _ = stats.mode(_y[neigh_ind, k], axis=1)\n"
     ]
    },
    {
     "name": "stdout",
     "output_type": "stream",
     "text": [
      "[CV 5/5; 58/72] END clf__estimator=KNeighborsClassifier(), tfidf__use_idf=False, vect__max_df=0.5, vect__max_features=5000, vect__ngram_range=(1, 2);, score=0.191 total time=   2.7s\n",
      "[CV 1/5; 59/72] START clf__estimator=KNeighborsClassifier(), tfidf__use_idf=False, vect__max_df=0.5, vect__max_features=10000, vect__ngram_range=(1, 1)\n"
     ]
    },
    {
     "name": "stderr",
     "output_type": "stream",
     "text": [
      "C:\\ProgramData\\Anaconda3\\lib\\site-packages\\sklearn\\neighbors\\_classification.py:228: FutureWarning: Unlike other reduction functions (e.g. `skew`, `kurtosis`), the default behavior of `mode` typically preserves the axis it acts along. In SciPy 1.11.0, this behavior will change: the default value of `keepdims` will become False, the `axis` over which the statistic is taken will be eliminated, and the value None will no longer be accepted. Set `keepdims` to True or False to avoid this warning.\n",
      "  mode, _ = stats.mode(_y[neigh_ind, k], axis=1)\n"
     ]
    },
    {
     "name": "stdout",
     "output_type": "stream",
     "text": [
      "[CV 1/5; 59/72] END clf__estimator=KNeighborsClassifier(), tfidf__use_idf=False, vect__max_df=0.5, vect__max_features=10000, vect__ngram_range=(1, 1);, score=0.173 total time=   2.6s\n",
      "[CV 2/5; 59/72] START clf__estimator=KNeighborsClassifier(), tfidf__use_idf=False, vect__max_df=0.5, vect__max_features=10000, vect__ngram_range=(1, 1)\n"
     ]
    },
    {
     "name": "stderr",
     "output_type": "stream",
     "text": [
      "C:\\ProgramData\\Anaconda3\\lib\\site-packages\\sklearn\\neighbors\\_classification.py:228: FutureWarning: Unlike other reduction functions (e.g. `skew`, `kurtosis`), the default behavior of `mode` typically preserves the axis it acts along. In SciPy 1.11.0, this behavior will change: the default value of `keepdims` will become False, the `axis` over which the statistic is taken will be eliminated, and the value None will no longer be accepted. Set `keepdims` to True or False to avoid this warning.\n",
      "  mode, _ = stats.mode(_y[neigh_ind, k], axis=1)\n"
     ]
    },
    {
     "name": "stdout",
     "output_type": "stream",
     "text": [
      "[CV 2/5; 59/72] END clf__estimator=KNeighborsClassifier(), tfidf__use_idf=False, vect__max_df=0.5, vect__max_features=10000, vect__ngram_range=(1, 1);, score=0.160 total time=   2.7s\n",
      "[CV 3/5; 59/72] START clf__estimator=KNeighborsClassifier(), tfidf__use_idf=False, vect__max_df=0.5, vect__max_features=10000, vect__ngram_range=(1, 1)\n"
     ]
    },
    {
     "name": "stderr",
     "output_type": "stream",
     "text": [
      "C:\\ProgramData\\Anaconda3\\lib\\site-packages\\sklearn\\neighbors\\_classification.py:228: FutureWarning: Unlike other reduction functions (e.g. `skew`, `kurtosis`), the default behavior of `mode` typically preserves the axis it acts along. In SciPy 1.11.0, this behavior will change: the default value of `keepdims` will become False, the `axis` over which the statistic is taken will be eliminated, and the value None will no longer be accepted. Set `keepdims` to True or False to avoid this warning.\n",
      "  mode, _ = stats.mode(_y[neigh_ind, k], axis=1)\n"
     ]
    },
    {
     "name": "stdout",
     "output_type": "stream",
     "text": [
      "[CV 3/5; 59/72] END clf__estimator=KNeighborsClassifier(), tfidf__use_idf=False, vect__max_df=0.5, vect__max_features=10000, vect__ngram_range=(1, 1);, score=0.148 total time=   2.8s\n",
      "[CV 4/5; 59/72] START clf__estimator=KNeighborsClassifier(), tfidf__use_idf=False, vect__max_df=0.5, vect__max_features=10000, vect__ngram_range=(1, 1)\n"
     ]
    },
    {
     "name": "stderr",
     "output_type": "stream",
     "text": [
      "C:\\ProgramData\\Anaconda3\\lib\\site-packages\\sklearn\\neighbors\\_classification.py:228: FutureWarning: Unlike other reduction functions (e.g. `skew`, `kurtosis`), the default behavior of `mode` typically preserves the axis it acts along. In SciPy 1.11.0, this behavior will change: the default value of `keepdims` will become False, the `axis` over which the statistic is taken will be eliminated, and the value None will no longer be accepted. Set `keepdims` to True or False to avoid this warning.\n",
      "  mode, _ = stats.mode(_y[neigh_ind, k], axis=1)\n"
     ]
    },
    {
     "name": "stdout",
     "output_type": "stream",
     "text": [
      "[CV 4/5; 59/72] END clf__estimator=KNeighborsClassifier(), tfidf__use_idf=False, vect__max_df=0.5, vect__max_features=10000, vect__ngram_range=(1, 1);, score=0.171 total time=   2.6s\n",
      "[CV 5/5; 59/72] START clf__estimator=KNeighborsClassifier(), tfidf__use_idf=False, vect__max_df=0.5, vect__max_features=10000, vect__ngram_range=(1, 1)\n"
     ]
    },
    {
     "name": "stderr",
     "output_type": "stream",
     "text": [
      "C:\\ProgramData\\Anaconda3\\lib\\site-packages\\sklearn\\neighbors\\_classification.py:228: FutureWarning: Unlike other reduction functions (e.g. `skew`, `kurtosis`), the default behavior of `mode` typically preserves the axis it acts along. In SciPy 1.11.0, this behavior will change: the default value of `keepdims` will become False, the `axis` over which the statistic is taken will be eliminated, and the value None will no longer be accepted. Set `keepdims` to True or False to avoid this warning.\n",
      "  mode, _ = stats.mode(_y[neigh_ind, k], axis=1)\n"
     ]
    },
    {
     "name": "stdout",
     "output_type": "stream",
     "text": [
      "[CV 5/5; 59/72] END clf__estimator=KNeighborsClassifier(), tfidf__use_idf=False, vect__max_df=0.5, vect__max_features=10000, vect__ngram_range=(1, 1);, score=0.181 total time=   2.6s\n",
      "[CV 1/5; 60/72] START clf__estimator=KNeighborsClassifier(), tfidf__use_idf=False, vect__max_df=0.5, vect__max_features=10000, vect__ngram_range=(1, 2)\n"
     ]
    },
    {
     "name": "stderr",
     "output_type": "stream",
     "text": [
      "C:\\ProgramData\\Anaconda3\\lib\\site-packages\\sklearn\\neighbors\\_classification.py:228: FutureWarning: Unlike other reduction functions (e.g. `skew`, `kurtosis`), the default behavior of `mode` typically preserves the axis it acts along. In SciPy 1.11.0, this behavior will change: the default value of `keepdims` will become False, the `axis` over which the statistic is taken will be eliminated, and the value None will no longer be accepted. Set `keepdims` to True or False to avoid this warning.\n",
      "  mode, _ = stats.mode(_y[neigh_ind, k], axis=1)\n"
     ]
    },
    {
     "name": "stdout",
     "output_type": "stream",
     "text": [
      "[CV 1/5; 60/72] END clf__estimator=KNeighborsClassifier(), tfidf__use_idf=False, vect__max_df=0.5, vect__max_features=10000, vect__ngram_range=(1, 2);, score=0.189 total time=   2.8s\n",
      "[CV 2/5; 60/72] START clf__estimator=KNeighborsClassifier(), tfidf__use_idf=False, vect__max_df=0.5, vect__max_features=10000, vect__ngram_range=(1, 2)\n"
     ]
    },
    {
     "name": "stderr",
     "output_type": "stream",
     "text": [
      "C:\\ProgramData\\Anaconda3\\lib\\site-packages\\sklearn\\neighbors\\_classification.py:228: FutureWarning: Unlike other reduction functions (e.g. `skew`, `kurtosis`), the default behavior of `mode` typically preserves the axis it acts along. In SciPy 1.11.0, this behavior will change: the default value of `keepdims` will become False, the `axis` over which the statistic is taken will be eliminated, and the value None will no longer be accepted. Set `keepdims` to True or False to avoid this warning.\n",
      "  mode, _ = stats.mode(_y[neigh_ind, k], axis=1)\n"
     ]
    },
    {
     "name": "stdout",
     "output_type": "stream",
     "text": [
      "[CV 2/5; 60/72] END clf__estimator=KNeighborsClassifier(), tfidf__use_idf=False, vect__max_df=0.5, vect__max_features=10000, vect__ngram_range=(1, 2);, score=0.193 total time=   2.8s\n",
      "[CV 3/5; 60/72] START clf__estimator=KNeighborsClassifier(), tfidf__use_idf=False, vect__max_df=0.5, vect__max_features=10000, vect__ngram_range=(1, 2)\n"
     ]
    },
    {
     "name": "stderr",
     "output_type": "stream",
     "text": [
      "C:\\ProgramData\\Anaconda3\\lib\\site-packages\\sklearn\\neighbors\\_classification.py:228: FutureWarning: Unlike other reduction functions (e.g. `skew`, `kurtosis`), the default behavior of `mode` typically preserves the axis it acts along. In SciPy 1.11.0, this behavior will change: the default value of `keepdims` will become False, the `axis` over which the statistic is taken will be eliminated, and the value None will no longer be accepted. Set `keepdims` to True or False to avoid this warning.\n",
      "  mode, _ = stats.mode(_y[neigh_ind, k], axis=1)\n"
     ]
    },
    {
     "name": "stdout",
     "output_type": "stream",
     "text": [
      "[CV 3/5; 60/72] END clf__estimator=KNeighborsClassifier(), tfidf__use_idf=False, vect__max_df=0.5, vect__max_features=10000, vect__ngram_range=(1, 2);, score=0.159 total time=   2.9s\n",
      "[CV 4/5; 60/72] START clf__estimator=KNeighborsClassifier(), tfidf__use_idf=False, vect__max_df=0.5, vect__max_features=10000, vect__ngram_range=(1, 2)\n"
     ]
    },
    {
     "name": "stderr",
     "output_type": "stream",
     "text": [
      "C:\\ProgramData\\Anaconda3\\lib\\site-packages\\sklearn\\neighbors\\_classification.py:228: FutureWarning: Unlike other reduction functions (e.g. `skew`, `kurtosis`), the default behavior of `mode` typically preserves the axis it acts along. In SciPy 1.11.0, this behavior will change: the default value of `keepdims` will become False, the `axis` over which the statistic is taken will be eliminated, and the value None will no longer be accepted. Set `keepdims` to True or False to avoid this warning.\n",
      "  mode, _ = stats.mode(_y[neigh_ind, k], axis=1)\n"
     ]
    },
    {
     "name": "stdout",
     "output_type": "stream",
     "text": [
      "[CV 4/5; 60/72] END clf__estimator=KNeighborsClassifier(), tfidf__use_idf=False, vect__max_df=0.5, vect__max_features=10000, vect__ngram_range=(1, 2);, score=0.168 total time=   2.8s\n",
      "[CV 5/5; 60/72] START clf__estimator=KNeighborsClassifier(), tfidf__use_idf=False, vect__max_df=0.5, vect__max_features=10000, vect__ngram_range=(1, 2)\n"
     ]
    },
    {
     "name": "stderr",
     "output_type": "stream",
     "text": [
      "C:\\ProgramData\\Anaconda3\\lib\\site-packages\\sklearn\\neighbors\\_classification.py:228: FutureWarning: Unlike other reduction functions (e.g. `skew`, `kurtosis`), the default behavior of `mode` typically preserves the axis it acts along. In SciPy 1.11.0, this behavior will change: the default value of `keepdims` will become False, the `axis` over which the statistic is taken will be eliminated, and the value None will no longer be accepted. Set `keepdims` to True or False to avoid this warning.\n",
      "  mode, _ = stats.mode(_y[neigh_ind, k], axis=1)\n"
     ]
    },
    {
     "name": "stdout",
     "output_type": "stream",
     "text": [
      "[CV 5/5; 60/72] END clf__estimator=KNeighborsClassifier(), tfidf__use_idf=False, vect__max_df=0.5, vect__max_features=10000, vect__ngram_range=(1, 2);, score=0.181 total time=   2.8s\n",
      "[CV 1/5; 61/72] START clf__estimator=KNeighborsClassifier(), tfidf__use_idf=False, vect__max_df=0.75, vect__max_features=None, vect__ngram_range=(1, 1)\n"
     ]
    },
    {
     "name": "stderr",
     "output_type": "stream",
     "text": [
      "C:\\ProgramData\\Anaconda3\\lib\\site-packages\\sklearn\\neighbors\\_classification.py:228: FutureWarning: Unlike other reduction functions (e.g. `skew`, `kurtosis`), the default behavior of `mode` typically preserves the axis it acts along. In SciPy 1.11.0, this behavior will change: the default value of `keepdims` will become False, the `axis` over which the statistic is taken will be eliminated, and the value None will no longer be accepted. Set `keepdims` to True or False to avoid this warning.\n",
      "  mode, _ = stats.mode(_y[neigh_ind, k], axis=1)\n"
     ]
    },
    {
     "name": "stdout",
     "output_type": "stream",
     "text": [
      "[CV 1/5; 61/72] END clf__estimator=KNeighborsClassifier(), tfidf__use_idf=False, vect__max_df=0.75, vect__max_features=None, vect__ngram_range=(1, 1);, score=0.157 total time=   2.7s\n",
      "[CV 2/5; 61/72] START clf__estimator=KNeighborsClassifier(), tfidf__use_idf=False, vect__max_df=0.75, vect__max_features=None, vect__ngram_range=(1, 1)\n"
     ]
    },
    {
     "name": "stderr",
     "output_type": "stream",
     "text": [
      "C:\\ProgramData\\Anaconda3\\lib\\site-packages\\sklearn\\neighbors\\_classification.py:228: FutureWarning: Unlike other reduction functions (e.g. `skew`, `kurtosis`), the default behavior of `mode` typically preserves the axis it acts along. In SciPy 1.11.0, this behavior will change: the default value of `keepdims` will become False, the `axis` over which the statistic is taken will be eliminated, and the value None will no longer be accepted. Set `keepdims` to True or False to avoid this warning.\n",
      "  mode, _ = stats.mode(_y[neigh_ind, k], axis=1)\n"
     ]
    },
    {
     "name": "stdout",
     "output_type": "stream",
     "text": [
      "[CV 2/5; 61/72] END clf__estimator=KNeighborsClassifier(), tfidf__use_idf=False, vect__max_df=0.75, vect__max_features=None, vect__ngram_range=(1, 1);, score=0.144 total time=   2.8s\n",
      "[CV 3/5; 61/72] START clf__estimator=KNeighborsClassifier(), tfidf__use_idf=False, vect__max_df=0.75, vect__max_features=None, vect__ngram_range=(1, 1)\n"
     ]
    },
    {
     "name": "stderr",
     "output_type": "stream",
     "text": [
      "C:\\ProgramData\\Anaconda3\\lib\\site-packages\\sklearn\\neighbors\\_classification.py:228: FutureWarning: Unlike other reduction functions (e.g. `skew`, `kurtosis`), the default behavior of `mode` typically preserves the axis it acts along. In SciPy 1.11.0, this behavior will change: the default value of `keepdims` will become False, the `axis` over which the statistic is taken will be eliminated, and the value None will no longer be accepted. Set `keepdims` to True or False to avoid this warning.\n",
      "  mode, _ = stats.mode(_y[neigh_ind, k], axis=1)\n"
     ]
    },
    {
     "name": "stdout",
     "output_type": "stream",
     "text": [
      "[CV 3/5; 61/72] END clf__estimator=KNeighborsClassifier(), tfidf__use_idf=False, vect__max_df=0.75, vect__max_features=None, vect__ngram_range=(1, 1);, score=0.131 total time=   2.9s\n",
      "[CV 4/5; 61/72] START clf__estimator=KNeighborsClassifier(), tfidf__use_idf=False, vect__max_df=0.75, vect__max_features=None, vect__ngram_range=(1, 1)\n"
     ]
    },
    {
     "name": "stderr",
     "output_type": "stream",
     "text": [
      "C:\\ProgramData\\Anaconda3\\lib\\site-packages\\sklearn\\neighbors\\_classification.py:228: FutureWarning: Unlike other reduction functions (e.g. `skew`, `kurtosis`), the default behavior of `mode` typically preserves the axis it acts along. In SciPy 1.11.0, this behavior will change: the default value of `keepdims` will become False, the `axis` over which the statistic is taken will be eliminated, and the value None will no longer be accepted. Set `keepdims` to True or False to avoid this warning.\n",
      "  mode, _ = stats.mode(_y[neigh_ind, k], axis=1)\n"
     ]
    },
    {
     "name": "stdout",
     "output_type": "stream",
     "text": [
      "[CV 4/5; 61/72] END clf__estimator=KNeighborsClassifier(), tfidf__use_idf=False, vect__max_df=0.75, vect__max_features=None, vect__ngram_range=(1, 1);, score=0.135 total time=   2.9s\n",
      "[CV 5/5; 61/72] START clf__estimator=KNeighborsClassifier(), tfidf__use_idf=False, vect__max_df=0.75, vect__max_features=None, vect__ngram_range=(1, 1)\n"
     ]
    },
    {
     "name": "stderr",
     "output_type": "stream",
     "text": [
      "C:\\ProgramData\\Anaconda3\\lib\\site-packages\\sklearn\\neighbors\\_classification.py:228: FutureWarning: Unlike other reduction functions (e.g. `skew`, `kurtosis`), the default behavior of `mode` typically preserves the axis it acts along. In SciPy 1.11.0, this behavior will change: the default value of `keepdims` will become False, the `axis` over which the statistic is taken will be eliminated, and the value None will no longer be accepted. Set `keepdims` to True or False to avoid this warning.\n",
      "  mode, _ = stats.mode(_y[neigh_ind, k], axis=1)\n"
     ]
    },
    {
     "name": "stdout",
     "output_type": "stream",
     "text": [
      "[CV 5/5; 61/72] END clf__estimator=KNeighborsClassifier(), tfidf__use_idf=False, vect__max_df=0.75, vect__max_features=None, vect__ngram_range=(1, 1);, score=0.177 total time=   2.8s\n",
      "[CV 1/5; 62/72] START clf__estimator=KNeighborsClassifier(), tfidf__use_idf=False, vect__max_df=0.75, vect__max_features=None, vect__ngram_range=(1, 2)\n"
     ]
    },
    {
     "name": "stderr",
     "output_type": "stream",
     "text": [
      "C:\\ProgramData\\Anaconda3\\lib\\site-packages\\sklearn\\neighbors\\_classification.py:228: FutureWarning: Unlike other reduction functions (e.g. `skew`, `kurtosis`), the default behavior of `mode` typically preserves the axis it acts along. In SciPy 1.11.0, this behavior will change: the default value of `keepdims` will become False, the `axis` over which the statistic is taken will be eliminated, and the value None will no longer be accepted. Set `keepdims` to True or False to avoid this warning.\n",
      "  mode, _ = stats.mode(_y[neigh_ind, k], axis=1)\n"
     ]
    },
    {
     "name": "stdout",
     "output_type": "stream",
     "text": [
      "[CV 1/5; 62/72] END clf__estimator=KNeighborsClassifier(), tfidf__use_idf=False, vect__max_df=0.75, vect__max_features=None, vect__ngram_range=(1, 2);, score=0.159 total time=   2.9s\n",
      "[CV 2/5; 62/72] START clf__estimator=KNeighborsClassifier(), tfidf__use_idf=False, vect__max_df=0.75, vect__max_features=None, vect__ngram_range=(1, 2)\n"
     ]
    },
    {
     "name": "stderr",
     "output_type": "stream",
     "text": [
      "C:\\ProgramData\\Anaconda3\\lib\\site-packages\\sklearn\\neighbors\\_classification.py:228: FutureWarning: Unlike other reduction functions (e.g. `skew`, `kurtosis`), the default behavior of `mode` typically preserves the axis it acts along. In SciPy 1.11.0, this behavior will change: the default value of `keepdims` will become False, the `axis` over which the statistic is taken will be eliminated, and the value None will no longer be accepted. Set `keepdims` to True or False to avoid this warning.\n",
      "  mode, _ = stats.mode(_y[neigh_ind, k], axis=1)\n"
     ]
    },
    {
     "name": "stdout",
     "output_type": "stream",
     "text": [
      "[CV 2/5; 62/72] END clf__estimator=KNeighborsClassifier(), tfidf__use_idf=False, vect__max_df=0.75, vect__max_features=None, vect__ngram_range=(1, 2);, score=0.136 total time=   2.9s\n",
      "[CV 3/5; 62/72] START clf__estimator=KNeighborsClassifier(), tfidf__use_idf=False, vect__max_df=0.75, vect__max_features=None, vect__ngram_range=(1, 2)\n"
     ]
    },
    {
     "name": "stderr",
     "output_type": "stream",
     "text": [
      "C:\\ProgramData\\Anaconda3\\lib\\site-packages\\sklearn\\neighbors\\_classification.py:228: FutureWarning: Unlike other reduction functions (e.g. `skew`, `kurtosis`), the default behavior of `mode` typically preserves the axis it acts along. In SciPy 1.11.0, this behavior will change: the default value of `keepdims` will become False, the `axis` over which the statistic is taken will be eliminated, and the value None will no longer be accepted. Set `keepdims` to True or False to avoid this warning.\n",
      "  mode, _ = stats.mode(_y[neigh_ind, k], axis=1)\n"
     ]
    },
    {
     "name": "stdout",
     "output_type": "stream",
     "text": [
      "[CV 3/5; 62/72] END clf__estimator=KNeighborsClassifier(), tfidf__use_idf=False, vect__max_df=0.75, vect__max_features=None, vect__ngram_range=(1, 2);, score=0.115 total time=   3.0s\n",
      "[CV 4/5; 62/72] START clf__estimator=KNeighborsClassifier(), tfidf__use_idf=False, vect__max_df=0.75, vect__max_features=None, vect__ngram_range=(1, 2)\n"
     ]
    },
    {
     "name": "stderr",
     "output_type": "stream",
     "text": [
      "C:\\ProgramData\\Anaconda3\\lib\\site-packages\\sklearn\\neighbors\\_classification.py:228: FutureWarning: Unlike other reduction functions (e.g. `skew`, `kurtosis`), the default behavior of `mode` typically preserves the axis it acts along. In SciPy 1.11.0, this behavior will change: the default value of `keepdims` will become False, the `axis` over which the statistic is taken will be eliminated, and the value None will no longer be accepted. Set `keepdims` to True or False to avoid this warning.\n",
      "  mode, _ = stats.mode(_y[neigh_ind, k], axis=1)\n"
     ]
    },
    {
     "name": "stdout",
     "output_type": "stream",
     "text": [
      "[CV 4/5; 62/72] END clf__estimator=KNeighborsClassifier(), tfidf__use_idf=False, vect__max_df=0.75, vect__max_features=None, vect__ngram_range=(1, 2);, score=0.127 total time=   3.1s\n",
      "[CV 5/5; 62/72] START clf__estimator=KNeighborsClassifier(), tfidf__use_idf=False, vect__max_df=0.75, vect__max_features=None, vect__ngram_range=(1, 2)\n"
     ]
    },
    {
     "name": "stderr",
     "output_type": "stream",
     "text": [
      "C:\\ProgramData\\Anaconda3\\lib\\site-packages\\sklearn\\neighbors\\_classification.py:228: FutureWarning: Unlike other reduction functions (e.g. `skew`, `kurtosis`), the default behavior of `mode` typically preserves the axis it acts along. In SciPy 1.11.0, this behavior will change: the default value of `keepdims` will become False, the `axis` over which the statistic is taken will be eliminated, and the value None will no longer be accepted. Set `keepdims` to True or False to avoid this warning.\n",
      "  mode, _ = stats.mode(_y[neigh_ind, k], axis=1)\n"
     ]
    },
    {
     "name": "stdout",
     "output_type": "stream",
     "text": [
      "[CV 5/5; 62/72] END clf__estimator=KNeighborsClassifier(), tfidf__use_idf=False, vect__max_df=0.75, vect__max_features=None, vect__ngram_range=(1, 2);, score=0.161 total time=   2.9s\n",
      "[CV 1/5; 63/72] START clf__estimator=KNeighborsClassifier(), tfidf__use_idf=False, vect__max_df=0.75, vect__max_features=5000, vect__ngram_range=(1, 1)\n"
     ]
    },
    {
     "name": "stderr",
     "output_type": "stream",
     "text": [
      "C:\\ProgramData\\Anaconda3\\lib\\site-packages\\sklearn\\neighbors\\_classification.py:228: FutureWarning: Unlike other reduction functions (e.g. `skew`, `kurtosis`), the default behavior of `mode` typically preserves the axis it acts along. In SciPy 1.11.0, this behavior will change: the default value of `keepdims` will become False, the `axis` over which the statistic is taken will be eliminated, and the value None will no longer be accepted. Set `keepdims` to True or False to avoid this warning.\n",
      "  mode, _ = stats.mode(_y[neigh_ind, k], axis=1)\n"
     ]
    },
    {
     "name": "stdout",
     "output_type": "stream",
     "text": [
      "[CV 1/5; 63/72] END clf__estimator=KNeighborsClassifier(), tfidf__use_idf=False, vect__max_df=0.75, vect__max_features=5000, vect__ngram_range=(1, 1);, score=0.156 total time=   2.7s\n",
      "[CV 2/5; 63/72] START clf__estimator=KNeighborsClassifier(), tfidf__use_idf=False, vect__max_df=0.75, vect__max_features=5000, vect__ngram_range=(1, 1)\n"
     ]
    },
    {
     "name": "stderr",
     "output_type": "stream",
     "text": [
      "C:\\ProgramData\\Anaconda3\\lib\\site-packages\\sklearn\\neighbors\\_classification.py:228: FutureWarning: Unlike other reduction functions (e.g. `skew`, `kurtosis`), the default behavior of `mode` typically preserves the axis it acts along. In SciPy 1.11.0, this behavior will change: the default value of `keepdims` will become False, the `axis` over which the statistic is taken will be eliminated, and the value None will no longer be accepted. Set `keepdims` to True or False to avoid this warning.\n",
      "  mode, _ = stats.mode(_y[neigh_ind, k], axis=1)\n"
     ]
    },
    {
     "name": "stdout",
     "output_type": "stream",
     "text": [
      "[CV 2/5; 63/72] END clf__estimator=KNeighborsClassifier(), tfidf__use_idf=False, vect__max_df=0.75, vect__max_features=5000, vect__ngram_range=(1, 1);, score=0.157 total time=   2.7s\n",
      "[CV 3/5; 63/72] START clf__estimator=KNeighborsClassifier(), tfidf__use_idf=False, vect__max_df=0.75, vect__max_features=5000, vect__ngram_range=(1, 1)\n"
     ]
    },
    {
     "name": "stderr",
     "output_type": "stream",
     "text": [
      "C:\\ProgramData\\Anaconda3\\lib\\site-packages\\sklearn\\neighbors\\_classification.py:228: FutureWarning: Unlike other reduction functions (e.g. `skew`, `kurtosis`), the default behavior of `mode` typically preserves the axis it acts along. In SciPy 1.11.0, this behavior will change: the default value of `keepdims` will become False, the `axis` over which the statistic is taken will be eliminated, and the value None will no longer be accepted. Set `keepdims` to True or False to avoid this warning.\n",
      "  mode, _ = stats.mode(_y[neigh_ind, k], axis=1)\n"
     ]
    },
    {
     "name": "stdout",
     "output_type": "stream",
     "text": [
      "[CV 3/5; 63/72] END clf__estimator=KNeighborsClassifier(), tfidf__use_idf=False, vect__max_df=0.75, vect__max_features=5000, vect__ngram_range=(1, 1);, score=0.133 total time=   2.8s\n",
      "[CV 4/5; 63/72] START clf__estimator=KNeighborsClassifier(), tfidf__use_idf=False, vect__max_df=0.75, vect__max_features=5000, vect__ngram_range=(1, 1)\n"
     ]
    },
    {
     "name": "stderr",
     "output_type": "stream",
     "text": [
      "C:\\ProgramData\\Anaconda3\\lib\\site-packages\\sklearn\\neighbors\\_classification.py:228: FutureWarning: Unlike other reduction functions (e.g. `skew`, `kurtosis`), the default behavior of `mode` typically preserves the axis it acts along. In SciPy 1.11.0, this behavior will change: the default value of `keepdims` will become False, the `axis` over which the statistic is taken will be eliminated, and the value None will no longer be accepted. Set `keepdims` to True or False to avoid this warning.\n",
      "  mode, _ = stats.mode(_y[neigh_ind, k], axis=1)\n"
     ]
    },
    {
     "name": "stdout",
     "output_type": "stream",
     "text": [
      "[CV 4/5; 63/72] END clf__estimator=KNeighborsClassifier(), tfidf__use_idf=False, vect__max_df=0.75, vect__max_features=5000, vect__ngram_range=(1, 1);, score=0.149 total time=   2.9s\n",
      "[CV 5/5; 63/72] START clf__estimator=KNeighborsClassifier(), tfidf__use_idf=False, vect__max_df=0.75, vect__max_features=5000, vect__ngram_range=(1, 1)\n"
     ]
    },
    {
     "name": "stderr",
     "output_type": "stream",
     "text": [
      "C:\\ProgramData\\Anaconda3\\lib\\site-packages\\sklearn\\neighbors\\_classification.py:228: FutureWarning: Unlike other reduction functions (e.g. `skew`, `kurtosis`), the default behavior of `mode` typically preserves the axis it acts along. In SciPy 1.11.0, this behavior will change: the default value of `keepdims` will become False, the `axis` over which the statistic is taken will be eliminated, and the value None will no longer be accepted. Set `keepdims` to True or False to avoid this warning.\n",
      "  mode, _ = stats.mode(_y[neigh_ind, k], axis=1)\n"
     ]
    },
    {
     "name": "stdout",
     "output_type": "stream",
     "text": [
      "[CV 5/5; 63/72] END clf__estimator=KNeighborsClassifier(), tfidf__use_idf=False, vect__max_df=0.75, vect__max_features=5000, vect__ngram_range=(1, 1);, score=0.180 total time=   2.8s\n",
      "[CV 1/5; 64/72] START clf__estimator=KNeighborsClassifier(), tfidf__use_idf=False, vect__max_df=0.75, vect__max_features=5000, vect__ngram_range=(1, 2)\n"
     ]
    },
    {
     "name": "stderr",
     "output_type": "stream",
     "text": [
      "C:\\ProgramData\\Anaconda3\\lib\\site-packages\\sklearn\\neighbors\\_classification.py:228: FutureWarning: Unlike other reduction functions (e.g. `skew`, `kurtosis`), the default behavior of `mode` typically preserves the axis it acts along. In SciPy 1.11.0, this behavior will change: the default value of `keepdims` will become False, the `axis` over which the statistic is taken will be eliminated, and the value None will no longer be accepted. Set `keepdims` to True or False to avoid this warning.\n",
      "  mode, _ = stats.mode(_y[neigh_ind, k], axis=1)\n"
     ]
    },
    {
     "name": "stdout",
     "output_type": "stream",
     "text": [
      "[CV 1/5; 64/72] END clf__estimator=KNeighborsClassifier(), tfidf__use_idf=False, vect__max_df=0.75, vect__max_features=5000, vect__ngram_range=(1, 2);, score=0.200 total time=   2.9s\n",
      "[CV 2/5; 64/72] START clf__estimator=KNeighborsClassifier(), tfidf__use_idf=False, vect__max_df=0.75, vect__max_features=5000, vect__ngram_range=(1, 2)\n"
     ]
    },
    {
     "name": "stderr",
     "output_type": "stream",
     "text": [
      "C:\\ProgramData\\Anaconda3\\lib\\site-packages\\sklearn\\neighbors\\_classification.py:228: FutureWarning: Unlike other reduction functions (e.g. `skew`, `kurtosis`), the default behavior of `mode` typically preserves the axis it acts along. In SciPy 1.11.0, this behavior will change: the default value of `keepdims` will become False, the `axis` over which the statistic is taken will be eliminated, and the value None will no longer be accepted. Set `keepdims` to True or False to avoid this warning.\n",
      "  mode, _ = stats.mode(_y[neigh_ind, k], axis=1)\n"
     ]
    },
    {
     "name": "stdout",
     "output_type": "stream",
     "text": [
      "[CV 2/5; 64/72] END clf__estimator=KNeighborsClassifier(), tfidf__use_idf=False, vect__max_df=0.75, vect__max_features=5000, vect__ngram_range=(1, 2);, score=0.169 total time=   2.9s\n",
      "[CV 3/5; 64/72] START clf__estimator=KNeighborsClassifier(), tfidf__use_idf=False, vect__max_df=0.75, vect__max_features=5000, vect__ngram_range=(1, 2)\n"
     ]
    },
    {
     "name": "stderr",
     "output_type": "stream",
     "text": [
      "C:\\ProgramData\\Anaconda3\\lib\\site-packages\\sklearn\\neighbors\\_classification.py:228: FutureWarning: Unlike other reduction functions (e.g. `skew`, `kurtosis`), the default behavior of `mode` typically preserves the axis it acts along. In SciPy 1.11.0, this behavior will change: the default value of `keepdims` will become False, the `axis` over which the statistic is taken will be eliminated, and the value None will no longer be accepted. Set `keepdims` to True or False to avoid this warning.\n",
      "  mode, _ = stats.mode(_y[neigh_ind, k], axis=1)\n"
     ]
    },
    {
     "name": "stdout",
     "output_type": "stream",
     "text": [
      "[CV 3/5; 64/72] END clf__estimator=KNeighborsClassifier(), tfidf__use_idf=False, vect__max_df=0.75, vect__max_features=5000, vect__ngram_range=(1, 2);, score=0.165 total time=   2.9s\n",
      "[CV 4/5; 64/72] START clf__estimator=KNeighborsClassifier(), tfidf__use_idf=False, vect__max_df=0.75, vect__max_features=5000, vect__ngram_range=(1, 2)\n"
     ]
    },
    {
     "name": "stderr",
     "output_type": "stream",
     "text": [
      "C:\\ProgramData\\Anaconda3\\lib\\site-packages\\sklearn\\neighbors\\_classification.py:228: FutureWarning: Unlike other reduction functions (e.g. `skew`, `kurtosis`), the default behavior of `mode` typically preserves the axis it acts along. In SciPy 1.11.0, this behavior will change: the default value of `keepdims` will become False, the `axis` over which the statistic is taken will be eliminated, and the value None will no longer be accepted. Set `keepdims` to True or False to avoid this warning.\n",
      "  mode, _ = stats.mode(_y[neigh_ind, k], axis=1)\n"
     ]
    },
    {
     "name": "stdout",
     "output_type": "stream",
     "text": [
      "[CV 4/5; 64/72] END clf__estimator=KNeighborsClassifier(), tfidf__use_idf=False, vect__max_df=0.75, vect__max_features=5000, vect__ngram_range=(1, 2);, score=0.172 total time=   3.0s\n",
      "[CV 5/5; 64/72] START clf__estimator=KNeighborsClassifier(), tfidf__use_idf=False, vect__max_df=0.75, vect__max_features=5000, vect__ngram_range=(1, 2)\n"
     ]
    },
    {
     "name": "stderr",
     "output_type": "stream",
     "text": [
      "C:\\ProgramData\\Anaconda3\\lib\\site-packages\\sklearn\\neighbors\\_classification.py:228: FutureWarning: Unlike other reduction functions (e.g. `skew`, `kurtosis`), the default behavior of `mode` typically preserves the axis it acts along. In SciPy 1.11.0, this behavior will change: the default value of `keepdims` will become False, the `axis` over which the statistic is taken will be eliminated, and the value None will no longer be accepted. Set `keepdims` to True or False to avoid this warning.\n",
      "  mode, _ = stats.mode(_y[neigh_ind, k], axis=1)\n"
     ]
    },
    {
     "name": "stdout",
     "output_type": "stream",
     "text": [
      "[CV 5/5; 64/72] END clf__estimator=KNeighborsClassifier(), tfidf__use_idf=False, vect__max_df=0.75, vect__max_features=5000, vect__ngram_range=(1, 2);, score=0.179 total time=   3.0s\n",
      "[CV 1/5; 65/72] START clf__estimator=KNeighborsClassifier(), tfidf__use_idf=False, vect__max_df=0.75, vect__max_features=10000, vect__ngram_range=(1, 1)\n"
     ]
    },
    {
     "name": "stderr",
     "output_type": "stream",
     "text": [
      "C:\\ProgramData\\Anaconda3\\lib\\site-packages\\sklearn\\neighbors\\_classification.py:228: FutureWarning: Unlike other reduction functions (e.g. `skew`, `kurtosis`), the default behavior of `mode` typically preserves the axis it acts along. In SciPy 1.11.0, this behavior will change: the default value of `keepdims` will become False, the `axis` over which the statistic is taken will be eliminated, and the value None will no longer be accepted. Set `keepdims` to True or False to avoid this warning.\n",
      "  mode, _ = stats.mode(_y[neigh_ind, k], axis=1)\n"
     ]
    },
    {
     "name": "stdout",
     "output_type": "stream",
     "text": [
      "[CV 1/5; 65/72] END clf__estimator=KNeighborsClassifier(), tfidf__use_idf=False, vect__max_df=0.75, vect__max_features=10000, vect__ngram_range=(1, 1);, score=0.157 total time=   2.7s\n",
      "[CV 2/5; 65/72] START clf__estimator=KNeighborsClassifier(), tfidf__use_idf=False, vect__max_df=0.75, vect__max_features=10000, vect__ngram_range=(1, 1)\n"
     ]
    },
    {
     "name": "stderr",
     "output_type": "stream",
     "text": [
      "C:\\ProgramData\\Anaconda3\\lib\\site-packages\\sklearn\\neighbors\\_classification.py:228: FutureWarning: Unlike other reduction functions (e.g. `skew`, `kurtosis`), the default behavior of `mode` typically preserves the axis it acts along. In SciPy 1.11.0, this behavior will change: the default value of `keepdims` will become False, the `axis` over which the statistic is taken will be eliminated, and the value None will no longer be accepted. Set `keepdims` to True or False to avoid this warning.\n",
      "  mode, _ = stats.mode(_y[neigh_ind, k], axis=1)\n"
     ]
    },
    {
     "name": "stdout",
     "output_type": "stream",
     "text": [
      "[CV 2/5; 65/72] END clf__estimator=KNeighborsClassifier(), tfidf__use_idf=False, vect__max_df=0.75, vect__max_features=10000, vect__ngram_range=(1, 1);, score=0.147 total time=   2.8s\n",
      "[CV 3/5; 65/72] START clf__estimator=KNeighborsClassifier(), tfidf__use_idf=False, vect__max_df=0.75, vect__max_features=10000, vect__ngram_range=(1, 1)\n"
     ]
    },
    {
     "name": "stderr",
     "output_type": "stream",
     "text": [
      "C:\\ProgramData\\Anaconda3\\lib\\site-packages\\sklearn\\neighbors\\_classification.py:228: FutureWarning: Unlike other reduction functions (e.g. `skew`, `kurtosis`), the default behavior of `mode` typically preserves the axis it acts along. In SciPy 1.11.0, this behavior will change: the default value of `keepdims` will become False, the `axis` over which the statistic is taken will be eliminated, and the value None will no longer be accepted. Set `keepdims` to True or False to avoid this warning.\n",
      "  mode, _ = stats.mode(_y[neigh_ind, k], axis=1)\n"
     ]
    },
    {
     "name": "stdout",
     "output_type": "stream",
     "text": [
      "[CV 3/5; 65/72] END clf__estimator=KNeighborsClassifier(), tfidf__use_idf=False, vect__max_df=0.75, vect__max_features=10000, vect__ngram_range=(1, 1);, score=0.133 total time=   2.8s\n",
      "[CV 4/5; 65/72] START clf__estimator=KNeighborsClassifier(), tfidf__use_idf=False, vect__max_df=0.75, vect__max_features=10000, vect__ngram_range=(1, 1)\n"
     ]
    },
    {
     "name": "stderr",
     "output_type": "stream",
     "text": [
      "C:\\ProgramData\\Anaconda3\\lib\\site-packages\\sklearn\\neighbors\\_classification.py:228: FutureWarning: Unlike other reduction functions (e.g. `skew`, `kurtosis`), the default behavior of `mode` typically preserves the axis it acts along. In SciPy 1.11.0, this behavior will change: the default value of `keepdims` will become False, the `axis` over which the statistic is taken will be eliminated, and the value None will no longer be accepted. Set `keepdims` to True or False to avoid this warning.\n",
      "  mode, _ = stats.mode(_y[neigh_ind, k], axis=1)\n"
     ]
    },
    {
     "name": "stdout",
     "output_type": "stream",
     "text": [
      "[CV 4/5; 65/72] END clf__estimator=KNeighborsClassifier(), tfidf__use_idf=False, vect__max_df=0.75, vect__max_features=10000, vect__ngram_range=(1, 1);, score=0.144 total time=   2.8s\n",
      "[CV 5/5; 65/72] START clf__estimator=KNeighborsClassifier(), tfidf__use_idf=False, vect__max_df=0.75, vect__max_features=10000, vect__ngram_range=(1, 1)\n"
     ]
    },
    {
     "name": "stderr",
     "output_type": "stream",
     "text": [
      "C:\\ProgramData\\Anaconda3\\lib\\site-packages\\sklearn\\neighbors\\_classification.py:228: FutureWarning: Unlike other reduction functions (e.g. `skew`, `kurtosis`), the default behavior of `mode` typically preserves the axis it acts along. In SciPy 1.11.0, this behavior will change: the default value of `keepdims` will become False, the `axis` over which the statistic is taken will be eliminated, and the value None will no longer be accepted. Set `keepdims` to True or False to avoid this warning.\n",
      "  mode, _ = stats.mode(_y[neigh_ind, k], axis=1)\n"
     ]
    },
    {
     "name": "stdout",
     "output_type": "stream",
     "text": [
      "[CV 5/5; 65/72] END clf__estimator=KNeighborsClassifier(), tfidf__use_idf=False, vect__max_df=0.75, vect__max_features=10000, vect__ngram_range=(1, 1);, score=0.177 total time=   2.9s\n",
      "[CV 1/5; 66/72] START clf__estimator=KNeighborsClassifier(), tfidf__use_idf=False, vect__max_df=0.75, vect__max_features=10000, vect__ngram_range=(1, 2)\n"
     ]
    },
    {
     "name": "stderr",
     "output_type": "stream",
     "text": [
      "C:\\ProgramData\\Anaconda3\\lib\\site-packages\\sklearn\\neighbors\\_classification.py:228: FutureWarning: Unlike other reduction functions (e.g. `skew`, `kurtosis`), the default behavior of `mode` typically preserves the axis it acts along. In SciPy 1.11.0, this behavior will change: the default value of `keepdims` will become False, the `axis` over which the statistic is taken will be eliminated, and the value None will no longer be accepted. Set `keepdims` to True or False to avoid this warning.\n",
      "  mode, _ = stats.mode(_y[neigh_ind, k], axis=1)\n"
     ]
    },
    {
     "name": "stdout",
     "output_type": "stream",
     "text": [
      "[CV 1/5; 66/72] END clf__estimator=KNeighborsClassifier(), tfidf__use_idf=False, vect__max_df=0.75, vect__max_features=10000, vect__ngram_range=(1, 2);, score=0.195 total time=   2.9s\n",
      "[CV 2/5; 66/72] START clf__estimator=KNeighborsClassifier(), tfidf__use_idf=False, vect__max_df=0.75, vect__max_features=10000, vect__ngram_range=(1, 2)\n"
     ]
    },
    {
     "name": "stderr",
     "output_type": "stream",
     "text": [
      "C:\\ProgramData\\Anaconda3\\lib\\site-packages\\sklearn\\neighbors\\_classification.py:228: FutureWarning: Unlike other reduction functions (e.g. `skew`, `kurtosis`), the default behavior of `mode` typically preserves the axis it acts along. In SciPy 1.11.0, this behavior will change: the default value of `keepdims` will become False, the `axis` over which the statistic is taken will be eliminated, and the value None will no longer be accepted. Set `keepdims` to True or False to avoid this warning.\n",
      "  mode, _ = stats.mode(_y[neigh_ind, k], axis=1)\n"
     ]
    },
    {
     "name": "stdout",
     "output_type": "stream",
     "text": [
      "[CV 2/5; 66/72] END clf__estimator=KNeighborsClassifier(), tfidf__use_idf=False, vect__max_df=0.75, vect__max_features=10000, vect__ngram_range=(1, 2);, score=0.179 total time=   2.9s\n",
      "[CV 3/5; 66/72] START clf__estimator=KNeighborsClassifier(), tfidf__use_idf=False, vect__max_df=0.75, vect__max_features=10000, vect__ngram_range=(1, 2)\n"
     ]
    },
    {
     "name": "stderr",
     "output_type": "stream",
     "text": [
      "C:\\ProgramData\\Anaconda3\\lib\\site-packages\\sklearn\\neighbors\\_classification.py:228: FutureWarning: Unlike other reduction functions (e.g. `skew`, `kurtosis`), the default behavior of `mode` typically preserves the axis it acts along. In SciPy 1.11.0, this behavior will change: the default value of `keepdims` will become False, the `axis` over which the statistic is taken will be eliminated, and the value None will no longer be accepted. Set `keepdims` to True or False to avoid this warning.\n",
      "  mode, _ = stats.mode(_y[neigh_ind, k], axis=1)\n"
     ]
    },
    {
     "name": "stdout",
     "output_type": "stream",
     "text": [
      "[CV 3/5; 66/72] END clf__estimator=KNeighborsClassifier(), tfidf__use_idf=False, vect__max_df=0.75, vect__max_features=10000, vect__ngram_range=(1, 2);, score=0.137 total time=   2.9s\n",
      "[CV 4/5; 66/72] START clf__estimator=KNeighborsClassifier(), tfidf__use_idf=False, vect__max_df=0.75, vect__max_features=10000, vect__ngram_range=(1, 2)\n"
     ]
    },
    {
     "name": "stderr",
     "output_type": "stream",
     "text": [
      "C:\\ProgramData\\Anaconda3\\lib\\site-packages\\sklearn\\neighbors\\_classification.py:228: FutureWarning: Unlike other reduction functions (e.g. `skew`, `kurtosis`), the default behavior of `mode` typically preserves the axis it acts along. In SciPy 1.11.0, this behavior will change: the default value of `keepdims` will become False, the `axis` over which the statistic is taken will be eliminated, and the value None will no longer be accepted. Set `keepdims` to True or False to avoid this warning.\n",
      "  mode, _ = stats.mode(_y[neigh_ind, k], axis=1)\n"
     ]
    },
    {
     "name": "stdout",
     "output_type": "stream",
     "text": [
      "[CV 4/5; 66/72] END clf__estimator=KNeighborsClassifier(), tfidf__use_idf=False, vect__max_df=0.75, vect__max_features=10000, vect__ngram_range=(1, 2);, score=0.153 total time=   2.9s\n",
      "[CV 5/5; 66/72] START clf__estimator=KNeighborsClassifier(), tfidf__use_idf=False, vect__max_df=0.75, vect__max_features=10000, vect__ngram_range=(1, 2)\n"
     ]
    },
    {
     "name": "stderr",
     "output_type": "stream",
     "text": [
      "C:\\ProgramData\\Anaconda3\\lib\\site-packages\\sklearn\\neighbors\\_classification.py:228: FutureWarning: Unlike other reduction functions (e.g. `skew`, `kurtosis`), the default behavior of `mode` typically preserves the axis it acts along. In SciPy 1.11.0, this behavior will change: the default value of `keepdims` will become False, the `axis` over which the statistic is taken will be eliminated, and the value None will no longer be accepted. Set `keepdims` to True or False to avoid this warning.\n",
      "  mode, _ = stats.mode(_y[neigh_ind, k], axis=1)\n"
     ]
    },
    {
     "name": "stdout",
     "output_type": "stream",
     "text": [
      "[CV 5/5; 66/72] END clf__estimator=KNeighborsClassifier(), tfidf__use_idf=False, vect__max_df=0.75, vect__max_features=10000, vect__ngram_range=(1, 2);, score=0.172 total time=   3.1s\n",
      "[CV 1/5; 67/72] START clf__estimator=KNeighborsClassifier(), tfidf__use_idf=False, vect__max_df=1.0, vect__max_features=None, vect__ngram_range=(1, 1)\n"
     ]
    },
    {
     "name": "stderr",
     "output_type": "stream",
     "text": [
      "C:\\ProgramData\\Anaconda3\\lib\\site-packages\\sklearn\\neighbors\\_classification.py:228: FutureWarning: Unlike other reduction functions (e.g. `skew`, `kurtosis`), the default behavior of `mode` typically preserves the axis it acts along. In SciPy 1.11.0, this behavior will change: the default value of `keepdims` will become False, the `axis` over which the statistic is taken will be eliminated, and the value None will no longer be accepted. Set `keepdims` to True or False to avoid this warning.\n",
      "  mode, _ = stats.mode(_y[neigh_ind, k], axis=1)\n"
     ]
    },
    {
     "name": "stdout",
     "output_type": "stream",
     "text": [
      "[CV 1/5; 67/72] END clf__estimator=KNeighborsClassifier(), tfidf__use_idf=False, vect__max_df=1.0, vect__max_features=None, vect__ngram_range=(1, 1);, score=0.149 total time=   2.7s\n",
      "[CV 2/5; 67/72] START clf__estimator=KNeighborsClassifier(), tfidf__use_idf=False, vect__max_df=1.0, vect__max_features=None, vect__ngram_range=(1, 1)\n"
     ]
    },
    {
     "name": "stderr",
     "output_type": "stream",
     "text": [
      "C:\\ProgramData\\Anaconda3\\lib\\site-packages\\sklearn\\neighbors\\_classification.py:228: FutureWarning: Unlike other reduction functions (e.g. `skew`, `kurtosis`), the default behavior of `mode` typically preserves the axis it acts along. In SciPy 1.11.0, this behavior will change: the default value of `keepdims` will become False, the `axis` over which the statistic is taken will be eliminated, and the value None will no longer be accepted. Set `keepdims` to True or False to avoid this warning.\n",
      "  mode, _ = stats.mode(_y[neigh_ind, k], axis=1)\n"
     ]
    },
    {
     "name": "stdout",
     "output_type": "stream",
     "text": [
      "[CV 2/5; 67/72] END clf__estimator=KNeighborsClassifier(), tfidf__use_idf=False, vect__max_df=1.0, vect__max_features=None, vect__ngram_range=(1, 1);, score=0.135 total time=   2.7s\n",
      "[CV 3/5; 67/72] START clf__estimator=KNeighborsClassifier(), tfidf__use_idf=False, vect__max_df=1.0, vect__max_features=None, vect__ngram_range=(1, 1)\n"
     ]
    },
    {
     "name": "stderr",
     "output_type": "stream",
     "text": [
      "C:\\ProgramData\\Anaconda3\\lib\\site-packages\\sklearn\\neighbors\\_classification.py:228: FutureWarning: Unlike other reduction functions (e.g. `skew`, `kurtosis`), the default behavior of `mode` typically preserves the axis it acts along. In SciPy 1.11.0, this behavior will change: the default value of `keepdims` will become False, the `axis` over which the statistic is taken will be eliminated, and the value None will no longer be accepted. Set `keepdims` to True or False to avoid this warning.\n",
      "  mode, _ = stats.mode(_y[neigh_ind, k], axis=1)\n"
     ]
    },
    {
     "name": "stdout",
     "output_type": "stream",
     "text": [
      "[CV 3/5; 67/72] END clf__estimator=KNeighborsClassifier(), tfidf__use_idf=False, vect__max_df=1.0, vect__max_features=None, vect__ngram_range=(1, 1);, score=0.124 total time=   2.7s\n",
      "[CV 4/5; 67/72] START clf__estimator=KNeighborsClassifier(), tfidf__use_idf=False, vect__max_df=1.0, vect__max_features=None, vect__ngram_range=(1, 1)\n"
     ]
    },
    {
     "name": "stderr",
     "output_type": "stream",
     "text": [
      "C:\\ProgramData\\Anaconda3\\lib\\site-packages\\sklearn\\neighbors\\_classification.py:228: FutureWarning: Unlike other reduction functions (e.g. `skew`, `kurtosis`), the default behavior of `mode` typically preserves the axis it acts along. In SciPy 1.11.0, this behavior will change: the default value of `keepdims` will become False, the `axis` over which the statistic is taken will be eliminated, and the value None will no longer be accepted. Set `keepdims` to True or False to avoid this warning.\n",
      "  mode, _ = stats.mode(_y[neigh_ind, k], axis=1)\n"
     ]
    },
    {
     "name": "stdout",
     "output_type": "stream",
     "text": [
      "[CV 4/5; 67/72] END clf__estimator=KNeighborsClassifier(), tfidf__use_idf=False, vect__max_df=1.0, vect__max_features=None, vect__ngram_range=(1, 1);, score=0.135 total time=   2.7s\n",
      "[CV 5/5; 67/72] START clf__estimator=KNeighborsClassifier(), tfidf__use_idf=False, vect__max_df=1.0, vect__max_features=None, vect__ngram_range=(1, 1)\n"
     ]
    },
    {
     "name": "stderr",
     "output_type": "stream",
     "text": [
      "C:\\ProgramData\\Anaconda3\\lib\\site-packages\\sklearn\\neighbors\\_classification.py:228: FutureWarning: Unlike other reduction functions (e.g. `skew`, `kurtosis`), the default behavior of `mode` typically preserves the axis it acts along. In SciPy 1.11.0, this behavior will change: the default value of `keepdims` will become False, the `axis` over which the statistic is taken will be eliminated, and the value None will no longer be accepted. Set `keepdims` to True or False to avoid this warning.\n",
      "  mode, _ = stats.mode(_y[neigh_ind, k], axis=1)\n"
     ]
    },
    {
     "name": "stdout",
     "output_type": "stream",
     "text": [
      "[CV 5/5; 67/72] END clf__estimator=KNeighborsClassifier(), tfidf__use_idf=False, vect__max_df=1.0, vect__max_features=None, vect__ngram_range=(1, 1);, score=0.157 total time=   2.7s\n",
      "[CV 1/5; 68/72] START clf__estimator=KNeighborsClassifier(), tfidf__use_idf=False, vect__max_df=1.0, vect__max_features=None, vect__ngram_range=(1, 2)\n"
     ]
    },
    {
     "name": "stderr",
     "output_type": "stream",
     "text": [
      "C:\\ProgramData\\Anaconda3\\lib\\site-packages\\sklearn\\neighbors\\_classification.py:228: FutureWarning: Unlike other reduction functions (e.g. `skew`, `kurtosis`), the default behavior of `mode` typically preserves the axis it acts along. In SciPy 1.11.0, this behavior will change: the default value of `keepdims` will become False, the `axis` over which the statistic is taken will be eliminated, and the value None will no longer be accepted. Set `keepdims` to True or False to avoid this warning.\n",
      "  mode, _ = stats.mode(_y[neigh_ind, k], axis=1)\n"
     ]
    },
    {
     "name": "stdout",
     "output_type": "stream",
     "text": [
      "[CV 1/5; 68/72] END clf__estimator=KNeighborsClassifier(), tfidf__use_idf=False, vect__max_df=1.0, vect__max_features=None, vect__ngram_range=(1, 2);, score=0.148 total time=   2.9s\n",
      "[CV 2/5; 68/72] START clf__estimator=KNeighborsClassifier(), tfidf__use_idf=False, vect__max_df=1.0, vect__max_features=None, vect__ngram_range=(1, 2)\n"
     ]
    },
    {
     "name": "stderr",
     "output_type": "stream",
     "text": [
      "C:\\ProgramData\\Anaconda3\\lib\\site-packages\\sklearn\\neighbors\\_classification.py:228: FutureWarning: Unlike other reduction functions (e.g. `skew`, `kurtosis`), the default behavior of `mode` typically preserves the axis it acts along. In SciPy 1.11.0, this behavior will change: the default value of `keepdims` will become False, the `axis` over which the statistic is taken will be eliminated, and the value None will no longer be accepted. Set `keepdims` to True or False to avoid this warning.\n",
      "  mode, _ = stats.mode(_y[neigh_ind, k], axis=1)\n"
     ]
    },
    {
     "name": "stdout",
     "output_type": "stream",
     "text": [
      "[CV 2/5; 68/72] END clf__estimator=KNeighborsClassifier(), tfidf__use_idf=False, vect__max_df=1.0, vect__max_features=None, vect__ngram_range=(1, 2);, score=0.121 total time=   2.9s\n",
      "[CV 3/5; 68/72] START clf__estimator=KNeighborsClassifier(), tfidf__use_idf=False, vect__max_df=1.0, vect__max_features=None, vect__ngram_range=(1, 2)\n"
     ]
    },
    {
     "name": "stderr",
     "output_type": "stream",
     "text": [
      "C:\\ProgramData\\Anaconda3\\lib\\site-packages\\sklearn\\neighbors\\_classification.py:228: FutureWarning: Unlike other reduction functions (e.g. `skew`, `kurtosis`), the default behavior of `mode` typically preserves the axis it acts along. In SciPy 1.11.0, this behavior will change: the default value of `keepdims` will become False, the `axis` over which the statistic is taken will be eliminated, and the value None will no longer be accepted. Set `keepdims` to True or False to avoid this warning.\n",
      "  mode, _ = stats.mode(_y[neigh_ind, k], axis=1)\n"
     ]
    },
    {
     "name": "stdout",
     "output_type": "stream",
     "text": [
      "[CV 3/5; 68/72] END clf__estimator=KNeighborsClassifier(), tfidf__use_idf=False, vect__max_df=1.0, vect__max_features=None, vect__ngram_range=(1, 2);, score=0.115 total time=   2.8s\n",
      "[CV 4/5; 68/72] START clf__estimator=KNeighborsClassifier(), tfidf__use_idf=False, vect__max_df=1.0, vect__max_features=None, vect__ngram_range=(1, 2)\n"
     ]
    },
    {
     "name": "stderr",
     "output_type": "stream",
     "text": [
      "C:\\ProgramData\\Anaconda3\\lib\\site-packages\\sklearn\\neighbors\\_classification.py:228: FutureWarning: Unlike other reduction functions (e.g. `skew`, `kurtosis`), the default behavior of `mode` typically preserves the axis it acts along. In SciPy 1.11.0, this behavior will change: the default value of `keepdims` will become False, the `axis` over which the statistic is taken will be eliminated, and the value None will no longer be accepted. Set `keepdims` to True or False to avoid this warning.\n",
      "  mode, _ = stats.mode(_y[neigh_ind, k], axis=1)\n"
     ]
    },
    {
     "name": "stdout",
     "output_type": "stream",
     "text": [
      "[CV 4/5; 68/72] END clf__estimator=KNeighborsClassifier(), tfidf__use_idf=False, vect__max_df=1.0, vect__max_features=None, vect__ngram_range=(1, 2);, score=0.109 total time=   2.8s\n",
      "[CV 5/5; 68/72] START clf__estimator=KNeighborsClassifier(), tfidf__use_idf=False, vect__max_df=1.0, vect__max_features=None, vect__ngram_range=(1, 2)\n"
     ]
    },
    {
     "name": "stderr",
     "output_type": "stream",
     "text": [
      "C:\\ProgramData\\Anaconda3\\lib\\site-packages\\sklearn\\neighbors\\_classification.py:228: FutureWarning: Unlike other reduction functions (e.g. `skew`, `kurtosis`), the default behavior of `mode` typically preserves the axis it acts along. In SciPy 1.11.0, this behavior will change: the default value of `keepdims` will become False, the `axis` over which the statistic is taken will be eliminated, and the value None will no longer be accepted. Set `keepdims` to True or False to avoid this warning.\n",
      "  mode, _ = stats.mode(_y[neigh_ind, k], axis=1)\n"
     ]
    },
    {
     "name": "stdout",
     "output_type": "stream",
     "text": [
      "[CV 5/5; 68/72] END clf__estimator=KNeighborsClassifier(), tfidf__use_idf=False, vect__max_df=1.0, vect__max_features=None, vect__ngram_range=(1, 2);, score=0.127 total time=   2.8s\n",
      "[CV 1/5; 69/72] START clf__estimator=KNeighborsClassifier(), tfidf__use_idf=False, vect__max_df=1.0, vect__max_features=5000, vect__ngram_range=(1, 1)\n"
     ]
    },
    {
     "name": "stderr",
     "output_type": "stream",
     "text": [
      "C:\\ProgramData\\Anaconda3\\lib\\site-packages\\sklearn\\neighbors\\_classification.py:228: FutureWarning: Unlike other reduction functions (e.g. `skew`, `kurtosis`), the default behavior of `mode` typically preserves the axis it acts along. In SciPy 1.11.0, this behavior will change: the default value of `keepdims` will become False, the `axis` over which the statistic is taken will be eliminated, and the value None will no longer be accepted. Set `keepdims` to True or False to avoid this warning.\n",
      "  mode, _ = stats.mode(_y[neigh_ind, k], axis=1)\n"
     ]
    },
    {
     "name": "stdout",
     "output_type": "stream",
     "text": [
      "[CV 1/5; 69/72] END clf__estimator=KNeighborsClassifier(), tfidf__use_idf=False, vect__max_df=1.0, vect__max_features=5000, vect__ngram_range=(1, 1);, score=0.152 total time=   2.8s\n",
      "[CV 2/5; 69/72] START clf__estimator=KNeighborsClassifier(), tfidf__use_idf=False, vect__max_df=1.0, vect__max_features=5000, vect__ngram_range=(1, 1)\n"
     ]
    },
    {
     "name": "stderr",
     "output_type": "stream",
     "text": [
      "C:\\ProgramData\\Anaconda3\\lib\\site-packages\\sklearn\\neighbors\\_classification.py:228: FutureWarning: Unlike other reduction functions (e.g. `skew`, `kurtosis`), the default behavior of `mode` typically preserves the axis it acts along. In SciPy 1.11.0, this behavior will change: the default value of `keepdims` will become False, the `axis` over which the statistic is taken will be eliminated, and the value None will no longer be accepted. Set `keepdims` to True or False to avoid this warning.\n",
      "  mode, _ = stats.mode(_y[neigh_ind, k], axis=1)\n"
     ]
    },
    {
     "name": "stdout",
     "output_type": "stream",
     "text": [
      "[CV 2/5; 69/72] END clf__estimator=KNeighborsClassifier(), tfidf__use_idf=False, vect__max_df=1.0, vect__max_features=5000, vect__ngram_range=(1, 1);, score=0.140 total time=   2.7s\n",
      "[CV 3/5; 69/72] START clf__estimator=KNeighborsClassifier(), tfidf__use_idf=False, vect__max_df=1.0, vect__max_features=5000, vect__ngram_range=(1, 1)\n"
     ]
    },
    {
     "name": "stderr",
     "output_type": "stream",
     "text": [
      "C:\\ProgramData\\Anaconda3\\lib\\site-packages\\sklearn\\neighbors\\_classification.py:228: FutureWarning: Unlike other reduction functions (e.g. `skew`, `kurtosis`), the default behavior of `mode` typically preserves the axis it acts along. In SciPy 1.11.0, this behavior will change: the default value of `keepdims` will become False, the `axis` over which the statistic is taken will be eliminated, and the value None will no longer be accepted. Set `keepdims` to True or False to avoid this warning.\n",
      "  mode, _ = stats.mode(_y[neigh_ind, k], axis=1)\n"
     ]
    },
    {
     "name": "stdout",
     "output_type": "stream",
     "text": [
      "[CV 3/5; 69/72] END clf__estimator=KNeighborsClassifier(), tfidf__use_idf=False, vect__max_df=1.0, vect__max_features=5000, vect__ngram_range=(1, 1);, score=0.144 total time=   2.7s\n",
      "[CV 4/5; 69/72] START clf__estimator=KNeighborsClassifier(), tfidf__use_idf=False, vect__max_df=1.0, vect__max_features=5000, vect__ngram_range=(1, 1)\n"
     ]
    },
    {
     "name": "stderr",
     "output_type": "stream",
     "text": [
      "C:\\ProgramData\\Anaconda3\\lib\\site-packages\\sklearn\\neighbors\\_classification.py:228: FutureWarning: Unlike other reduction functions (e.g. `skew`, `kurtosis`), the default behavior of `mode` typically preserves the axis it acts along. In SciPy 1.11.0, this behavior will change: the default value of `keepdims` will become False, the `axis` over which the statistic is taken will be eliminated, and the value None will no longer be accepted. Set `keepdims` to True or False to avoid this warning.\n",
      "  mode, _ = stats.mode(_y[neigh_ind, k], axis=1)\n"
     ]
    },
    {
     "name": "stdout",
     "output_type": "stream",
     "text": [
      "[CV 4/5; 69/72] END clf__estimator=KNeighborsClassifier(), tfidf__use_idf=False, vect__max_df=1.0, vect__max_features=5000, vect__ngram_range=(1, 1);, score=0.139 total time=   2.7s\n",
      "[CV 5/5; 69/72] START clf__estimator=KNeighborsClassifier(), tfidf__use_idf=False, vect__max_df=1.0, vect__max_features=5000, vect__ngram_range=(1, 1)\n"
     ]
    },
    {
     "name": "stderr",
     "output_type": "stream",
     "text": [
      "C:\\ProgramData\\Anaconda3\\lib\\site-packages\\sklearn\\neighbors\\_classification.py:228: FutureWarning: Unlike other reduction functions (e.g. `skew`, `kurtosis`), the default behavior of `mode` typically preserves the axis it acts along. In SciPy 1.11.0, this behavior will change: the default value of `keepdims` will become False, the `axis` over which the statistic is taken will be eliminated, and the value None will no longer be accepted. Set `keepdims` to True or False to avoid this warning.\n",
      "  mode, _ = stats.mode(_y[neigh_ind, k], axis=1)\n"
     ]
    },
    {
     "name": "stdout",
     "output_type": "stream",
     "text": [
      "[CV 5/5; 69/72] END clf__estimator=KNeighborsClassifier(), tfidf__use_idf=False, vect__max_df=1.0, vect__max_features=5000, vect__ngram_range=(1, 1);, score=0.161 total time=   2.7s\n",
      "[CV 1/5; 70/72] START clf__estimator=KNeighborsClassifier(), tfidf__use_idf=False, vect__max_df=1.0, vect__max_features=5000, vect__ngram_range=(1, 2)\n"
     ]
    },
    {
     "name": "stderr",
     "output_type": "stream",
     "text": [
      "C:\\ProgramData\\Anaconda3\\lib\\site-packages\\sklearn\\neighbors\\_classification.py:228: FutureWarning: Unlike other reduction functions (e.g. `skew`, `kurtosis`), the default behavior of `mode` typically preserves the axis it acts along. In SciPy 1.11.0, this behavior will change: the default value of `keepdims` will become False, the `axis` over which the statistic is taken will be eliminated, and the value None will no longer be accepted. Set `keepdims` to True or False to avoid this warning.\n",
      "  mode, _ = stats.mode(_y[neigh_ind, k], axis=1)\n"
     ]
    },
    {
     "name": "stdout",
     "output_type": "stream",
     "text": [
      "[CV 1/5; 70/72] END clf__estimator=KNeighborsClassifier(), tfidf__use_idf=False, vect__max_df=1.0, vect__max_features=5000, vect__ngram_range=(1, 2);, score=0.191 total time=   2.8s\n",
      "[CV 2/5; 70/72] START clf__estimator=KNeighborsClassifier(), tfidf__use_idf=False, vect__max_df=1.0, vect__max_features=5000, vect__ngram_range=(1, 2)\n"
     ]
    },
    {
     "name": "stderr",
     "output_type": "stream",
     "text": [
      "C:\\ProgramData\\Anaconda3\\lib\\site-packages\\sklearn\\neighbors\\_classification.py:228: FutureWarning: Unlike other reduction functions (e.g. `skew`, `kurtosis`), the default behavior of `mode` typically preserves the axis it acts along. In SciPy 1.11.0, this behavior will change: the default value of `keepdims` will become False, the `axis` over which the statistic is taken will be eliminated, and the value None will no longer be accepted. Set `keepdims` to True or False to avoid this warning.\n",
      "  mode, _ = stats.mode(_y[neigh_ind, k], axis=1)\n"
     ]
    },
    {
     "name": "stdout",
     "output_type": "stream",
     "text": [
      "[CV 2/5; 70/72] END clf__estimator=KNeighborsClassifier(), tfidf__use_idf=False, vect__max_df=1.0, vect__max_features=5000, vect__ngram_range=(1, 2);, score=0.160 total time=   2.9s\n",
      "[CV 3/5; 70/72] START clf__estimator=KNeighborsClassifier(), tfidf__use_idf=False, vect__max_df=1.0, vect__max_features=5000, vect__ngram_range=(1, 2)\n"
     ]
    },
    {
     "name": "stderr",
     "output_type": "stream",
     "text": [
      "C:\\ProgramData\\Anaconda3\\lib\\site-packages\\sklearn\\neighbors\\_classification.py:228: FutureWarning: Unlike other reduction functions (e.g. `skew`, `kurtosis`), the default behavior of `mode` typically preserves the axis it acts along. In SciPy 1.11.0, this behavior will change: the default value of `keepdims` will become False, the `axis` over which the statistic is taken will be eliminated, and the value None will no longer be accepted. Set `keepdims` to True or False to avoid this warning.\n",
      "  mode, _ = stats.mode(_y[neigh_ind, k], axis=1)\n"
     ]
    },
    {
     "name": "stdout",
     "output_type": "stream",
     "text": [
      "[CV 3/5; 70/72] END clf__estimator=KNeighborsClassifier(), tfidf__use_idf=False, vect__max_df=1.0, vect__max_features=5000, vect__ngram_range=(1, 2);, score=0.139 total time=   2.8s\n",
      "[CV 4/5; 70/72] START clf__estimator=KNeighborsClassifier(), tfidf__use_idf=False, vect__max_df=1.0, vect__max_features=5000, vect__ngram_range=(1, 2)\n"
     ]
    },
    {
     "name": "stderr",
     "output_type": "stream",
     "text": [
      "C:\\ProgramData\\Anaconda3\\lib\\site-packages\\sklearn\\neighbors\\_classification.py:228: FutureWarning: Unlike other reduction functions (e.g. `skew`, `kurtosis`), the default behavior of `mode` typically preserves the axis it acts along. In SciPy 1.11.0, this behavior will change: the default value of `keepdims` will become False, the `axis` over which the statistic is taken will be eliminated, and the value None will no longer be accepted. Set `keepdims` to True or False to avoid this warning.\n",
      "  mode, _ = stats.mode(_y[neigh_ind, k], axis=1)\n"
     ]
    },
    {
     "name": "stdout",
     "output_type": "stream",
     "text": [
      "[CV 4/5; 70/72] END clf__estimator=KNeighborsClassifier(), tfidf__use_idf=False, vect__max_df=1.0, vect__max_features=5000, vect__ngram_range=(1, 2);, score=0.160 total time=   2.8s\n",
      "[CV 5/5; 70/72] START clf__estimator=KNeighborsClassifier(), tfidf__use_idf=False, vect__max_df=1.0, vect__max_features=5000, vect__ngram_range=(1, 2)\n"
     ]
    },
    {
     "name": "stderr",
     "output_type": "stream",
     "text": [
      "C:\\ProgramData\\Anaconda3\\lib\\site-packages\\sklearn\\neighbors\\_classification.py:228: FutureWarning: Unlike other reduction functions (e.g. `skew`, `kurtosis`), the default behavior of `mode` typically preserves the axis it acts along. In SciPy 1.11.0, this behavior will change: the default value of `keepdims` will become False, the `axis` over which the statistic is taken will be eliminated, and the value None will no longer be accepted. Set `keepdims` to True or False to avoid this warning.\n",
      "  mode, _ = stats.mode(_y[neigh_ind, k], axis=1)\n"
     ]
    },
    {
     "name": "stdout",
     "output_type": "stream",
     "text": [
      "[CV 5/5; 70/72] END clf__estimator=KNeighborsClassifier(), tfidf__use_idf=False, vect__max_df=1.0, vect__max_features=5000, vect__ngram_range=(1, 2);, score=0.165 total time=   2.8s\n",
      "[CV 1/5; 71/72] START clf__estimator=KNeighborsClassifier(), tfidf__use_idf=False, vect__max_df=1.0, vect__max_features=10000, vect__ngram_range=(1, 1)\n"
     ]
    },
    {
     "name": "stderr",
     "output_type": "stream",
     "text": [
      "C:\\ProgramData\\Anaconda3\\lib\\site-packages\\sklearn\\neighbors\\_classification.py:228: FutureWarning: Unlike other reduction functions (e.g. `skew`, `kurtosis`), the default behavior of `mode` typically preserves the axis it acts along. In SciPy 1.11.0, this behavior will change: the default value of `keepdims` will become False, the `axis` over which the statistic is taken will be eliminated, and the value None will no longer be accepted. Set `keepdims` to True or False to avoid this warning.\n",
      "  mode, _ = stats.mode(_y[neigh_ind, k], axis=1)\n"
     ]
    },
    {
     "name": "stdout",
     "output_type": "stream",
     "text": [
      "[CV 1/5; 71/72] END clf__estimator=KNeighborsClassifier(), tfidf__use_idf=False, vect__max_df=1.0, vect__max_features=10000, vect__ngram_range=(1, 1);, score=0.153 total time=   2.6s\n",
      "[CV 2/5; 71/72] START clf__estimator=KNeighborsClassifier(), tfidf__use_idf=False, vect__max_df=1.0, vect__max_features=10000, vect__ngram_range=(1, 1)\n"
     ]
    },
    {
     "name": "stderr",
     "output_type": "stream",
     "text": [
      "C:\\ProgramData\\Anaconda3\\lib\\site-packages\\sklearn\\neighbors\\_classification.py:228: FutureWarning: Unlike other reduction functions (e.g. `skew`, `kurtosis`), the default behavior of `mode` typically preserves the axis it acts along. In SciPy 1.11.0, this behavior will change: the default value of `keepdims` will become False, the `axis` over which the statistic is taken will be eliminated, and the value None will no longer be accepted. Set `keepdims` to True or False to avoid this warning.\n",
      "  mode, _ = stats.mode(_y[neigh_ind, k], axis=1)\n"
     ]
    },
    {
     "name": "stdout",
     "output_type": "stream",
     "text": [
      "[CV 2/5; 71/72] END clf__estimator=KNeighborsClassifier(), tfidf__use_idf=False, vect__max_df=1.0, vect__max_features=10000, vect__ngram_range=(1, 1);, score=0.133 total time=   2.7s\n",
      "[CV 3/5; 71/72] START clf__estimator=KNeighborsClassifier(), tfidf__use_idf=False, vect__max_df=1.0, vect__max_features=10000, vect__ngram_range=(1, 1)\n"
     ]
    },
    {
     "name": "stderr",
     "output_type": "stream",
     "text": [
      "C:\\ProgramData\\Anaconda3\\lib\\site-packages\\sklearn\\neighbors\\_classification.py:228: FutureWarning: Unlike other reduction functions (e.g. `skew`, `kurtosis`), the default behavior of `mode` typically preserves the axis it acts along. In SciPy 1.11.0, this behavior will change: the default value of `keepdims` will become False, the `axis` over which the statistic is taken will be eliminated, and the value None will no longer be accepted. Set `keepdims` to True or False to avoid this warning.\n",
      "  mode, _ = stats.mode(_y[neigh_ind, k], axis=1)\n"
     ]
    },
    {
     "name": "stdout",
     "output_type": "stream",
     "text": [
      "[CV 3/5; 71/72] END clf__estimator=KNeighborsClassifier(), tfidf__use_idf=False, vect__max_df=1.0, vect__max_features=10000, vect__ngram_range=(1, 1);, score=0.131 total time=   2.8s\n",
      "[CV 4/5; 71/72] START clf__estimator=KNeighborsClassifier(), tfidf__use_idf=False, vect__max_df=1.0, vect__max_features=10000, vect__ngram_range=(1, 1)\n"
     ]
    },
    {
     "name": "stderr",
     "output_type": "stream",
     "text": [
      "C:\\ProgramData\\Anaconda3\\lib\\site-packages\\sklearn\\neighbors\\_classification.py:228: FutureWarning: Unlike other reduction functions (e.g. `skew`, `kurtosis`), the default behavior of `mode` typically preserves the axis it acts along. In SciPy 1.11.0, this behavior will change: the default value of `keepdims` will become False, the `axis` over which the statistic is taken will be eliminated, and the value None will no longer be accepted. Set `keepdims` to True or False to avoid this warning.\n",
      "  mode, _ = stats.mode(_y[neigh_ind, k], axis=1)\n"
     ]
    },
    {
     "name": "stdout",
     "output_type": "stream",
     "text": [
      "[CV 4/5; 71/72] END clf__estimator=KNeighborsClassifier(), tfidf__use_idf=False, vect__max_df=1.0, vect__max_features=10000, vect__ngram_range=(1, 1);, score=0.128 total time=   2.7s\n",
      "[CV 5/5; 71/72] START clf__estimator=KNeighborsClassifier(), tfidf__use_idf=False, vect__max_df=1.0, vect__max_features=10000, vect__ngram_range=(1, 1)\n"
     ]
    },
    {
     "name": "stderr",
     "output_type": "stream",
     "text": [
      "C:\\ProgramData\\Anaconda3\\lib\\site-packages\\sklearn\\neighbors\\_classification.py:228: FutureWarning: Unlike other reduction functions (e.g. `skew`, `kurtosis`), the default behavior of `mode` typically preserves the axis it acts along. In SciPy 1.11.0, this behavior will change: the default value of `keepdims` will become False, the `axis` over which the statistic is taken will be eliminated, and the value None will no longer be accepted. Set `keepdims` to True or False to avoid this warning.\n",
      "  mode, _ = stats.mode(_y[neigh_ind, k], axis=1)\n"
     ]
    },
    {
     "name": "stdout",
     "output_type": "stream",
     "text": [
      "[CV 5/5; 71/72] END clf__estimator=KNeighborsClassifier(), tfidf__use_idf=False, vect__max_df=1.0, vect__max_features=10000, vect__ngram_range=(1, 1);, score=0.157 total time=   2.7s\n",
      "[CV 1/5; 72/72] START clf__estimator=KNeighborsClassifier(), tfidf__use_idf=False, vect__max_df=1.0, vect__max_features=10000, vect__ngram_range=(1, 2)\n"
     ]
    },
    {
     "name": "stderr",
     "output_type": "stream",
     "text": [
      "C:\\ProgramData\\Anaconda3\\lib\\site-packages\\sklearn\\neighbors\\_classification.py:228: FutureWarning: Unlike other reduction functions (e.g. `skew`, `kurtosis`), the default behavior of `mode` typically preserves the axis it acts along. In SciPy 1.11.0, this behavior will change: the default value of `keepdims` will become False, the `axis` over which the statistic is taken will be eliminated, and the value None will no longer be accepted. Set `keepdims` to True or False to avoid this warning.\n",
      "  mode, _ = stats.mode(_y[neigh_ind, k], axis=1)\n"
     ]
    },
    {
     "name": "stdout",
     "output_type": "stream",
     "text": [
      "[CV 1/5; 72/72] END clf__estimator=KNeighborsClassifier(), tfidf__use_idf=False, vect__max_df=1.0, vect__max_features=10000, vect__ngram_range=(1, 2);, score=0.175 total time=   2.8s\n",
      "[CV 2/5; 72/72] START clf__estimator=KNeighborsClassifier(), tfidf__use_idf=False, vect__max_df=1.0, vect__max_features=10000, vect__ngram_range=(1, 2)\n"
     ]
    },
    {
     "name": "stderr",
     "output_type": "stream",
     "text": [
      "C:\\ProgramData\\Anaconda3\\lib\\site-packages\\sklearn\\neighbors\\_classification.py:228: FutureWarning: Unlike other reduction functions (e.g. `skew`, `kurtosis`), the default behavior of `mode` typically preserves the axis it acts along. In SciPy 1.11.0, this behavior will change: the default value of `keepdims` will become False, the `axis` over which the statistic is taken will be eliminated, and the value None will no longer be accepted. Set `keepdims` to True or False to avoid this warning.\n",
      "  mode, _ = stats.mode(_y[neigh_ind, k], axis=1)\n"
     ]
    },
    {
     "name": "stdout",
     "output_type": "stream",
     "text": [
      "[CV 2/5; 72/72] END clf__estimator=KNeighborsClassifier(), tfidf__use_idf=False, vect__max_df=1.0, vect__max_features=10000, vect__ngram_range=(1, 2);, score=0.172 total time=   2.8s\n",
      "[CV 3/5; 72/72] START clf__estimator=KNeighborsClassifier(), tfidf__use_idf=False, vect__max_df=1.0, vect__max_features=10000, vect__ngram_range=(1, 2)\n"
     ]
    },
    {
     "name": "stderr",
     "output_type": "stream",
     "text": [
      "C:\\ProgramData\\Anaconda3\\lib\\site-packages\\sklearn\\neighbors\\_classification.py:228: FutureWarning: Unlike other reduction functions (e.g. `skew`, `kurtosis`), the default behavior of `mode` typically preserves the axis it acts along. In SciPy 1.11.0, this behavior will change: the default value of `keepdims` will become False, the `axis` over which the statistic is taken will be eliminated, and the value None will no longer be accepted. Set `keepdims` to True or False to avoid this warning.\n",
      "  mode, _ = stats.mode(_y[neigh_ind, k], axis=1)\n"
     ]
    },
    {
     "name": "stdout",
     "output_type": "stream",
     "text": [
      "[CV 3/5; 72/72] END clf__estimator=KNeighborsClassifier(), tfidf__use_idf=False, vect__max_df=1.0, vect__max_features=10000, vect__ngram_range=(1, 2);, score=0.136 total time=   3.0s\n",
      "[CV 4/5; 72/72] START clf__estimator=KNeighborsClassifier(), tfidf__use_idf=False, vect__max_df=1.0, vect__max_features=10000, vect__ngram_range=(1, 2)\n"
     ]
    },
    {
     "name": "stderr",
     "output_type": "stream",
     "text": [
      "C:\\ProgramData\\Anaconda3\\lib\\site-packages\\sklearn\\neighbors\\_classification.py:228: FutureWarning: Unlike other reduction functions (e.g. `skew`, `kurtosis`), the default behavior of `mode` typically preserves the axis it acts along. In SciPy 1.11.0, this behavior will change: the default value of `keepdims` will become False, the `axis` over which the statistic is taken will be eliminated, and the value None will no longer be accepted. Set `keepdims` to True or False to avoid this warning.\n",
      "  mode, _ = stats.mode(_y[neigh_ind, k], axis=1)\n"
     ]
    },
    {
     "name": "stdout",
     "output_type": "stream",
     "text": [
      "[CV 4/5; 72/72] END clf__estimator=KNeighborsClassifier(), tfidf__use_idf=False, vect__max_df=1.0, vect__max_features=10000, vect__ngram_range=(1, 2);, score=0.144 total time=   2.9s\n",
      "[CV 5/5; 72/72] START clf__estimator=KNeighborsClassifier(), tfidf__use_idf=False, vect__max_df=1.0, vect__max_features=10000, vect__ngram_range=(1, 2)\n"
     ]
    },
    {
     "name": "stderr",
     "output_type": "stream",
     "text": [
      "C:\\ProgramData\\Anaconda3\\lib\\site-packages\\sklearn\\neighbors\\_classification.py:228: FutureWarning: Unlike other reduction functions (e.g. `skew`, `kurtosis`), the default behavior of `mode` typically preserves the axis it acts along. In SciPy 1.11.0, this behavior will change: the default value of `keepdims` will become False, the `axis` over which the statistic is taken will be eliminated, and the value None will no longer be accepted. Set `keepdims` to True or False to avoid this warning.\n",
      "  mode, _ = stats.mode(_y[neigh_ind, k], axis=1)\n"
     ]
    },
    {
     "name": "stdout",
     "output_type": "stream",
     "text": [
      "[CV 5/5; 72/72] END clf__estimator=KNeighborsClassifier(), tfidf__use_idf=False, vect__max_df=1.0, vect__max_features=10000, vect__ngram_range=(1, 2);, score=0.159 total time=   2.8s\n"
     ]
    },
    {
     "data": {
      "text/plain": [
       "GridSearchCV(estimator=Pipeline(steps=[('vect',\n",
       "                                        CountVectorizer(tokenizer=<function tokenize at 0x00000287672E7040>)),\n",
       "                                       ('tfidf', TfidfTransformer()),\n",
       "                                       ('clf',\n",
       "                                        MultiOutputClassifier(estimator=DecisionTreeClassifier()))]),\n",
       "             param_grid={'clf__estimator': [DecisionTreeClassifier(),\n",
       "                                            KNeighborsClassifier()],\n",
       "                         'tfidf__use_idf': (True, False),\n",
       "                         'vect__max_df': (0.5, 0.75, 1.0),\n",
       "                         'vect__max_features': (None, 5000, 10000),\n",
       "                         'vect__ngram_range': ((1, 1), (1, 2))},\n",
       "             verbose=20)"
      ]
     },
     "execution_count": 23,
     "metadata": {},
     "output_type": "execute_result"
    }
   ],
   "source": [
    "cv.fit(X_train, Y_train)"
   ]
  },
  {
   "cell_type": "code",
   "execution_count": 24,
   "metadata": {},
   "outputs": [],
   "source": [
    "pickle.dump(cv, open('disaster_recovery_gridsearch.pkl', 'wb'))"
   ]
  },
  {
   "cell_type": "code",
   "execution_count": 25,
   "metadata": {},
   "outputs": [],
   "source": [
    "pickle.dump(cv, open('classifier.pkl', 'wb'))"
   ]
  },
  {
   "cell_type": "markdown",
   "metadata": {},
   "source": [
    "### 7. Test your model\n",
    "Show the accuracy, precision, and recall of the tuned model.  \n",
    "\n",
    "Since this project focuses on code quality, process, and  pipelines, there is no minimum performance metric needed to pass. However, make sure to fine tune your models for accuracy, precision and recall to make your project stand out - especially for your portfolio!"
   ]
  },
  {
   "cell_type": "code",
   "execution_count": 26,
   "metadata": {},
   "outputs": [],
   "source": [
    "cv = pickle.load(open('disaster_recovery_gridsearch.pkl', 'rb'))"
   ]
  },
  {
   "cell_type": "code",
   "execution_count": 33,
   "metadata": {
    "scrolled": true,
    "tags": []
   },
   "outputs": [
    {
     "name": "stderr",
     "output_type": "stream",
     "text": [
      "C:\\ProgramData\\Anaconda3\\lib\\site-packages\\sklearn\\neighbors\\_classification.py:228: FutureWarning: Unlike other reduction functions (e.g. `skew`, `kurtosis`), the default behavior of `mode` typically preserves the axis it acts along. In SciPy 1.11.0, this behavior will change: the default value of `keepdims` will become False, the `axis` over which the statistic is taken will be eliminated, and the value None will no longer be accepted. Set `keepdims` to True or False to avoid this warning.\n",
      "  mode, _ = stats.mode(_y[neigh_ind, k], axis=1)\n"
     ]
    }
   ],
   "source": [
    "Y_pred_cv = cv.predict(X_test)"
   ]
  },
  {
   "cell_type": "code",
   "execution_count": 34,
   "metadata": {
    "scrolled": true,
    "tags": []
   },
   "outputs": [
    {
     "name": "stderr",
     "output_type": "stream",
     "text": [
      "C:\\ProgramData\\Anaconda3\\lib\\site-packages\\sklearn\\metrics\\_classification.py:1318: UndefinedMetricWarning: Precision and F-score are ill-defined and being set to 0.0 in labels with no predicted samples. Use `zero_division` parameter to control this behavior.\n",
      "  _warn_prf(average, modifier, msg_start, len(result))\n",
      "C:\\ProgramData\\Anaconda3\\lib\\site-packages\\sklearn\\metrics\\_classification.py:1318: UndefinedMetricWarning: Precision and F-score are ill-defined and being set to 0.0 in labels with no predicted samples. Use `zero_division` parameter to control this behavior.\n",
      "  _warn_prf(average, modifier, msg_start, len(result))\n",
      "C:\\ProgramData\\Anaconda3\\lib\\site-packages\\sklearn\\metrics\\_classification.py:1318: UndefinedMetricWarning: Precision and F-score are ill-defined and being set to 0.0 in labels with no predicted samples. Use `zero_division` parameter to control this behavior.\n",
      "  _warn_prf(average, modifier, msg_start, len(result))\n",
      "C:\\ProgramData\\Anaconda3\\lib\\site-packages\\sklearn\\metrics\\_classification.py:1318: UndefinedMetricWarning: Precision and F-score are ill-defined and being set to 0.0 in labels with no predicted samples. Use `zero_division` parameter to control this behavior.\n",
      "  _warn_prf(average, modifier, msg_start, len(result))\n",
      "C:\\ProgramData\\Anaconda3\\lib\\site-packages\\sklearn\\metrics\\_classification.py:1318: UndefinedMetricWarning: Precision and F-score are ill-defined and being set to 0.0 in labels with no predicted samples. Use `zero_division` parameter to control this behavior.\n",
      "  _warn_prf(average, modifier, msg_start, len(result))\n",
      "C:\\ProgramData\\Anaconda3\\lib\\site-packages\\sklearn\\metrics\\_classification.py:1318: UndefinedMetricWarning: Precision and F-score are ill-defined and being set to 0.0 in labels with no predicted samples. Use `zero_division` parameter to control this behavior.\n",
      "  _warn_prf(average, modifier, msg_start, len(result))\n",
      "C:\\ProgramData\\Anaconda3\\lib\\site-packages\\sklearn\\metrics\\_classification.py:1318: UndefinedMetricWarning: Precision and F-score are ill-defined and being set to 0.0 in labels with no predicted samples. Use `zero_division` parameter to control this behavior.\n",
      "  _warn_prf(average, modifier, msg_start, len(result))\n",
      "C:\\ProgramData\\Anaconda3\\lib\\site-packages\\sklearn\\metrics\\_classification.py:1318: UndefinedMetricWarning: Precision and F-score are ill-defined and being set to 0.0 in labels with no predicted samples. Use `zero_division` parameter to control this behavior.\n",
      "  _warn_prf(average, modifier, msg_start, len(result))\n",
      "C:\\ProgramData\\Anaconda3\\lib\\site-packages\\sklearn\\metrics\\_classification.py:1318: UndefinedMetricWarning: Precision and F-score are ill-defined and being set to 0.0 in labels with no predicted samples. Use `zero_division` parameter to control this behavior.\n",
      "  _warn_prf(average, modifier, msg_start, len(result))\n",
      "C:\\ProgramData\\Anaconda3\\lib\\site-packages\\sklearn\\metrics\\_classification.py:1318: UndefinedMetricWarning: Precision and F-score are ill-defined and being set to 0.0 in labels with no predicted samples. Use `zero_division` parameter to control this behavior.\n",
      "  _warn_prf(average, modifier, msg_start, len(result))\n",
      "C:\\ProgramData\\Anaconda3\\lib\\site-packages\\sklearn\\metrics\\_classification.py:1318: UndefinedMetricWarning: Precision and F-score are ill-defined and being set to 0.0 in labels with no predicted samples. Use `zero_division` parameter to control this behavior.\n",
      "  _warn_prf(average, modifier, msg_start, len(result))\n",
      "C:\\ProgramData\\Anaconda3\\lib\\site-packages\\sklearn\\metrics\\_classification.py:1318: UndefinedMetricWarning: Precision and F-score are ill-defined and being set to 0.0 in labels with no predicted samples. Use `zero_division` parameter to control this behavior.\n",
      "  _warn_prf(average, modifier, msg_start, len(result))\n",
      "C:\\ProgramData\\Anaconda3\\lib\\site-packages\\sklearn\\metrics\\_classification.py:1318: UndefinedMetricWarning: Precision and F-score are ill-defined and being set to 0.0 in labels with no predicted samples. Use `zero_division` parameter to control this behavior.\n",
      "  _warn_prf(average, modifier, msg_start, len(result))\n",
      "C:\\ProgramData\\Anaconda3\\lib\\site-packages\\sklearn\\metrics\\_classification.py:1318: UndefinedMetricWarning: Precision and F-score are ill-defined and being set to 0.0 in labels with no predicted samples. Use `zero_division` parameter to control this behavior.\n",
      "  _warn_prf(average, modifier, msg_start, len(result))\n",
      "C:\\ProgramData\\Anaconda3\\lib\\site-packages\\sklearn\\metrics\\_classification.py:1318: UndefinedMetricWarning: Precision and F-score are ill-defined and being set to 0.0 in labels with no predicted samples. Use `zero_division` parameter to control this behavior.\n",
      "  _warn_prf(average, modifier, msg_start, len(result))\n",
      "C:\\ProgramData\\Anaconda3\\lib\\site-packages\\sklearn\\metrics\\_classification.py:1318: UndefinedMetricWarning: Precision and F-score are ill-defined and being set to 0.0 in labels with no predicted samples. Use `zero_division` parameter to control this behavior.\n",
      "  _warn_prf(average, modifier, msg_start, len(result))\n",
      "C:\\ProgramData\\Anaconda3\\lib\\site-packages\\sklearn\\metrics\\_classification.py:1318: UndefinedMetricWarning: Precision and F-score are ill-defined and being set to 0.0 in labels with no predicted samples. Use `zero_division` parameter to control this behavior.\n",
      "  _warn_prf(average, modifier, msg_start, len(result))\n",
      "C:\\ProgramData\\Anaconda3\\lib\\site-packages\\sklearn\\metrics\\_classification.py:1318: UndefinedMetricWarning: Precision and F-score are ill-defined and being set to 0.0 in labels with no predicted samples. Use `zero_division` parameter to control this behavior.\n",
      "  _warn_prf(average, modifier, msg_start, len(result))\n",
      "C:\\ProgramData\\Anaconda3\\lib\\site-packages\\sklearn\\metrics\\_classification.py:1318: UndefinedMetricWarning: Precision and F-score are ill-defined and being set to 0.0 in labels with no predicted samples. Use `zero_division` parameter to control this behavior.\n",
      "  _warn_prf(average, modifier, msg_start, len(result))\n",
      "C:\\ProgramData\\Anaconda3\\lib\\site-packages\\sklearn\\metrics\\_classification.py:1318: UndefinedMetricWarning: Precision and F-score are ill-defined and being set to 0.0 in labels with no predicted samples. Use `zero_division` parameter to control this behavior.\n",
      "  _warn_prf(average, modifier, msg_start, len(result))\n",
      "C:\\ProgramData\\Anaconda3\\lib\\site-packages\\sklearn\\metrics\\_classification.py:1318: UndefinedMetricWarning: Precision and F-score are ill-defined and being set to 0.0 in labels with no predicted samples. Use `zero_division` parameter to control this behavior.\n",
      "  _warn_prf(average, modifier, msg_start, len(result))\n",
      "C:\\ProgramData\\Anaconda3\\lib\\site-packages\\sklearn\\metrics\\_classification.py:1318: UndefinedMetricWarning: Precision and F-score are ill-defined and being set to 0.0 in labels with no predicted samples. Use `zero_division` parameter to control this behavior.\n",
      "  _warn_prf(average, modifier, msg_start, len(result))\n",
      "C:\\ProgramData\\Anaconda3\\lib\\site-packages\\sklearn\\metrics\\_classification.py:1318: UndefinedMetricWarning: Precision and F-score are ill-defined and being set to 0.0 in labels with no predicted samples. Use `zero_division` parameter to control this behavior.\n",
      "  _warn_prf(average, modifier, msg_start, len(result))\n",
      "C:\\ProgramData\\Anaconda3\\lib\\site-packages\\sklearn\\metrics\\_classification.py:1318: UndefinedMetricWarning: Precision and F-score are ill-defined and being set to 0.0 in labels with no predicted samples. Use `zero_division` parameter to control this behavior.\n",
      "  _warn_prf(average, modifier, msg_start, len(result))\n",
      "C:\\ProgramData\\Anaconda3\\lib\\site-packages\\sklearn\\metrics\\_classification.py:1318: UndefinedMetricWarning: Precision and F-score are ill-defined and being set to 0.0 in labels with no predicted samples. Use `zero_division` parameter to control this behavior.\n",
      "  _warn_prf(average, modifier, msg_start, len(result))\n",
      "C:\\ProgramData\\Anaconda3\\lib\\site-packages\\sklearn\\metrics\\_classification.py:1318: UndefinedMetricWarning: Precision and F-score are ill-defined and being set to 0.0 in labels with no predicted samples. Use `zero_division` parameter to control this behavior.\n",
      "  _warn_prf(average, modifier, msg_start, len(result))\n",
      "C:\\ProgramData\\Anaconda3\\lib\\site-packages\\sklearn\\metrics\\_classification.py:1318: UndefinedMetricWarning: Precision and F-score are ill-defined and being set to 0.0 in labels with no predicted samples. Use `zero_division` parameter to control this behavior.\n",
      "  _warn_prf(average, modifier, msg_start, len(result))\n",
      "C:\\ProgramData\\Anaconda3\\lib\\site-packages\\sklearn\\metrics\\_classification.py:1318: UndefinedMetricWarning: Precision and F-score are ill-defined and being set to 0.0 in labels with no predicted samples. Use `zero_division` parameter to control this behavior.\n",
      "  _warn_prf(average, modifier, msg_start, len(result))\n",
      "C:\\ProgramData\\Anaconda3\\lib\\site-packages\\sklearn\\metrics\\_classification.py:1318: UndefinedMetricWarning: Precision and F-score are ill-defined and being set to 0.0 in labels with no predicted samples. Use `zero_division` parameter to control this behavior.\n",
      "  _warn_prf(average, modifier, msg_start, len(result))\n",
      "C:\\ProgramData\\Anaconda3\\lib\\site-packages\\sklearn\\metrics\\_classification.py:1318: UndefinedMetricWarning: Precision and F-score are ill-defined and being set to 0.0 in labels with no predicted samples. Use `zero_division` parameter to control this behavior.\n",
      "  _warn_prf(average, modifier, msg_start, len(result))\n",
      "C:\\ProgramData\\Anaconda3\\lib\\site-packages\\sklearn\\metrics\\_classification.py:1318: UndefinedMetricWarning: Precision and F-score are ill-defined and being set to 0.0 in labels with no predicted samples. Use `zero_division` parameter to control this behavior.\n",
      "  _warn_prf(average, modifier, msg_start, len(result))\n",
      "C:\\ProgramData\\Anaconda3\\lib\\site-packages\\sklearn\\metrics\\_classification.py:1318: UndefinedMetricWarning: Precision and F-score are ill-defined and being set to 0.0 in labels with no predicted samples. Use `zero_division` parameter to control this behavior.\n",
      "  _warn_prf(average, modifier, msg_start, len(result))\n",
      "C:\\ProgramData\\Anaconda3\\lib\\site-packages\\sklearn\\metrics\\_classification.py:1318: UndefinedMetricWarning: Precision and F-score are ill-defined and being set to 0.0 in labels with no predicted samples. Use `zero_division` parameter to control this behavior.\n",
      "  _warn_prf(average, modifier, msg_start, len(result))\n",
      "C:\\ProgramData\\Anaconda3\\lib\\site-packages\\sklearn\\metrics\\_classification.py:1318: UndefinedMetricWarning: Precision and F-score are ill-defined and being set to 0.0 in labels with no predicted samples. Use `zero_division` parameter to control this behavior.\n",
      "  _warn_prf(average, modifier, msg_start, len(result))\n",
      "C:\\ProgramData\\Anaconda3\\lib\\site-packages\\sklearn\\metrics\\_classification.py:1318: UndefinedMetricWarning: Precision and F-score are ill-defined and being set to 0.0 in labels with no predicted samples. Use `zero_division` parameter to control this behavior.\n",
      "  _warn_prf(average, modifier, msg_start, len(result))\n",
      "C:\\ProgramData\\Anaconda3\\lib\\site-packages\\sklearn\\metrics\\_classification.py:1318: UndefinedMetricWarning: Precision and F-score are ill-defined and being set to 0.0 in labels with no predicted samples. Use `zero_division` parameter to control this behavior.\n",
      "  _warn_prf(average, modifier, msg_start, len(result))\n",
      "C:\\ProgramData\\Anaconda3\\lib\\site-packages\\sklearn\\metrics\\_classification.py:1318: UndefinedMetricWarning: Precision and F-score are ill-defined and being set to 0.0 in labels with no predicted samples. Use `zero_division` parameter to control this behavior.\n",
      "  _warn_prf(average, modifier, msg_start, len(result))\n",
      "C:\\ProgramData\\Anaconda3\\lib\\site-packages\\sklearn\\metrics\\_classification.py:1318: UndefinedMetricWarning: Precision and F-score are ill-defined and being set to 0.0 in labels with no predicted samples. Use `zero_division` parameter to control this behavior.\n",
      "  _warn_prf(average, modifier, msg_start, len(result))\n",
      "C:\\ProgramData\\Anaconda3\\lib\\site-packages\\sklearn\\metrics\\_classification.py:1318: UndefinedMetricWarning: Precision and F-score are ill-defined and being set to 0.0 in labels with no predicted samples. Use `zero_division` parameter to control this behavior.\n",
      "  _warn_prf(average, modifier, msg_start, len(result))\n",
      "C:\\ProgramData\\Anaconda3\\lib\\site-packages\\sklearn\\metrics\\_classification.py:1318: UndefinedMetricWarning: Precision and F-score are ill-defined and being set to 0.0 in labels with no predicted samples. Use `zero_division` parameter to control this behavior.\n",
      "  _warn_prf(average, modifier, msg_start, len(result))\n",
      "C:\\ProgramData\\Anaconda3\\lib\\site-packages\\sklearn\\metrics\\_classification.py:1318: UndefinedMetricWarning: Precision and F-score are ill-defined and being set to 0.0 in labels with no predicted samples. Use `zero_division` parameter to control this behavior.\n",
      "  _warn_prf(average, modifier, msg_start, len(result))\n",
      "C:\\ProgramData\\Anaconda3\\lib\\site-packages\\sklearn\\metrics\\_classification.py:1318: UndefinedMetricWarning: Precision and F-score are ill-defined and being set to 0.0 in labels with no predicted samples. Use `zero_division` parameter to control this behavior.\n",
      "  _warn_prf(average, modifier, msg_start, len(result))\n"
     ]
    }
   ],
   "source": [
    "report_cv = dict.fromkeys(range_columns, [])\n",
    "for col in range_columns:\n",
    "    Y_test_col = [Y_test[i][col] for i in range_rows_test]\n",
    "    Y_pred_col = [Y_pred_cv[i][col] for i in range_rows_pred]\n",
    "    try:\n",
    "        target_names = np.unique(Y_test_col).astype('str')\n",
    "        report_cv[col] = classification_report(Y_test_col, Y_pred_col, target_names=target_names)\n",
    "    except:\n",
    "        target_names = np.unique(Y_pred_col).astype('str')\n",
    "        report_cv[col] = classification_report(Y_test_col, Y_pred_col, target_names=target_names)"
   ]
  },
  {
   "cell_type": "code",
   "execution_count": 35,
   "metadata": {
    "scrolled": true,
    "tags": []
   },
   "outputs": [
    {
     "name": "stdout",
     "output_type": "stream",
     "text": [
      "              precision    recall  f1-score   support\n",
      "\n",
      "           0       0.77      0.19      0.31       299\n",
      "           1       0.79      0.98      0.88       945\n",
      "           2       0.00      0.00      0.00         5\n",
      "\n",
      "    accuracy                           0.79      1249\n",
      "   macro avg       0.52      0.39      0.40      1249\n",
      "weighted avg       0.78      0.79      0.74      1249\n",
      "\n",
      "              precision    recall  f1-score   support\n",
      "\n",
      "           0       0.87      0.98      0.92      1026\n",
      "           1       0.82      0.34      0.48       223\n",
      "\n",
      "    accuracy                           0.87      1249\n",
      "   macro avg       0.85      0.66      0.70      1249\n",
      "weighted avg       0.86      0.87      0.85      1249\n",
      "\n",
      "              precision    recall  f1-score   support\n",
      "\n",
      "           0       0.99      1.00      1.00      1240\n",
      "           1       0.00      0.00      0.00         9\n",
      "\n",
      "    accuracy                           0.99      1249\n",
      "   macro avg       0.50      0.50      0.50      1249\n",
      "weighted avg       0.99      0.99      0.99      1249\n",
      "\n",
      "              precision    recall  f1-score   support\n",
      "\n",
      "           0       0.65      0.95      0.77       730\n",
      "           1       0.80      0.28      0.42       519\n",
      "\n",
      "    accuracy                           0.67      1249\n",
      "   macro avg       0.73      0.62      0.59      1249\n",
      "weighted avg       0.71      0.67      0.62      1249\n",
      "\n",
      "              precision    recall  f1-score   support\n",
      "\n",
      "           0       0.94      1.00      0.97      1158\n",
      "           1       0.85      0.12      0.21        91\n",
      "\n",
      "    accuracy                           0.93      1249\n",
      "   macro avg       0.89      0.56      0.59      1249\n",
      "weighted avg       0.93      0.93      0.91      1249\n",
      "\n",
      "              precision    recall  f1-score   support\n",
      "\n",
      "           0       0.95      1.00      0.98      1190\n",
      "           1       0.50      0.03      0.06        59\n",
      "\n",
      "    accuracy                           0.95      1249\n",
      "   macro avg       0.73      0.52      0.52      1249\n",
      "weighted avg       0.93      0.95      0.93      1249\n",
      "\n",
      "              precision    recall  f1-score   support\n",
      "\n",
      "           0       0.97      1.00      0.98      1208\n",
      "           1       0.00      0.00      0.00        41\n",
      "\n",
      "    accuracy                           0.97      1249\n",
      "   macro avg       0.48      0.50      0.49      1249\n",
      "weighted avg       0.94      0.97      0.95      1249\n",
      "\n",
      "              precision    recall  f1-score   support\n",
      "\n",
      "           0       0.98      1.00      0.99      1220\n",
      "           1       0.00      0.00      0.00        29\n",
      "\n",
      "    accuracy                           0.98      1249\n",
      "   macro avg       0.49      0.50      0.49      1249\n",
      "weighted avg       0.95      0.98      0.97      1249\n",
      "\n",
      "              precision    recall  f1-score   support\n",
      "\n",
      "           0       0.97      1.00      0.98      1211\n",
      "           1       1.00      0.03      0.05        38\n",
      "\n",
      "    accuracy                           0.97      1249\n",
      "   macro avg       0.99      0.51      0.52      1249\n",
      "weighted avg       0.97      0.97      0.96      1249\n",
      "\n",
      "              precision    recall  f1-score   support\n",
      "\n",
      "           0       1.00      1.00      1.00      1249\n",
      "\n",
      "    accuracy                           1.00      1249\n",
      "   macro avg       1.00      1.00      1.00      1249\n",
      "weighted avg       1.00      1.00      1.00      1249\n",
      "\n",
      "              precision    recall  f1-score   support\n",
      "\n",
      "           0       0.95      1.00      0.97      1174\n",
      "           1       0.82      0.12      0.21        75\n",
      "\n",
      "    accuracy                           0.95      1249\n",
      "   macro avg       0.88      0.56      0.59      1249\n",
      "weighted avg       0.94      0.95      0.93      1249\n",
      "\n",
      "              precision    recall  f1-score   support\n",
      "\n",
      "           0       0.90      0.99      0.94      1096\n",
      "           1       0.79      0.22      0.34       153\n",
      "\n",
      "    accuracy                           0.90      1249\n",
      "   macro avg       0.84      0.60      0.64      1249\n",
      "weighted avg       0.89      0.90      0.87      1249\n",
      "\n",
      "              precision    recall  f1-score   support\n",
      "\n",
      "           0       0.92      0.99      0.95      1137\n",
      "           1       0.63      0.11      0.18       112\n",
      "\n",
      "    accuracy                           0.91      1249\n",
      "   macro avg       0.78      0.55      0.57      1249\n",
      "weighted avg       0.89      0.91      0.89      1249\n",
      "\n",
      "              precision    recall  f1-score   support\n",
      "\n",
      "           0       0.99      1.00      0.99      1233\n",
      "           1       0.00      0.00      0.00        16\n",
      "\n",
      "    accuracy                           0.99      1249\n",
      "   macro avg       0.49      0.50      0.50      1249\n",
      "weighted avg       0.97      0.99      0.98      1249\n",
      "\n",
      "              precision    recall  f1-score   support\n",
      "\n",
      "           0       0.98      1.00      0.99      1224\n",
      "           1       0.50      0.04      0.07        25\n",
      "\n",
      "    accuracy                           0.98      1249\n",
      "   macro avg       0.74      0.52      0.53      1249\n",
      "weighted avg       0.97      0.98      0.97      1249\n",
      "\n",
      "              precision    recall  f1-score   support\n",
      "\n",
      "           0       0.99      1.00      1.00      1237\n",
      "           1       0.00      0.00      0.00        12\n",
      "\n",
      "    accuracy                           0.99      1249\n",
      "   macro avg       0.50      0.50      0.50      1249\n",
      "weighted avg       0.98      0.99      0.99      1249\n",
      "\n",
      "              precision    recall  f1-score   support\n",
      "\n",
      "           0       0.96      1.00      0.98      1194\n",
      "           1       0.00      0.00      0.00        55\n",
      "\n",
      "    accuracy                           0.96      1249\n",
      "   macro avg       0.48      0.50      0.49      1249\n",
      "weighted avg       0.91      0.96      0.93      1249\n",
      "\n",
      "              precision    recall  f1-score   support\n",
      "\n",
      "           0       0.95      1.00      0.98      1184\n",
      "           1       1.00      0.12      0.22        65\n",
      "\n",
      "    accuracy                           0.95      1249\n",
      "   macro avg       0.98      0.56      0.60      1249\n",
      "weighted avg       0.96      0.95      0.94      1249\n",
      "\n",
      "              precision    recall  f1-score   support\n",
      "\n",
      "           0       0.87      1.00      0.93      1087\n",
      "           1       0.50      0.02      0.04       162\n",
      "\n",
      "    accuracy                           0.87      1249\n",
      "   macro avg       0.69      0.51      0.48      1249\n",
      "weighted avg       0.82      0.87      0.81      1249\n",
      "\n",
      "              precision    recall  f1-score   support\n",
      "\n",
      "           0       0.93      1.00      0.96      1167\n",
      "           1       0.00      0.00      0.00        82\n",
      "\n",
      "    accuracy                           0.93      1249\n",
      "   macro avg       0.47      0.50      0.48      1249\n",
      "weighted avg       0.87      0.93      0.90      1249\n",
      "\n",
      "              precision    recall  f1-score   support\n",
      "\n",
      "           0       0.95      1.00      0.98      1190\n",
      "           1       0.33      0.02      0.03        59\n",
      "\n",
      "    accuracy                           0.95      1249\n",
      "   macro avg       0.64      0.51      0.50      1249\n",
      "weighted avg       0.92      0.95      0.93      1249\n",
      "\n",
      "              precision    recall  f1-score   support\n",
      "\n",
      "           0       0.95      1.00      0.97      1180\n",
      "           1       0.75      0.04      0.08        69\n",
      "\n",
      "    accuracy                           0.95      1249\n",
      "   macro avg       0.85      0.52      0.53      1249\n",
      "weighted avg       0.94      0.95      0.92      1249\n",
      "\n",
      "              precision    recall  f1-score   support\n",
      "\n",
      "           0       0.98      1.00      0.99      1225\n",
      "           1       0.00      0.00      0.00        24\n",
      "\n",
      "    accuracy                           0.98      1249\n",
      "   macro avg       0.49      0.50      0.50      1249\n",
      "weighted avg       0.96      0.98      0.97      1249\n",
      "\n",
      "              precision    recall  f1-score   support\n",
      "\n",
      "           0       0.99      1.00      1.00      1239\n",
      "           1       0.00      0.00      0.00        10\n",
      "\n",
      "    accuracy                           0.99      1249\n",
      "   macro avg       0.50      0.50      0.50      1249\n",
      "weighted avg       0.98      0.99      0.99      1249\n",
      "\n",
      "              precision    recall  f1-score   support\n",
      "\n",
      "           0       0.99      1.00      1.00      1237\n",
      "           1       0.00      0.00      0.00        12\n",
      "\n",
      "    accuracy                           0.99      1249\n",
      "   macro avg       0.50      0.50      0.50      1249\n",
      "weighted avg       0.98      0.99      0.99      1249\n",
      "\n",
      "              precision    recall  f1-score   support\n",
      "\n",
      "           0       1.00      1.00      1.00      1245\n",
      "           1       0.00      0.00      0.00         4\n",
      "\n",
      "    accuracy                           1.00      1249\n",
      "   macro avg       0.50      0.50      0.50      1249\n",
      "weighted avg       0.99      1.00      1.00      1249\n",
      "\n",
      "              precision    recall  f1-score   support\n",
      "\n",
      "           0       0.99      1.00      0.99      1232\n",
      "           1       0.00      0.00      0.00        17\n",
      "\n",
      "    accuracy                           0.99      1249\n",
      "   macro avg       0.49      0.50      0.50      1249\n",
      "weighted avg       0.97      0.99      0.98      1249\n",
      "\n",
      "              precision    recall  f1-score   support\n",
      "\n",
      "           0       0.95      1.00      0.98      1191\n",
      "           1       0.00      0.00      0.00        58\n",
      "\n",
      "    accuracy                           0.95      1249\n",
      "   macro avg       0.48      0.50      0.49      1249\n",
      "weighted avg       0.91      0.95      0.93      1249\n",
      "\n",
      "              precision    recall  f1-score   support\n",
      "\n",
      "           0       0.77      0.97      0.86       887\n",
      "           1       0.80      0.27      0.41       362\n",
      "\n",
      "    accuracy                           0.77      1249\n",
      "   macro avg       0.79      0.62      0.63      1249\n",
      "weighted avg       0.78      0.77      0.73      1249\n",
      "\n",
      "              precision    recall  f1-score   support\n",
      "\n",
      "           0       0.91      1.00      0.95      1123\n",
      "           1       0.75      0.10      0.17       126\n",
      "\n",
      "    accuracy                           0.91      1249\n",
      "   macro avg       0.83      0.55      0.56      1249\n",
      "weighted avg       0.89      0.91      0.87      1249\n",
      "\n",
      "              precision    recall  f1-score   support\n",
      "\n",
      "           0       0.93      0.99      0.96      1142\n",
      "           1       0.56      0.17      0.26       107\n",
      "\n",
      "    accuracy                           0.92      1249\n",
      "   macro avg       0.74      0.58      0.61      1249\n",
      "weighted avg       0.90      0.92      0.90      1249\n",
      "\n",
      "              precision    recall  f1-score   support\n",
      "\n",
      "           0       0.99      1.00      0.99      1232\n",
      "           1       0.00      0.00      0.00        17\n",
      "\n",
      "    accuracy                           0.99      1249\n",
      "   macro avg       0.49      0.50      0.50      1249\n",
      "weighted avg       0.97      0.99      0.98      1249\n",
      "\n",
      "              precision    recall  f1-score   support\n",
      "\n",
      "           0       0.93      0.99      0.96      1134\n",
      "           1       0.78      0.28      0.41       115\n",
      "\n",
      "    accuracy                           0.93      1249\n",
      "   macro avg       0.86      0.64      0.69      1249\n",
      "weighted avg       0.92      0.93      0.91      1249\n",
      "\n",
      "              precision    recall  f1-score   support\n",
      "\n",
      "           0       0.98      1.00      0.99      1223\n",
      "           1       0.00      0.00      0.00        26\n",
      "\n",
      "    accuracy                           0.98      1249\n",
      "   macro avg       0.49      0.50      0.49      1249\n",
      "weighted avg       0.96      0.98      0.97      1249\n",
      "\n",
      "              precision    recall  f1-score   support\n",
      "\n",
      "           0       0.95      1.00      0.98      1190\n",
      "           1       1.00      0.02      0.03        59\n",
      "\n",
      "    accuracy                           0.95      1249\n",
      "   macro avg       0.98      0.51      0.50      1249\n",
      "weighted avg       0.96      0.95      0.93      1249\n",
      "\n"
     ]
    }
   ],
   "source": [
    "for k in report_cv.keys():\n",
    "    print(report_cv[k])"
   ]
  },
  {
   "cell_type": "markdown",
   "metadata": {},
   "source": [
    "### 8. Try improving your model further. Here are a few ideas:\n",
    "* try other machine learning algorithms\n",
    "* add other features besides the TF-IDF"
   ]
  },
  {
   "cell_type": "markdown",
   "metadata": {},
   "source": [
    "### 9. Export your model as a pickle file"
   ]
  },
  {
   "cell_type": "code",
   "execution_count": null,
   "metadata": {},
   "outputs": [],
   "source": [
    "pickle.dump(pipeline, open('disaster_recovery_pipeline.pkl', 'wb'))"
   ]
  },
  {
   "cell_type": "markdown",
   "metadata": {},
   "source": [
    "### 10. Use this notebook to complete `train.py`\n",
    "Use the template file attached in the Resources folder to write a script that runs the steps above to create a database and export a model based on a new dataset specified by the user."
   ]
  }
 ],
 "metadata": {
  "kernelspec": {
   "display_name": "Python 3 (ipykernel)",
   "language": "python",
   "name": "python3"
  },
  "language_info": {
   "codemirror_mode": {
    "name": "ipython",
    "version": 3
   },
   "file_extension": ".py",
   "mimetype": "text/x-python",
   "name": "python",
   "nbconvert_exporter": "python",
   "pygments_lexer": "ipython3",
   "version": "3.9.13"
  }
 },
 "nbformat": 4,
 "nbformat_minor": 4
}
